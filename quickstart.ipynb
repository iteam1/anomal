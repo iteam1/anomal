{
  "nbformat": 4,
  "nbformat_minor": 0,
  "metadata": {
    "colab": {
      "provenance": []
    },
    "kernelspec": {
      "name": "python3",
      "display_name": "Python 3"
    },
    "language_info": {
      "name": "python"
    },
    "gpuClass": "standard",
    "accelerator": "GPU"
  },
  "cells": [
    {
      "cell_type": "code",
      "source": [],
      "metadata": {
        "id": "Zjpkqje9tuhN"
      },
      "execution_count": null,
      "outputs": []
    },
    {
      "cell_type": "code",
      "source": [
        "# mount google drive\n",
        "from google.colab import drive\n",
        "drive.mount('/content/drive/')"
      ],
      "metadata": {
        "colab": {
          "base_uri": "https://localhost:8080/"
        },
        "id": "H7jxiI08zRcM",
        "outputId": "cf5b68a2-db77-4f6b-e2c0-320c6eaedf8c"
      },
      "execution_count": null,
      "outputs": [
        {
          "output_type": "stream",
          "name": "stdout",
          "text": [
            "Mounted at /content/drive/\n"
          ]
        }
      ]
    },
    {
      "cell_type": "code",
      "execution_count": null,
      "metadata": {
        "colab": {
          "base_uri": "https://localhost:8080/"
        },
        "id": "TriUMVmXbgaO",
        "outputId": "f46c10dd-b14e-44f9-a3a9-774241fb56e4"
      },
      "outputs": [
        {
          "output_type": "stream",
          "name": "stdout",
          "text": [
            "Wed Mar  1 05:48:50 2023       \n",
            "+-----------------------------------------------------------------------------+\n",
            "| NVIDIA-SMI 525.85.12    Driver Version: 525.85.12    CUDA Version: 12.0     |\n",
            "|-------------------------------+----------------------+----------------------+\n",
            "| GPU  Name        Persistence-M| Bus-Id        Disp.A | Volatile Uncorr. ECC |\n",
            "| Fan  Temp  Perf  Pwr:Usage/Cap|         Memory-Usage | GPU-Util  Compute M. |\n",
            "|                               |                      |               MIG M. |\n",
            "|===============================+======================+======================|\n",
            "|   0  Tesla T4            Off  | 00000000:00:04.0 Off |                    0 |\n",
            "| N/A   66C    P0    32W /  70W |      0MiB / 15360MiB |      0%      Default |\n",
            "|                               |                      |                  N/A |\n",
            "+-------------------------------+----------------------+----------------------+\n",
            "                                                                               \n",
            "+-----------------------------------------------------------------------------+\n",
            "| Processes:                                                                  |\n",
            "|  GPU   GI   CI        PID   Type   Process name                  GPU Memory |\n",
            "|        ID   ID                                                   Usage      |\n",
            "|=============================================================================|\n",
            "|  No running processes found                                                 |\n",
            "+-----------------------------------------------------------------------------+\n"
          ]
        }
      ],
      "source": [
        "!nvidia-smi"
      ]
    },
    {
      "cell_type": "code",
      "source": [
        "!git clone https://github.com/openvinotoolkit/anomalib.git"
      ],
      "metadata": {
        "colab": {
          "base_uri": "https://localhost:8080/"
        },
        "id": "mzCQJmKSbnTD",
        "outputId": "0d0a29cc-3145-441c-c3e7-9cca2fee56f6"
      },
      "execution_count": null,
      "outputs": [
        {
          "output_type": "stream",
          "name": "stdout",
          "text": [
            "Cloning into 'anomalib'...\n",
            "remote: Enumerating objects: 25896, done.\u001b[K\n",
            "remote: Counting objects: 100% (454/454), done.\u001b[K\n",
            "remote: Compressing objects: 100% (423/423), done.\u001b[K\n",
            "remote: Total 25896 (delta 45), reused 429 (delta 28), pack-reused 25442\u001b[K\n",
            "Receiving objects: 100% (25896/25896), 1.10 GiB | 37.42 MiB/s, done.\n",
            "Resolving deltas: 100% (14519/14519), done.\n"
          ]
        }
      ]
    },
    {
      "cell_type": "code",
      "source": [
        "!pip install -r /content/anomalib/requirements/base.txt"
      ],
      "metadata": {
        "colab": {
          "base_uri": "https://localhost:8080/",
          "height": 1000
        },
        "id": "o74gi5k1b64_",
        "outputId": "44c68b4a-04c1-4c93-9778-2e1f145bdf24"
      },
      "execution_count": null,
      "outputs": [
        {
          "output_type": "stream",
          "name": "stdout",
          "text": [
            "Looking in indexes: https://pypi.org/simple, https://us-python.pkg.dev/colab-wheels/public/simple/\n",
            "Requirement already satisfied: albumentations>=1.1.0 in /usr/local/lib/python3.8/dist-packages (from -r /content/anomalib/requirements/base.txt (line 1)) (1.2.1)\n",
            "Collecting av>=10.0.0\n",
            "  Downloading av-10.0.0-cp38-cp38-manylinux_2_17_x86_64.manylinux2014_x86_64.whl (31.4 MB)\n",
            "\u001b[2K     \u001b[90m━━━━━━━━━━━━━━━━━━━━━━━━━━━━━━━━━━━━━━━━\u001b[0m \u001b[32m31.4/31.4 MB\u001b[0m \u001b[31m32.1 MB/s\u001b[0m eta \u001b[36m0:00:00\u001b[0m\n",
            "\u001b[?25hCollecting einops>=0.3.2\n",
            "  Downloading einops-0.6.0-py3-none-any.whl (41 kB)\n",
            "\u001b[2K     \u001b[90m━━━━━━━━━━━━━━━━━━━━━━━━━━━━━━━━━━━━━━━━\u001b[0m \u001b[32m41.6/41.6 KB\u001b[0m \u001b[31m4.5 MB/s\u001b[0m eta \u001b[36m0:00:00\u001b[0m\n",
            "\u001b[?25hCollecting freia>=0.2\n",
            "  Downloading FrEIA-0.2.tar.gz (34 kB)\n",
            "  Preparing metadata (setup.py) ... \u001b[?25l\u001b[?25hdone\n",
            "Requirement already satisfied: imgaug==0.4.0 in /usr/local/lib/python3.8/dist-packages (from -r /content/anomalib/requirements/base.txt (line 5)) (0.4.0)\n",
            "Collecting jsonargparse[signatures]>=4.3\n",
            "  Downloading jsonargparse-4.20.0-py3-none-any.whl (183 kB)\n",
            "\u001b[2K     \u001b[90m━━━━━━━━━━━━━━━━━━━━━━━━━━━━━━━━━━━━━━\u001b[0m \u001b[32m183.6/183.6 KB\u001b[0m \u001b[31m19.0 MB/s\u001b[0m eta \u001b[36m0:00:00\u001b[0m\n",
            "\u001b[?25hCollecting kornia<0.6.10,>=0.6.6\n",
            "  Downloading kornia-0.6.9-py2.py3-none-any.whl (569 kB)\n",
            "\u001b[2K     \u001b[90m━━━━━━━━━━━━━━━━━━━━━━━━━━━━━━━━━━━━━━\u001b[0m \u001b[32m569.1/569.1 KB\u001b[0m \u001b[31m56.0 MB/s\u001b[0m eta \u001b[36m0:00:00\u001b[0m\n",
            "\u001b[?25hRequirement already satisfied: matplotlib>=3.4.3 in /usr/local/lib/python3.8/dist-packages (from -r /content/anomalib/requirements/base.txt (line 8)) (3.5.3)\n",
            "Collecting omegaconf>=2.1.1\n",
            "  Downloading omegaconf-2.3.0-py3-none-any.whl (79 kB)\n",
            "\u001b[2K     \u001b[90m━━━━━━━━━━━━━━━━━━━━━━━━━━━━━━━━━━━━━━━━\u001b[0m \u001b[32m79.5/79.5 KB\u001b[0m \u001b[31m11.8 MB/s\u001b[0m eta \u001b[36m0:00:00\u001b[0m\n",
            "\u001b[?25hRequirement already satisfied: opencv-python>=4.5.3.56 in /usr/local/lib/python3.8/dist-packages (from -r /content/anomalib/requirements/base.txt (line 10)) (4.6.0.66)\n",
            "Requirement already satisfied: pandas>=1.1.0 in /usr/local/lib/python3.8/dist-packages (from -r /content/anomalib/requirements/base.txt (line 11)) (1.3.5)\n",
            "Collecting pytorch-lightning<1.10.0,>=1.7.0\n",
            "  Downloading pytorch_lightning-1.9.3-py3-none-any.whl (826 kB)\n",
            "\u001b[2K     \u001b[90m━━━━━━━━━━━━━━━━━━━━━━━━━━━━━━━━━━━━━━\u001b[0m \u001b[32m826.4/826.4 KB\u001b[0m \u001b[31m64.5 MB/s\u001b[0m eta \u001b[36m0:00:00\u001b[0m\n",
            "\u001b[?25hCollecting timm<=0.6.12,>=0.5.4\n",
            "  Downloading timm-0.6.12-py3-none-any.whl (549 kB)\n",
            "\u001b[2K     \u001b[90m━━━━━━━━━━━━━━━━━━━━━━━━━━━━━━━━━━━━━━\u001b[0m \u001b[32m549.1/549.1 KB\u001b[0m \u001b[31m53.7 MB/s\u001b[0m eta \u001b[36m0:00:00\u001b[0m\n",
            "\u001b[?25hCollecting torchmetrics==0.10.3\n",
            "  Downloading torchmetrics-0.10.3-py3-none-any.whl (529 kB)\n",
            "\u001b[2K     \u001b[90m━━━━━━━━━━━━━━━━━━━━━━━━━━━━━━━━━━━━━━\u001b[0m \u001b[32m529.7/529.7 KB\u001b[0m \u001b[31m38.4 MB/s\u001b[0m eta \u001b[36m0:00:00\u001b[0m\n",
            "\u001b[?25hRequirement already satisfied: torchvision>=0.9.1 in /usr/local/lib/python3.8/dist-packages (from -r /content/anomalib/requirements/base.txt (line 15)) (0.14.1+cu116)\n",
            "Requirement already satisfied: torchtext>=0.9.1 in /usr/local/lib/python3.8/dist-packages (from -r /content/anomalib/requirements/base.txt (line 16)) (0.14.1)\n",
            "Requirement already satisfied: six in /usr/local/lib/python3.8/dist-packages (from imgaug==0.4.0->-r /content/anomalib/requirements/base.txt (line 5)) (1.15.0)\n",
            "Requirement already satisfied: Pillow in /usr/local/lib/python3.8/dist-packages (from imgaug==0.4.0->-r /content/anomalib/requirements/base.txt (line 5)) (8.4.0)\n",
            "Requirement already satisfied: imageio in /usr/local/lib/python3.8/dist-packages (from imgaug==0.4.0->-r /content/anomalib/requirements/base.txt (line 5)) (2.9.0)\n",
            "Requirement already satisfied: numpy>=1.15 in /usr/local/lib/python3.8/dist-packages (from imgaug==0.4.0->-r /content/anomalib/requirements/base.txt (line 5)) (1.22.4)\n",
            "Requirement already satisfied: Shapely in /usr/local/lib/python3.8/dist-packages (from imgaug==0.4.0->-r /content/anomalib/requirements/base.txt (line 5)) (2.0.1)\n",
            "Requirement already satisfied: scikit-image>=0.14.2 in /usr/local/lib/python3.8/dist-packages (from imgaug==0.4.0->-r /content/anomalib/requirements/base.txt (line 5)) (0.18.3)\n",
            "Requirement already satisfied: scipy in /usr/local/lib/python3.8/dist-packages (from imgaug==0.4.0->-r /content/anomalib/requirements/base.txt (line 5)) (1.7.3)\n",
            "Requirement already satisfied: typing-extensions in /usr/local/lib/python3.8/dist-packages (from torchmetrics==0.10.3->-r /content/anomalib/requirements/base.txt (line 14)) (4.5.0)\n",
            "Requirement already satisfied: packaging in /usr/local/lib/python3.8/dist-packages (from torchmetrics==0.10.3->-r /content/anomalib/requirements/base.txt (line 14)) (23.0)\n",
            "Requirement already satisfied: torch>=1.3.1 in /usr/local/lib/python3.8/dist-packages (from torchmetrics==0.10.3->-r /content/anomalib/requirements/base.txt (line 14)) (1.13.1+cu116)\n",
            "Requirement already satisfied: qudida>=0.0.4 in /usr/local/lib/python3.8/dist-packages (from albumentations>=1.1.0->-r /content/anomalib/requirements/base.txt (line 1)) (0.0.4)\n",
            "Requirement already satisfied: PyYAML in /usr/local/lib/python3.8/dist-packages (from albumentations>=1.1.0->-r /content/anomalib/requirements/base.txt (line 1)) (6.0)\n",
            "Requirement already satisfied: opencv-python-headless>=4.1.1 in /usr/local/lib/python3.8/dist-packages (from albumentations>=1.1.0->-r /content/anomalib/requirements/base.txt (line 1)) (4.7.0.72)\n",
            "Collecting docstring-parser>=0.15\n",
            "  Downloading docstring_parser-0.15-py3-none-any.whl (36 kB)\n",
            "Collecting typeshed-client>=2.1.0\n",
            "  Downloading typeshed_client-2.2.0-py3-none-any.whl (551 kB)\n",
            "\u001b[2K     \u001b[90m━━━━━━━━━━━━━━━━━━━━━━━━━━━━━━━━━━━━━━\u001b[0m \u001b[32m551.6/551.6 KB\u001b[0m \u001b[31m46.6 MB/s\u001b[0m eta \u001b[36m0:00:00\u001b[0m\n",
            "\u001b[?25hRequirement already satisfied: cycler>=0.10 in /usr/local/lib/python3.8/dist-packages (from matplotlib>=3.4.3->-r /content/anomalib/requirements/base.txt (line 8)) (0.11.0)\n",
            "Requirement already satisfied: python-dateutil>=2.7 in /usr/local/lib/python3.8/dist-packages (from matplotlib>=3.4.3->-r /content/anomalib/requirements/base.txt (line 8)) (2.8.2)\n",
            "Requirement already satisfied: pyparsing>=2.2.1 in /usr/local/lib/python3.8/dist-packages (from matplotlib>=3.4.3->-r /content/anomalib/requirements/base.txt (line 8)) (3.0.9)\n",
            "Requirement already satisfied: fonttools>=4.22.0 in /usr/local/lib/python3.8/dist-packages (from matplotlib>=3.4.3->-r /content/anomalib/requirements/base.txt (line 8)) (4.38.0)\n",
            "Requirement already satisfied: kiwisolver>=1.0.1 in /usr/local/lib/python3.8/dist-packages (from matplotlib>=3.4.3->-r /content/anomalib/requirements/base.txt (line 8)) (1.4.4)\n",
            "Collecting antlr4-python3-runtime==4.9.*\n",
            "  Downloading antlr4-python3-runtime-4.9.3.tar.gz (117 kB)\n",
            "\u001b[2K     \u001b[90m━━━━━━━━━━━━━━━━━━━━━━━━━━━━━━━━━━━━━━\u001b[0m \u001b[32m117.0/117.0 KB\u001b[0m \u001b[31m15.3 MB/s\u001b[0m eta \u001b[36m0:00:00\u001b[0m\n",
            "\u001b[?25h  Preparing metadata (setup.py) ... \u001b[?25l\u001b[?25hdone\n",
            "Requirement already satisfied: pytz>=2017.3 in /usr/local/lib/python3.8/dist-packages (from pandas>=1.1.0->-r /content/anomalib/requirements/base.txt (line 11)) (2022.7.1)\n",
            "Requirement already satisfied: fsspec[http]>2021.06.0 in /usr/local/lib/python3.8/dist-packages (from pytorch-lightning<1.10.0,>=1.7.0->-r /content/anomalib/requirements/base.txt (line 12)) (2023.1.0)\n",
            "Requirement already satisfied: tqdm>=4.57.0 in /usr/local/lib/python3.8/dist-packages (from pytorch-lightning<1.10.0,>=1.7.0->-r /content/anomalib/requirements/base.txt (line 12)) (4.64.1)\n",
            "Collecting lightning-utilities>=0.6.0.post0\n",
            "  Downloading lightning_utilities-0.7.1-py3-none-any.whl (18 kB)\n",
            "Collecting huggingface-hub\n",
            "  Downloading huggingface_hub-0.12.1-py3-none-any.whl (190 kB)\n",
            "\u001b[2K     \u001b[90m━━━━━━━━━━━━━━━━━━━━━━━━━━━━━━━━━━━━━━\u001b[0m \u001b[32m190.3/190.3 KB\u001b[0m \u001b[31m23.7 MB/s\u001b[0m eta \u001b[36m0:00:00\u001b[0m\n",
            "\u001b[?25hRequirement already satisfied: requests in /usr/local/lib/python3.8/dist-packages (from torchvision>=0.9.1->-r /content/anomalib/requirements/base.txt (line 15)) (2.25.1)\n",
            "Requirement already satisfied: aiohttp!=4.0.0a0,!=4.0.0a1 in /usr/local/lib/python3.8/dist-packages (from fsspec[http]>2021.06.0->pytorch-lightning<1.10.0,>=1.7.0->-r /content/anomalib/requirements/base.txt (line 12)) (3.8.4)\n",
            "Requirement already satisfied: scikit-learn>=0.19.1 in /usr/local/lib/python3.8/dist-packages (from qudida>=0.0.4->albumentations>=1.1.0->-r /content/anomalib/requirements/base.txt (line 1)) (1.0.2)\n",
            "Requirement already satisfied: PyWavelets>=1.1.1 in /usr/local/lib/python3.8/dist-packages (from scikit-image>=0.14.2->imgaug==0.4.0->-r /content/anomalib/requirements/base.txt (line 5)) (1.4.1)\n",
            "Requirement already satisfied: networkx>=2.0 in /usr/local/lib/python3.8/dist-packages (from scikit-image>=0.14.2->imgaug==0.4.0->-r /content/anomalib/requirements/base.txt (line 5)) (3.0)\n",
            "Requirement already satisfied: tifffile>=2019.7.26 in /usr/local/lib/python3.8/dist-packages (from scikit-image>=0.14.2->imgaug==0.4.0->-r /content/anomalib/requirements/base.txt (line 5)) (2023.2.3)\n",
            "Requirement already satisfied: importlib-resources>=1.4.0 in /usr/local/lib/python3.8/dist-packages (from typeshed-client>=2.1.0->jsonargparse[signatures]>=4.3->-r /content/anomalib/requirements/base.txt (line 6)) (5.12.0)\n",
            "Requirement already satisfied: filelock in /usr/local/lib/python3.8/dist-packages (from huggingface-hub->timm<=0.6.12,>=0.5.4->-r /content/anomalib/requirements/base.txt (line 13)) (3.9.0)\n",
            "Requirement already satisfied: urllib3<1.27,>=1.21.1 in /usr/local/lib/python3.8/dist-packages (from requests->torchvision>=0.9.1->-r /content/anomalib/requirements/base.txt (line 15)) (1.26.14)\n",
            "Requirement already satisfied: chardet<5,>=3.0.2 in /usr/local/lib/python3.8/dist-packages (from requests->torchvision>=0.9.1->-r /content/anomalib/requirements/base.txt (line 15)) (4.0.0)\n",
            "Requirement already satisfied: idna<3,>=2.5 in /usr/local/lib/python3.8/dist-packages (from requests->torchvision>=0.9.1->-r /content/anomalib/requirements/base.txt (line 15)) (2.10)\n",
            "Requirement already satisfied: certifi>=2017.4.17 in /usr/local/lib/python3.8/dist-packages (from requests->torchvision>=0.9.1->-r /content/anomalib/requirements/base.txt (line 15)) (2022.12.7)\n",
            "Requirement already satisfied: yarl<2.0,>=1.0 in /usr/local/lib/python3.8/dist-packages (from aiohttp!=4.0.0a0,!=4.0.0a1->fsspec[http]>2021.06.0->pytorch-lightning<1.10.0,>=1.7.0->-r /content/anomalib/requirements/base.txt (line 12)) (1.8.2)\n",
            "Requirement already satisfied: attrs>=17.3.0 in /usr/local/lib/python3.8/dist-packages (from aiohttp!=4.0.0a0,!=4.0.0a1->fsspec[http]>2021.06.0->pytorch-lightning<1.10.0,>=1.7.0->-r /content/anomalib/requirements/base.txt (line 12)) (22.2.0)\n",
            "Requirement already satisfied: frozenlist>=1.1.1 in /usr/local/lib/python3.8/dist-packages (from aiohttp!=4.0.0a0,!=4.0.0a1->fsspec[http]>2021.06.0->pytorch-lightning<1.10.0,>=1.7.0->-r /content/anomalib/requirements/base.txt (line 12)) (1.3.3)\n",
            "Requirement already satisfied: aiosignal>=1.1.2 in /usr/local/lib/python3.8/dist-packages (from aiohttp!=4.0.0a0,!=4.0.0a1->fsspec[http]>2021.06.0->pytorch-lightning<1.10.0,>=1.7.0->-r /content/anomalib/requirements/base.txt (line 12)) (1.3.1)\n",
            "Requirement already satisfied: async-timeout<5.0,>=4.0.0a3 in /usr/local/lib/python3.8/dist-packages (from aiohttp!=4.0.0a0,!=4.0.0a1->fsspec[http]>2021.06.0->pytorch-lightning<1.10.0,>=1.7.0->-r /content/anomalib/requirements/base.txt (line 12)) (4.0.2)\n",
            "Requirement already satisfied: charset-normalizer<4.0,>=2.0 in /usr/local/lib/python3.8/dist-packages (from aiohttp!=4.0.0a0,!=4.0.0a1->fsspec[http]>2021.06.0->pytorch-lightning<1.10.0,>=1.7.0->-r /content/anomalib/requirements/base.txt (line 12)) (3.0.1)\n",
            "Requirement already satisfied: multidict<7.0,>=4.5 in /usr/local/lib/python3.8/dist-packages (from aiohttp!=4.0.0a0,!=4.0.0a1->fsspec[http]>2021.06.0->pytorch-lightning<1.10.0,>=1.7.0->-r /content/anomalib/requirements/base.txt (line 12)) (6.0.4)\n",
            "Requirement already satisfied: zipp>=3.1.0 in /usr/local/lib/python3.8/dist-packages (from importlib-resources>=1.4.0->typeshed-client>=2.1.0->jsonargparse[signatures]>=4.3->-r /content/anomalib/requirements/base.txt (line 6)) (3.15.0)\n",
            "Requirement already satisfied: joblib>=0.11 in /usr/local/lib/python3.8/dist-packages (from scikit-learn>=0.19.1->qudida>=0.0.4->albumentations>=1.1.0->-r /content/anomalib/requirements/base.txt (line 1)) (1.2.0)\n",
            "Requirement already satisfied: threadpoolctl>=2.0.0 in /usr/local/lib/python3.8/dist-packages (from scikit-learn>=0.19.1->qudida>=0.0.4->albumentations>=1.1.0->-r /content/anomalib/requirements/base.txt (line 1)) (3.1.0)\n",
            "Building wheels for collected packages: freia, antlr4-python3-runtime\n",
            "  Building wheel for freia (setup.py) ... \u001b[?25l\u001b[?25hdone\n",
            "  Created wheel for freia: filename=FrEIA-0.2-py3-none-any.whl size=42782 sha256=89f860404bbceb1c5276c175de4bd848f58baa530472a3acaf2e52981915dcd3\n",
            "  Stored in directory: /root/.cache/pip/wheels/eb/ca/3d/997eff7a352005224fda9020c8b6bbb50c66523f6d6e9d448e\n",
            "  Building wheel for antlr4-python3-runtime (setup.py) ... \u001b[?25l\u001b[?25hdone\n",
            "  Created wheel for antlr4-python3-runtime: filename=antlr4_python3_runtime-4.9.3-py3-none-any.whl size=144575 sha256=6fefbc9d983d60d3c810f76adec51e1dd4ca868aa0c2afa1952a005754678b99\n",
            "  Stored in directory: /root/.cache/pip/wheels/b1/a3/c2/6df046c09459b73cc9bb6c4401b0be6c47048baf9a1617c485\n",
            "Successfully built freia antlr4-python3-runtime\n",
            "Installing collected packages: av, antlr4-python3-runtime, omegaconf, lightning-utilities, jsonargparse, einops, docstring-parser, typeshed-client, torchmetrics, kornia, huggingface-hub, freia, timm, pytorch-lightning\n",
            "Successfully installed antlr4-python3-runtime-4.9.3 av-10.0.0 docstring-parser-0.15 einops-0.6.0 freia-0.2 huggingface-hub-0.12.1 jsonargparse-4.20.0 kornia-0.6.9 lightning-utilities-0.7.1 omegaconf-2.3.0 pytorch-lightning-1.9.3 timm-0.6.12 torchmetrics-0.10.3 typeshed-client-2.2.0\n"
          ]
        },
        {
          "output_type": "display_data",
          "data": {
            "application/vnd.colab-display-data+json": {
              "pip_warning": {
                "packages": [
                  "pydevd_plugins"
                ]
              }
            }
          },
          "metadata": {}
        }
      ]
    },
    {
      "cell_type": "code",
      "source": [
        "!pip install anomalib==0.4.0rc2"
      ],
      "metadata": {
        "colab": {
          "base_uri": "https://localhost:8080/"
        },
        "id": "5l0yHkIsrB2x",
        "outputId": "800072c0-3821-4d82-977b-3d32e6d1d98e"
      },
      "execution_count": null,
      "outputs": [
        {
          "output_type": "stream",
          "name": "stdout",
          "text": [
            "Looking in indexes: https://pypi.org/simple, https://us-python.pkg.dev/colab-wheels/public/simple/\n",
            "Collecting anomalib==0.4.0rc2\n",
            "  Downloading anomalib-0.4.0rc2-py3-none-any.whl (346 kB)\n",
            "\u001b[?25l     \u001b[90m━━━━━━━━━━━━━━━━━━━━━━━━━━━━━━━━━━━━━━━━\u001b[0m \u001b[32m0.0/346.9 KB\u001b[0m \u001b[31m?\u001b[0m eta \u001b[36m-:--:--\u001b[0m\r\u001b[2K     \u001b[90m━━━━━━━━━━━━━━━━━━━━━━━━━━━━━━━━━━━━━━\u001b[0m \u001b[32m346.9/346.9 KB\u001b[0m \u001b[31m22.2 MB/s\u001b[0m eta \u001b[36m0:00:00\u001b[0m\n",
            "\u001b[?25hRequirement already satisfied: pandas>=1.1.0 in /usr/local/lib/python3.8/dist-packages (from anomalib==0.4.0rc2) (1.3.5)\n",
            "Requirement already satisfied: einops>=0.3.2 in /usr/local/lib/python3.8/dist-packages (from anomalib==0.4.0rc2) (0.6.0)\n",
            "Requirement already satisfied: imgaug==0.4.0 in /usr/local/lib/python3.8/dist-packages (from anomalib==0.4.0rc2) (0.4.0)\n",
            "Requirement already satisfied: albumentations>=1.1.0 in /usr/local/lib/python3.8/dist-packages (from anomalib==0.4.0rc2) (1.2.1)\n",
            "Requirement already satisfied: omegaconf>=2.1.1 in /usr/local/lib/python3.8/dist-packages (from anomalib==0.4.0rc2) (2.3.0)\n",
            "Requirement already satisfied: opencv-python>=4.5.3.56 in /usr/local/lib/python3.8/dist-packages (from anomalib==0.4.0rc2) (4.6.0.66)\n",
            "Requirement already satisfied: torchmetrics==0.10.3 in /usr/local/lib/python3.8/dist-packages (from anomalib==0.4.0rc2) (0.10.3)\n",
            "Requirement already satisfied: torchvision>=0.9.1 in /usr/local/lib/python3.8/dist-packages (from anomalib==0.4.0rc2) (0.14.1+cu116)\n",
            "Requirement already satisfied: torchtext>=0.9.1 in /usr/local/lib/python3.8/dist-packages (from anomalib==0.4.0rc2) (0.14.1)\n",
            "Requirement already satisfied: freia>=0.2 in /usr/local/lib/python3.8/dist-packages (from anomalib==0.4.0rc2) (0.2)\n",
            "Requirement already satisfied: pytorch-lightning<1.10.0,>=1.7.0 in /usr/local/lib/python3.8/dist-packages (from anomalib==0.4.0rc2) (1.9.3)\n",
            "Requirement already satisfied: kornia>=0.6.6 in /usr/local/lib/python3.8/dist-packages (from anomalib==0.4.0rc2) (0.6.9)\n",
            "Requirement already satisfied: av>=10.0.0 in /usr/local/lib/python3.8/dist-packages (from anomalib==0.4.0rc2) (10.0.0)\n",
            "Requirement already satisfied: matplotlib>=3.4.3 in /usr/local/lib/python3.8/dist-packages (from anomalib==0.4.0rc2) (3.5.3)\n",
            "Requirement already satisfied: timm<=0.6.12,>=0.5.4 in /usr/local/lib/python3.8/dist-packages (from anomalib==0.4.0rc2) (0.6.12)\n",
            "Requirement already satisfied: jsonargparse[signatures]>=4.3 in /usr/local/lib/python3.8/dist-packages (from anomalib==0.4.0rc2) (4.20.0)\n",
            "Requirement already satisfied: Pillow in /usr/local/lib/python3.8/dist-packages (from imgaug==0.4.0->anomalib==0.4.0rc2) (8.4.0)\n",
            "Requirement already satisfied: six in /usr/local/lib/python3.8/dist-packages (from imgaug==0.4.0->anomalib==0.4.0rc2) (1.15.0)\n",
            "Requirement already satisfied: scikit-image>=0.14.2 in /usr/local/lib/python3.8/dist-packages (from imgaug==0.4.0->anomalib==0.4.0rc2) (0.18.3)\n",
            "Requirement already satisfied: imageio in /usr/local/lib/python3.8/dist-packages (from imgaug==0.4.0->anomalib==0.4.0rc2) (2.9.0)\n",
            "Requirement already satisfied: numpy>=1.15 in /usr/local/lib/python3.8/dist-packages (from imgaug==0.4.0->anomalib==0.4.0rc2) (1.22.4)\n",
            "Requirement already satisfied: Shapely in /usr/local/lib/python3.8/dist-packages (from imgaug==0.4.0->anomalib==0.4.0rc2) (2.0.1)\n",
            "Requirement already satisfied: scipy in /usr/local/lib/python3.8/dist-packages (from imgaug==0.4.0->anomalib==0.4.0rc2) (1.7.3)\n",
            "Requirement already satisfied: packaging in /usr/local/lib/python3.8/dist-packages (from torchmetrics==0.10.3->anomalib==0.4.0rc2) (23.0)\n",
            "Requirement already satisfied: torch>=1.3.1 in /usr/local/lib/python3.8/dist-packages (from torchmetrics==0.10.3->anomalib==0.4.0rc2) (1.13.1+cu116)\n",
            "Requirement already satisfied: typing-extensions in /usr/local/lib/python3.8/dist-packages (from torchmetrics==0.10.3->anomalib==0.4.0rc2) (4.5.0)\n",
            "Requirement already satisfied: qudida>=0.0.4 in /usr/local/lib/python3.8/dist-packages (from albumentations>=1.1.0->anomalib==0.4.0rc2) (0.0.4)\n",
            "Requirement already satisfied: PyYAML in /usr/local/lib/python3.8/dist-packages (from albumentations>=1.1.0->anomalib==0.4.0rc2) (6.0)\n",
            "Requirement already satisfied: opencv-python-headless>=4.1.1 in /usr/local/lib/python3.8/dist-packages (from albumentations>=1.1.0->anomalib==0.4.0rc2) (4.7.0.72)\n",
            "Requirement already satisfied: docstring-parser>=0.15 in /usr/local/lib/python3.8/dist-packages (from jsonargparse[signatures]>=4.3->anomalib==0.4.0rc2) (0.15)\n",
            "Requirement already satisfied: typeshed-client>=2.1.0 in /usr/local/lib/python3.8/dist-packages (from jsonargparse[signatures]>=4.3->anomalib==0.4.0rc2) (2.2.0)\n",
            "Requirement already satisfied: kiwisolver>=1.0.1 in /usr/local/lib/python3.8/dist-packages (from matplotlib>=3.4.3->anomalib==0.4.0rc2) (1.4.4)\n",
            "Requirement already satisfied: fonttools>=4.22.0 in /usr/local/lib/python3.8/dist-packages (from matplotlib>=3.4.3->anomalib==0.4.0rc2) (4.38.0)\n",
            "Requirement already satisfied: pyparsing>=2.2.1 in /usr/local/lib/python3.8/dist-packages (from matplotlib>=3.4.3->anomalib==0.4.0rc2) (3.0.9)\n",
            "Requirement already satisfied: cycler>=0.10 in /usr/local/lib/python3.8/dist-packages (from matplotlib>=3.4.3->anomalib==0.4.0rc2) (0.11.0)\n",
            "Requirement already satisfied: python-dateutil>=2.7 in /usr/local/lib/python3.8/dist-packages (from matplotlib>=3.4.3->anomalib==0.4.0rc2) (2.8.2)\n",
            "Requirement already satisfied: antlr4-python3-runtime==4.9.* in /usr/local/lib/python3.8/dist-packages (from omegaconf>=2.1.1->anomalib==0.4.0rc2) (4.9.3)\n",
            "Requirement already satisfied: pytz>=2017.3 in /usr/local/lib/python3.8/dist-packages (from pandas>=1.1.0->anomalib==0.4.0rc2) (2022.7.1)\n",
            "Requirement already satisfied: tqdm>=4.57.0 in /usr/local/lib/python3.8/dist-packages (from pytorch-lightning<1.10.0,>=1.7.0->anomalib==0.4.0rc2) (4.64.1)\n",
            "Requirement already satisfied: fsspec[http]>2021.06.0 in /usr/local/lib/python3.8/dist-packages (from pytorch-lightning<1.10.0,>=1.7.0->anomalib==0.4.0rc2) (2023.1.0)\n",
            "Requirement already satisfied: lightning-utilities>=0.6.0.post0 in /usr/local/lib/python3.8/dist-packages (from pytorch-lightning<1.10.0,>=1.7.0->anomalib==0.4.0rc2) (0.7.1)\n",
            "Requirement already satisfied: huggingface-hub in /usr/local/lib/python3.8/dist-packages (from timm<=0.6.12,>=0.5.4->anomalib==0.4.0rc2) (0.12.1)\n",
            "Requirement already satisfied: requests in /usr/local/lib/python3.8/dist-packages (from torchtext>=0.9.1->anomalib==0.4.0rc2) (2.25.1)\n",
            "Requirement already satisfied: aiohttp!=4.0.0a0,!=4.0.0a1 in /usr/local/lib/python3.8/dist-packages (from fsspec[http]>2021.06.0->pytorch-lightning<1.10.0,>=1.7.0->anomalib==0.4.0rc2) (3.8.4)\n",
            "Requirement already satisfied: scikit-learn>=0.19.1 in /usr/local/lib/python3.8/dist-packages (from qudida>=0.0.4->albumentations>=1.1.0->anomalib==0.4.0rc2) (1.0.2)\n",
            "Requirement already satisfied: networkx>=2.0 in /usr/local/lib/python3.8/dist-packages (from scikit-image>=0.14.2->imgaug==0.4.0->anomalib==0.4.0rc2) (3.0)\n",
            "Requirement already satisfied: PyWavelets>=1.1.1 in /usr/local/lib/python3.8/dist-packages (from scikit-image>=0.14.2->imgaug==0.4.0->anomalib==0.4.0rc2) (1.4.1)\n",
            "Requirement already satisfied: tifffile>=2019.7.26 in /usr/local/lib/python3.8/dist-packages (from scikit-image>=0.14.2->imgaug==0.4.0->anomalib==0.4.0rc2) (2023.2.3)\n",
            "Requirement already satisfied: importlib-resources>=1.4.0 in /usr/local/lib/python3.8/dist-packages (from typeshed-client>=2.1.0->jsonargparse[signatures]>=4.3->anomalib==0.4.0rc2) (5.12.0)\n",
            "Requirement already satisfied: filelock in /usr/local/lib/python3.8/dist-packages (from huggingface-hub->timm<=0.6.12,>=0.5.4->anomalib==0.4.0rc2) (3.9.0)\n",
            "Requirement already satisfied: chardet<5,>=3.0.2 in /usr/local/lib/python3.8/dist-packages (from requests->torchtext>=0.9.1->anomalib==0.4.0rc2) (4.0.0)\n",
            "Requirement already satisfied: idna<3,>=2.5 in /usr/local/lib/python3.8/dist-packages (from requests->torchtext>=0.9.1->anomalib==0.4.0rc2) (2.10)\n",
            "Requirement already satisfied: certifi>=2017.4.17 in /usr/local/lib/python3.8/dist-packages (from requests->torchtext>=0.9.1->anomalib==0.4.0rc2) (2022.12.7)\n",
            "Requirement already satisfied: urllib3<1.27,>=1.21.1 in /usr/local/lib/python3.8/dist-packages (from requests->torchtext>=0.9.1->anomalib==0.4.0rc2) (1.26.14)\n",
            "Requirement already satisfied: frozenlist>=1.1.1 in /usr/local/lib/python3.8/dist-packages (from aiohttp!=4.0.0a0,!=4.0.0a1->fsspec[http]>2021.06.0->pytorch-lightning<1.10.0,>=1.7.0->anomalib==0.4.0rc2) (1.3.3)\n",
            "Requirement already satisfied: async-timeout<5.0,>=4.0.0a3 in /usr/local/lib/python3.8/dist-packages (from aiohttp!=4.0.0a0,!=4.0.0a1->fsspec[http]>2021.06.0->pytorch-lightning<1.10.0,>=1.7.0->anomalib==0.4.0rc2) (4.0.2)\n",
            "Requirement already satisfied: multidict<7.0,>=4.5 in /usr/local/lib/python3.8/dist-packages (from aiohttp!=4.0.0a0,!=4.0.0a1->fsspec[http]>2021.06.0->pytorch-lightning<1.10.0,>=1.7.0->anomalib==0.4.0rc2) (6.0.4)\n",
            "Requirement already satisfied: yarl<2.0,>=1.0 in /usr/local/lib/python3.8/dist-packages (from aiohttp!=4.0.0a0,!=4.0.0a1->fsspec[http]>2021.06.0->pytorch-lightning<1.10.0,>=1.7.0->anomalib==0.4.0rc2) (1.8.2)\n",
            "Requirement already satisfied: charset-normalizer<4.0,>=2.0 in /usr/local/lib/python3.8/dist-packages (from aiohttp!=4.0.0a0,!=4.0.0a1->fsspec[http]>2021.06.0->pytorch-lightning<1.10.0,>=1.7.0->anomalib==0.4.0rc2) (3.0.1)\n",
            "Requirement already satisfied: attrs>=17.3.0 in /usr/local/lib/python3.8/dist-packages (from aiohttp!=4.0.0a0,!=4.0.0a1->fsspec[http]>2021.06.0->pytorch-lightning<1.10.0,>=1.7.0->anomalib==0.4.0rc2) (22.2.0)\n",
            "Requirement already satisfied: aiosignal>=1.1.2 in /usr/local/lib/python3.8/dist-packages (from aiohttp!=4.0.0a0,!=4.0.0a1->fsspec[http]>2021.06.0->pytorch-lightning<1.10.0,>=1.7.0->anomalib==0.4.0rc2) (1.3.1)\n",
            "Requirement already satisfied: zipp>=3.1.0 in /usr/local/lib/python3.8/dist-packages (from importlib-resources>=1.4.0->typeshed-client>=2.1.0->jsonargparse[signatures]>=4.3->anomalib==0.4.0rc2) (3.15.0)\n",
            "Requirement already satisfied: threadpoolctl>=2.0.0 in /usr/local/lib/python3.8/dist-packages (from scikit-learn>=0.19.1->qudida>=0.0.4->albumentations>=1.1.0->anomalib==0.4.0rc2) (3.1.0)\n",
            "Requirement already satisfied: joblib>=0.11 in /usr/local/lib/python3.8/dist-packages (from scikit-learn>=0.19.1->qudida>=0.0.4->albumentations>=1.1.0->anomalib==0.4.0rc2) (1.2.0)\n",
            "Installing collected packages: anomalib\n",
            "Successfully installed anomalib-0.4.0rc2\n"
          ]
        }
      ]
    },
    {
      "cell_type": "code",
      "source": [
        "!pip install wandb"
      ],
      "metadata": {
        "colab": {
          "base_uri": "https://localhost:8080/"
        },
        "id": "fsUxt0QMvv3c",
        "outputId": "37669f77-a43f-4cdf-ac2a-6d3aaa1efa4a"
      },
      "execution_count": null,
      "outputs": [
        {
          "output_type": "stream",
          "name": "stdout",
          "text": [
            "Looking in indexes: https://pypi.org/simple, https://us-python.pkg.dev/colab-wheels/public/simple/\n",
            "Collecting wandb\n",
            "  Downloading wandb-0.13.10-py3-none-any.whl (2.0 MB)\n",
            "\u001b[2K     \u001b[90m━━━━━━━━━━━━━━━━━━━━━━━━━━━━━━━━━━━━━━━━\u001b[0m \u001b[32m2.0/2.0 MB\u001b[0m \u001b[31m47.6 MB/s\u001b[0m eta \u001b[36m0:00:00\u001b[0m\n",
            "\u001b[?25hCollecting docker-pycreds>=0.4.0\n",
            "  Downloading docker_pycreds-0.4.0-py2.py3-none-any.whl (9.0 kB)\n",
            "Requirement already satisfied: PyYAML in /usr/local/lib/python3.8/dist-packages (from wandb) (6.0)\n",
            "Requirement already satisfied: setuptools in /usr/local/lib/python3.8/dist-packages (from wandb) (57.4.0)\n",
            "Requirement already satisfied: psutil>=5.0.0 in /usr/local/lib/python3.8/dist-packages (from wandb) (5.4.8)\n",
            "Requirement already satisfied: typing-extensions in /usr/local/lib/python3.8/dist-packages (from wandb) (4.5.0)\n",
            "Collecting sentry-sdk>=1.0.0\n",
            "  Downloading sentry_sdk-1.16.0-py2.py3-none-any.whl (184 kB)\n",
            "\u001b[2K     \u001b[90m━━━━━━━━━━━━━━━━━━━━━━━━━━━━━━━━━━━━━━\u001b[0m \u001b[32m184.3/184.3 KB\u001b[0m \u001b[31m20.2 MB/s\u001b[0m eta \u001b[36m0:00:00\u001b[0m\n",
            "\u001b[?25hCollecting GitPython>=1.0.0\n",
            "  Downloading GitPython-3.1.31-py3-none-any.whl (184 kB)\n",
            "\u001b[2K     \u001b[90m━━━━━━━━━━━━━━━━━━━━━━━━━━━━━━━━━━━━━━\u001b[0m \u001b[32m184.3/184.3 KB\u001b[0m \u001b[31m19.0 MB/s\u001b[0m eta \u001b[36m0:00:00\u001b[0m\n",
            "\u001b[?25hCollecting setproctitle\n",
            "  Downloading setproctitle-1.3.2-cp38-cp38-manylinux_2_5_x86_64.manylinux1_x86_64.manylinux_2_17_x86_64.manylinux2014_x86_64.whl (31 kB)\n",
            "Requirement already satisfied: requests<3,>=2.0.0 in /usr/local/lib/python3.8/dist-packages (from wandb) (2.25.1)\n",
            "Requirement already satisfied: protobuf!=4.21.0,<5,>=3.12.0 in /usr/local/lib/python3.8/dist-packages (from wandb) (3.19.6)\n",
            "Requirement already satisfied: appdirs>=1.4.3 in /usr/local/lib/python3.8/dist-packages (from wandb) (1.4.4)\n",
            "Requirement already satisfied: Click!=8.0.0,>=7.0 in /usr/local/lib/python3.8/dist-packages (from wandb) (8.1.3)\n",
            "Collecting pathtools\n",
            "  Downloading pathtools-0.1.2.tar.gz (11 kB)\n",
            "  Preparing metadata (setup.py) ... \u001b[?25l\u001b[?25hdone\n",
            "Requirement already satisfied: six>=1.4.0 in /usr/local/lib/python3.8/dist-packages (from docker-pycreds>=0.4.0->wandb) (1.15.0)\n",
            "Collecting gitdb<5,>=4.0.1\n",
            "  Downloading gitdb-4.0.10-py3-none-any.whl (62 kB)\n",
            "\u001b[2K     \u001b[90m━━━━━━━━━━━━━━━━━━━━━━━━━━━━━━━━━━━━━━━━\u001b[0m \u001b[32m62.7/62.7 KB\u001b[0m \u001b[31m7.6 MB/s\u001b[0m eta \u001b[36m0:00:00\u001b[0m\n",
            "\u001b[?25hRequirement already satisfied: urllib3<1.27,>=1.21.1 in /usr/local/lib/python3.8/dist-packages (from requests<3,>=2.0.0->wandb) (1.26.14)\n",
            "Requirement already satisfied: idna<3,>=2.5 in /usr/local/lib/python3.8/dist-packages (from requests<3,>=2.0.0->wandb) (2.10)\n",
            "Requirement already satisfied: certifi>=2017.4.17 in /usr/local/lib/python3.8/dist-packages (from requests<3,>=2.0.0->wandb) (2022.12.7)\n",
            "Requirement already satisfied: chardet<5,>=3.0.2 in /usr/local/lib/python3.8/dist-packages (from requests<3,>=2.0.0->wandb) (4.0.0)\n",
            "Collecting smmap<6,>=3.0.1\n",
            "  Downloading smmap-5.0.0-py3-none-any.whl (24 kB)\n",
            "Building wheels for collected packages: pathtools\n",
            "  Building wheel for pathtools (setup.py) ... \u001b[?25l\u001b[?25hdone\n",
            "  Created wheel for pathtools: filename=pathtools-0.1.2-py3-none-any.whl size=8806 sha256=7dce18af32d64439f0010ec0a188242021d77acae9c4ca6538fd5792b9a52a53\n",
            "  Stored in directory: /root/.cache/pip/wheels/4c/8e/7e/72fbc243e1aeecae64a96875432e70d4e92f3d2d18123be004\n",
            "Successfully built pathtools\n",
            "Installing collected packages: pathtools, smmap, setproctitle, sentry-sdk, docker-pycreds, gitdb, GitPython, wandb\n",
            "Successfully installed GitPython-3.1.31 docker-pycreds-0.4.0 gitdb-4.0.10 pathtools-0.1.2 sentry-sdk-1.16.0 setproctitle-1.3.2 smmap-5.0.0 wandb-0.13.10\n"
          ]
        }
      ]
    },
    {
      "cell_type": "code",
      "source": [
        "!pwd"
      ],
      "metadata": {
        "colab": {
          "base_uri": "https://localhost:8080/"
        },
        "id": "Zn9lPs3ArNlz",
        "outputId": "c91a8230-e5aa-450a-f17c-088fafa7b504"
      },
      "execution_count": null,
      "outputs": [
        {
          "output_type": "stream",
          "name": "stdout",
          "text": [
            "/content\n"
          ]
        }
      ]
    },
    {
      "cell_type": "code",
      "source": [
        "!ls"
      ],
      "metadata": {
        "colab": {
          "base_uri": "https://localhost:8080/"
        },
        "id": "qPngSU84qseQ",
        "outputId": "daabebd3-242f-4eab-890a-2ef970a9a92b"
      },
      "execution_count": null,
      "outputs": [
        {
          "output_type": "stream",
          "name": "stdout",
          "text": [
            "anomalib  sample_data\n"
          ]
        }
      ]
    },
    {
      "cell_type": "code",
      "source": [
        "%cd anomalib"
      ],
      "metadata": {
        "colab": {
          "base_uri": "https://localhost:8080/"
        },
        "id": "vO1Ius4-slmQ",
        "outputId": "08d8499f-7f43-4036-9ad0-e47df503b563"
      },
      "execution_count": null,
      "outputs": [
        {
          "output_type": "stream",
          "name": "stdout",
          "text": [
            "/content/anomalib\n"
          ]
        }
      ]
    },
    {
      "cell_type": "code",
      "source": [
        "!python3 tools/train.py"
      ],
      "metadata": {
        "colab": {
          "base_uri": "https://localhost:8080/"
        },
        "id": "9MQQyKjpqRSr",
        "outputId": "d7c1914c-f7e4-4ff9-fa43-dc5001f6bcd5"
      },
      "execution_count": null,
      "outputs": [
        {
          "output_type": "stream",
          "name": "stdout",
          "text": [
            "To use wandb logger install it using `pip install wandb`\n",
            "/usr/local/lib/python3.8/dist-packages/anomalib/config/config.py:275: UserWarning: config.project.unique_dir is set to False. This does not ensure that your results will be written in an empty directory and you may overwrite files.\n",
            "  warn(\n",
            "Global seed set to 42\n",
            "2023-03-01 05:52:07,782 - anomalib.data - INFO - Loading the datamodule\n",
            "2023-03-01 05:52:07,782 - anomalib.data.utils.transform - INFO - No config file has been provided. Using default transforms.\n",
            "2023-03-01 05:52:07,783 - anomalib.data.utils.transform - INFO - No config file has been provided. Using default transforms.\n",
            "2023-03-01 05:52:07,783 - anomalib.models - INFO - Loading the model.\n",
            "2023-03-01 05:52:07,783 - anomalib.models.components.base.anomaly_module - INFO - Initializing PadimLightning model.\n",
            "/usr/local/lib/python3.8/dist-packages/torchmetrics/utilities/prints.py:36: UserWarning: Metric `PrecisionRecallCurve` will save all targets and predictions in buffer. For large datasets this may lead to large memory footprint.\n",
            "  warnings.warn(*args, **kwargs)\n",
            "2023-03-01 05:52:07,804 - anomalib.models.components.feature_extractors.timm - WARNING - FeatureExtractor is deprecated. Use TimmFeatureExtractor instead. Both FeatureExtractor and TimmFeatureExtractor will be removed in a future release.\n",
            "2023-03-01 05:52:08,152 - timm.models.helpers - INFO - Loading pretrained weights from url (https://download.pytorch.org/models/resnet18-5c106cde.pth)\n",
            "Downloading: \"https://download.pytorch.org/models/resnet18-5c106cde.pth\" to /root/.cache/torch/hub/checkpoints/resnet18-5c106cde.pth\n",
            "2023-03-01 05:52:08,901 - anomalib.utils.loggers - INFO - Loading the experiment logger(s)\n",
            "2023-03-01 05:52:08,902 - anomalib.utils.callbacks - INFO - Loading the callbacks\n",
            "/usr/local/lib/python3.8/dist-packages/anomalib/utils/callbacks/__init__.py:142: UserWarning: Export option: None not found. Defaulting to no model export\n",
            "  warnings.warn(f\"Export option: {config.optimization.export_mode} not found. Defaulting to no model export\")\n",
            "2023-03-01 05:52:09,592 - pytorch_lightning.utilities.rank_zero - INFO - GPU available: True (cuda), used: True\n",
            "2023-03-01 05:52:09,592 - pytorch_lightning.utilities.rank_zero - INFO - TPU available: False, using: 0 TPU cores\n",
            "2023-03-01 05:52:09,592 - pytorch_lightning.utilities.rank_zero - INFO - IPU available: False, using: 0 IPUs\n",
            "2023-03-01 05:52:09,592 - pytorch_lightning.utilities.rank_zero - INFO - HPU available: False, using: 0 HPUs\n",
            "2023-03-01 05:52:09,592 - pytorch_lightning.utilities.rank_zero - INFO - `Trainer(limit_train_batches=1.0)` was configured so 100% of the batches per epoch will be used..\n",
            "2023-03-01 05:52:09,592 - pytorch_lightning.utilities.rank_zero - INFO - `Trainer(limit_val_batches=1.0)` was configured so 100% of the batches will be used..\n",
            "2023-03-01 05:52:09,593 - pytorch_lightning.utilities.rank_zero - INFO - `Trainer(limit_test_batches=1.0)` was configured so 100% of the batches will be used..\n",
            "2023-03-01 05:52:09,593 - pytorch_lightning.utilities.rank_zero - INFO - `Trainer(limit_predict_batches=1.0)` was configured so 100% of the batches will be used..\n",
            "2023-03-01 05:52:09,593 - pytorch_lightning.utilities.rank_zero - INFO - `Trainer(val_check_interval=1.0)` was configured so validation will run at the end of the training epoch..\n",
            "2023-03-01 05:52:09,593 - anomalib - INFO - Training the model.\n",
            "2023-03-01 05:52:09,602 - anomalib.data.utils.download - INFO - Downloading the mvtec dataset.\n",
            "mvtec: 5.26GB [03:48, 23.1MB/s]                \n",
            "2023-03-01 05:55:57,630 - anomalib.data.utils.download - INFO - Checking the hash of the downloaded file.\n",
            "2023-03-01 05:56:11,302 - anomalib.data.utils.download - INFO - Extracting dataset into root folder.\n",
            "2023-03-01 05:57:09,402 - anomalib.data.utils.download - INFO - Cleaning up files.\n",
            "/usr/local/lib/python3.8/dist-packages/torchmetrics/utilities/prints.py:36: UserWarning: Metric `ROC` will save all targets and predictions in buffer. For large datasets this may lead to large memory footprint.\n",
            "  warnings.warn(*args, **kwargs)\n",
            "2023-03-01 05:57:14,788 - pytorch_lightning.accelerators.cuda - INFO - LOCAL_RANK: 0 - CUDA_VISIBLE_DEVICES: [0]\n",
            "/usr/local/lib/python3.8/dist-packages/pytorch_lightning/core/optimizer.py:183: UserWarning: `LightningModule.configure_optimizers` returned `None`, this fit will run with no optimizer\n",
            "  rank_zero_warn(\n",
            "2023-03-01 05:57:14,792 - pytorch_lightning.callbacks.model_summary - INFO - \n",
            "  | Name                  | Type                     | Params\n",
            "-------------------------------------------------------------------\n",
            "0 | image_threshold       | AnomalyScoreThreshold    | 0     \n",
            "1 | pixel_threshold       | AnomalyScoreThreshold    | 0     \n",
            "2 | model                 | PadimModel               | 2.8 M \n",
            "3 | image_metrics         | AnomalibMetricCollection | 0     \n",
            "4 | pixel_metrics         | AnomalibMetricCollection | 0     \n",
            "5 | normalization_metrics | MinMax                   | 0     \n",
            "-------------------------------------------------------------------\n",
            "2.8 M     Trainable params\n",
            "0         Non-trainable params\n",
            "2.8 M     Total params\n",
            "11.131    Total estimated model params size (MB)\n",
            "/usr/local/lib/python3.8/dist-packages/torch/utils/data/dataloader.py:554: UserWarning: This DataLoader will create 8 worker processes in total. Our suggested max number of worker in current system is 2, which is smaller than what this DataLoader is going to create. Please be aware that excessive worker creation might get DataLoader running slow or even freeze, lower the worker number to avoid potential slowness/freeze if necessary.\n",
            "  warnings.warn(_create_warning_msg(\n",
            "Epoch 0:   0% 0/10 [00:00<?, ?it/s] /usr/local/lib/python3.8/dist-packages/pytorch_lightning/loops/optimization/optimizer_loop.py:138: UserWarning: `training_step` returned `None`. If this was on purpose, ignore this warning...\n",
            "  self.warning_cache.warn(\"`training_step` returned `None`. If this was on purpose, ignore this warning...\")\n",
            "\n",
            "Validation: 0it [00:00, ?it/s]\u001b[A2023-03-01 05:57:26,680 - anomalib.models.padim.lightning_model - INFO - Aggregating the embedding extracted from the training set.\n",
            "2023-03-01 05:57:26,921 - anomalib.models.padim.lightning_model - INFO - Fitting a Gaussian to the embedding collected from the training set.\n",
            "\n",
            "Validation:   0% 0/3 [00:00<?, ?it/s]\u001b[A\n",
            "Validation DataLoader 0:   0% 0/3 [00:00<?, ?it/s]\u001b[A\n",
            "Epoch 0: 100% 10/10 [00:23<00:00,  2.38s/it, loss=nan, pixel_F1Score=0.722, pixel_AUROC=0.983]\n",
            "Epoch 0: 100% 10/10 [00:23<00:00,  2.38s/it, loss=nan, pixel_F1Score=0.722, pixel_AUROC=0.983]2023-03-01 05:57:39,090 - pytorch_lightning.utilities.rank_zero - INFO - `Trainer.fit` stopped: `max_epochs=1` reached.\n",
            "Epoch 0: 100% 10/10 [00:24<00:00,  2.43s/it, loss=nan, pixel_F1Score=0.722, pixel_AUROC=0.983]\n",
            "2023-03-01 05:57:39,570 - anomalib.utils.callbacks.timer - INFO - Training took 24.78 seconds\n",
            "2023-03-01 05:57:39,570 - anomalib - INFO - Loading the best model weights.\n",
            "2023-03-01 05:57:39,571 - anomalib - INFO - Testing the model.\n",
            "2023-03-01 05:57:39,579 - anomalib.data.mvtec - INFO - Found the dataset.\n",
            "2023-03-01 05:57:39,579 - anomalib.utils.callbacks.model_loader - INFO - Loading the model from /content/anomalib/results/padim/mvtec/bottle/run/weights/model.ckpt\n",
            "2023-03-01 05:57:39,813 - pytorch_lightning.accelerators.cuda - INFO - LOCAL_RANK: 0 - CUDA_VISIBLE_DEVICES: [0]\n",
            "Testing DataLoader 0: 100% 3/3 [00:21<00:00,  7.25s/it]2023-03-01 05:58:05,363 - anomalib.utils.callbacks.timer - INFO - Testing took 25.54781413078308 seconds\n",
            "Throughput (batch_size=32) : 3.248810233827074 FPS\n",
            "Testing DataLoader 0: 100% 3/3 [00:22<00:00,  7.35s/it]\n",
            "────────────────────────────────────────────────────────────────────────────────────────────────────────────────────────\n",
            "       Test metric             DataLoader 0\n",
            "────────────────────────────────────────────────────────────────────────────────────────────────────────────────────────\n",
            "       image_AUROC          0.9936507940292358\n",
            "      image_F1Score         0.9763779044151306\n",
            "       pixel_AUROC          0.9830061197280884\n",
            "      pixel_F1Score         0.7220250964164734\n",
            "────────────────────────────────────────────────────────────────────────────────────────────────────────────────────────\n"
          ]
        }
      ]
    },
    {
      "cell_type": "code",
      "source": [
        "!python3 tools/train.py"
      ],
      "metadata": {
        "id": "C2-8CFAk6KfW"
      },
      "execution_count": null,
      "outputs": []
    },
    {
      "cell_type": "code",
      "source": [
        "#!zip -r /content/datasets.tar.gz /content/anomalib/datasets"
      ],
      "metadata": {
        "id": "ranoMB21qZwa"
      },
      "execution_count": null,
      "outputs": []
    },
    {
      "cell_type": "code",
      "source": [
        "#!cp /content/datasets.tar.gz /content/drive/MyDrive"
      ],
      "metadata": {
        "id": "aLyGFE7Xz1ir"
      },
      "execution_count": null,
      "outputs": []
    },
    {
      "cell_type": "code",
      "source": [
        "%pwd"
      ],
      "metadata": {
        "colab": {
          "base_uri": "https://localhost:8080/",
          "height": 35
        },
        "id": "2CqrqGjBwQYl",
        "outputId": "e61f3d5c-7199-42bd-e3fa-3a554d7c620e"
      },
      "execution_count": null,
      "outputs": [
        {
          "output_type": "execute_result",
          "data": {
            "text/plain": [
              "'/content/anomalib'"
            ],
            "application/vnd.google.colaboratory.intrinsic+json": {
              "type": "string"
            }
          },
          "metadata": {},
          "execution_count": 16
        }
      ]
    },
    {
      "cell_type": "code",
      "source": [
        "!mkdir test_result"
      ],
      "metadata": {
        "id": "o_eFvuMjyluo"
      },
      "execution_count": null,
      "outputs": []
    },
    {
      "cell_type": "code",
      "source": [
        "!python tools/inference/lightning_inference.py \\\n",
        "    --config anomalib/models/padim/config.yaml \\\n",
        "    --weights /content/anomalib/results/padim/mvtec/bottle/run/weights/model.ckpt \\\n",
        "    --input datasets/MVTec/bottle/test/broken_large/000.png \\\n",
        "    --output test_result"
      ],
      "metadata": {
        "colab": {
          "base_uri": "https://localhost:8080/"
        },
        "id": "SYBA_xjtyZAJ",
        "outputId": "51a7d810-5658-490e-a309-f09e22d1710c"
      },
      "execution_count": null,
      "outputs": [
        {
          "output_type": "stream",
          "name": "stdout",
          "text": [
            "To use wandb logger install it using `pip install wandb`\n",
            "/usr/local/lib/python3.8/dist-packages/anomalib/config/config.py:275: UserWarning: config.project.unique_dir is set to False. This does not ensure that your results will be written in an empty directory and you may overwrite files.\n",
            "  warn(\n",
            "/usr/local/lib/python3.8/dist-packages/torchmetrics/utilities/prints.py:36: UserWarning: Metric `PrecisionRecallCurve` will save all targets and predictions in buffer. For large datasets this may lead to large memory footprint.\n",
            "  warnings.warn(*args, **kwargs)\n",
            "FeatureExtractor is deprecated. Use TimmFeatureExtractor instead. Both FeatureExtractor and TimmFeatureExtractor will be removed in a future release.\n",
            "/usr/local/lib/python3.8/dist-packages/anomalib/utils/callbacks/__init__.py:142: UserWarning: Export option: None not found. Defaulting to no model export\n",
            "  warnings.warn(f\"Export option: {config.optimization.export_mode} not found. Defaulting to no model export\")\n",
            "/usr/local/lib/python3.8/dist-packages/pytorch_lightning/trainer/connectors/checkpoint_connector.py:55: LightningDeprecationWarning: Setting `Trainer(resume_from_checkpoint=)` is deprecated in v1.5 and will be removed in v2.0. Please pass `Trainer.fit(ckpt_path=)` directly instead.\n",
            "  rank_zero_deprecation(\n",
            "GPU available: True (cuda), used: True\n",
            "TPU available: False, using: 0 TPU cores\n",
            "IPU available: False, using: 0 IPUs\n",
            "HPU available: False, using: 0 HPUs\n",
            "`Trainer(limit_train_batches=1.0)` was configured so 100% of the batches per epoch will be used..\n",
            "`Trainer(limit_val_batches=1.0)` was configured so 100% of the batches will be used..\n",
            "`Trainer(limit_test_batches=1.0)` was configured so 100% of the batches will be used..\n",
            "`Trainer(limit_predict_batches=1.0)` was configured so 100% of the batches will be used..\n",
            "`Trainer(val_check_interval=1.0)` was configured so validation will run at the end of the training epoch..\n",
            "Missing logger folder: results/padim/mvtec/bottle/run/lightning_logs\n",
            "/usr/local/lib/python3.8/dist-packages/torchmetrics/utilities/prints.py:36: UserWarning: Metric `ROC` will save all targets and predictions in buffer. For large datasets this may lead to large memory footprint.\n",
            "  warnings.warn(*args, **kwargs)\n",
            "LOCAL_RANK: 0 - CUDA_VISIBLE_DEVICES: [0]\n",
            "2023-03-01 06:12:07.137077: I tensorflow/core/platform/cpu_feature_guard.cc:193] This TensorFlow binary is optimized with oneAPI Deep Neural Network Library (oneDNN) to use the following CPU instructions in performance-critical operations:  AVX2 FMA\n",
            "To enable them in other operations, rebuild TensorFlow with the appropriate compiler flags.\n",
            "2023-03-01 06:12:09.954398: W tensorflow/compiler/xla/stream_executor/platform/default/dso_loader.cc:64] Could not load dynamic library 'libnvinfer.so.7'; dlerror: libnvinfer.so.7: cannot open shared object file: No such file or directory; LD_LIBRARY_PATH: /usr/local/lib/python3.8/dist-packages/cv2/../../lib64:/usr/lib64-nvidia\n",
            "2023-03-01 06:12:09.954849: W tensorflow/compiler/xla/stream_executor/platform/default/dso_loader.cc:64] Could not load dynamic library 'libnvinfer_plugin.so.7'; dlerror: libnvinfer_plugin.so.7: cannot open shared object file: No such file or directory; LD_LIBRARY_PATH: /usr/local/lib/python3.8/dist-packages/cv2/../../lib64:/usr/lib64-nvidia\n",
            "2023-03-01 06:12:09.954874: W tensorflow/compiler/tf2tensorrt/utils/py_utils.cc:38] TF-TRT Warning: Cannot dlopen some TensorRT libraries. If you would like to use Nvidia GPU with TensorRT, please make sure the missing libraries mentioned above are installed properly.\n",
            "Predicting DataLoader 0: 100% 1/1 [00:06<00:00,  6.45s/it]\n"
          ]
        }
      ]
    },
    {
      "cell_type": "code",
      "source": [
        "!python tools/inference/lightning_inference.py \\\n",
        "    --config anomalib/models/padim/config.yaml \\\n",
        "    --weights /content/anomalib/results/padim/mvtec/bottle/run/weights/model.ckpt \\\n",
        "    --input datasets/MVTec/bottle/test/good/012.png \\\n",
        "    --output test_result"
      ],
      "metadata": {
        "colab": {
          "base_uri": "https://localhost:8080/"
        },
        "id": "P4i4EYatyjdB",
        "outputId": "aafca7a6-7840-4295-f21d-1186762a514f"
      },
      "execution_count": null,
      "outputs": [
        {
          "output_type": "stream",
          "name": "stdout",
          "text": [
            "/usr/local/lib/python3.8/dist-packages/anomalib/config/config.py:275: UserWarning: config.project.unique_dir is set to False. This does not ensure that your results will be written in an empty directory and you may overwrite files.\n",
            "  warn(\n",
            "/usr/local/lib/python3.8/dist-packages/torchmetrics/utilities/prints.py:36: UserWarning: Metric `PrecisionRecallCurve` will save all targets and predictions in buffer. For large datasets this may lead to large memory footprint.\n",
            "  warnings.warn(*args, **kwargs)\n",
            "FeatureExtractor is deprecated. Use TimmFeatureExtractor instead. Both FeatureExtractor and TimmFeatureExtractor will be removed in a future release.\n",
            "/usr/local/lib/python3.8/dist-packages/anomalib/utils/callbacks/__init__.py:142: UserWarning: Export option: None not found. Defaulting to no model export\n",
            "  warnings.warn(f\"Export option: {config.optimization.export_mode} not found. Defaulting to no model export\")\n",
            "/usr/local/lib/python3.8/dist-packages/pytorch_lightning/trainer/connectors/checkpoint_connector.py:55: LightningDeprecationWarning: Setting `Trainer(resume_from_checkpoint=)` is deprecated in v1.5 and will be removed in v2.0. Please pass `Trainer.fit(ckpt_path=)` directly instead.\n",
            "  rank_zero_deprecation(\n",
            "GPU available: True (cuda), used: True\n",
            "TPU available: False, using: 0 TPU cores\n",
            "IPU available: False, using: 0 IPUs\n",
            "HPU available: False, using: 0 HPUs\n",
            "`Trainer(limit_train_batches=1.0)` was configured so 100% of the batches per epoch will be used..\n",
            "`Trainer(limit_val_batches=1.0)` was configured so 100% of the batches will be used..\n",
            "`Trainer(limit_test_batches=1.0)` was configured so 100% of the batches will be used..\n",
            "`Trainer(limit_predict_batches=1.0)` was configured so 100% of the batches will be used..\n",
            "`Trainer(val_check_interval=1.0)` was configured so validation will run at the end of the training epoch..\n",
            "/usr/local/lib/python3.8/dist-packages/torchmetrics/utilities/prints.py:36: UserWarning: Metric `ROC` will save all targets and predictions in buffer. For large datasets this may lead to large memory footprint.\n",
            "  warnings.warn(*args, **kwargs)\n",
            "LOCAL_RANK: 0 - CUDA_VISIBLE_DEVICES: [0]\n",
            "2023-03-01 06:14:51.072948: I tensorflow/core/platform/cpu_feature_guard.cc:193] This TensorFlow binary is optimized with oneAPI Deep Neural Network Library (oneDNN) to use the following CPU instructions in performance-critical operations:  AVX2 FMA\n",
            "To enable them in other operations, rebuild TensorFlow with the appropriate compiler flags.\n",
            "2023-03-01 06:14:52.036682: W tensorflow/compiler/xla/stream_executor/platform/default/dso_loader.cc:64] Could not load dynamic library 'libnvinfer.so.7'; dlerror: libnvinfer.so.7: cannot open shared object file: No such file or directory; LD_LIBRARY_PATH: /usr/local/lib/python3.8/dist-packages/cv2/../../lib64:/usr/lib64-nvidia\n",
            "2023-03-01 06:14:52.036839: W tensorflow/compiler/xla/stream_executor/platform/default/dso_loader.cc:64] Could not load dynamic library 'libnvinfer_plugin.so.7'; dlerror: libnvinfer_plugin.so.7: cannot open shared object file: No such file or directory; LD_LIBRARY_PATH: /usr/local/lib/python3.8/dist-packages/cv2/../../lib64:/usr/lib64-nvidia\n",
            "2023-03-01 06:14:52.036864: W tensorflow/compiler/tf2tensorrt/utils/py_utils.cc:38] TF-TRT Warning: Cannot dlopen some TensorRT libraries. If you would like to use Nvidia GPU with TensorRT, please make sure the missing libraries mentioned above are installed properly.\n",
            "Predicting DataLoader 0: 100% 1/1 [00:02<00:00,  2.32s/it]\n"
          ]
        }
      ]
    },
    {
      "cell_type": "code",
      "source": [
        "!python tools/inference/lightning_inference.py \\\n",
        "    --config anomalib/models/padim/config.yaml \\\n",
        "    --weights /content/anomalib/results/padim/mvtec/bottle/run/weights/model.ckpt \\\n",
        "    --input /content/anomalib/datasets/MVTec/bottle/test/broken_large/006.png \\\n",
        "    --output test_result"
      ],
      "metadata": {
        "colab": {
          "base_uri": "https://localhost:8080/"
        },
        "id": "a2IwzYbNzwVf",
        "outputId": "29cf6838-cb92-45f7-86e0-a6af815bd8c5"
      },
      "execution_count": null,
      "outputs": [
        {
          "output_type": "stream",
          "name": "stdout",
          "text": [
            "/usr/local/lib/python3.8/dist-packages/anomalib/config/config.py:275: UserWarning: config.project.unique_dir is set to False. This does not ensure that your results will be written in an empty directory and you may overwrite files.\n",
            "  warn(\n",
            "/usr/local/lib/python3.8/dist-packages/torchmetrics/utilities/prints.py:36: UserWarning: Metric `PrecisionRecallCurve` will save all targets and predictions in buffer. For large datasets this may lead to large memory footprint.\n",
            "  warnings.warn(*args, **kwargs)\n",
            "FeatureExtractor is deprecated. Use TimmFeatureExtractor instead. Both FeatureExtractor and TimmFeatureExtractor will be removed in a future release.\n",
            "/usr/local/lib/python3.8/dist-packages/anomalib/utils/callbacks/__init__.py:142: UserWarning: Export option: None not found. Defaulting to no model export\n",
            "  warnings.warn(f\"Export option: {config.optimization.export_mode} not found. Defaulting to no model export\")\n",
            "/usr/local/lib/python3.8/dist-packages/pytorch_lightning/trainer/connectors/checkpoint_connector.py:55: LightningDeprecationWarning: Setting `Trainer(resume_from_checkpoint=)` is deprecated in v1.5 and will be removed in v2.0. Please pass `Trainer.fit(ckpt_path=)` directly instead.\n",
            "  rank_zero_deprecation(\n",
            "GPU available: True (cuda), used: True\n",
            "TPU available: False, using: 0 TPU cores\n",
            "IPU available: False, using: 0 IPUs\n",
            "HPU available: False, using: 0 HPUs\n",
            "`Trainer(limit_train_batches=1.0)` was configured so 100% of the batches per epoch will be used..\n",
            "`Trainer(limit_val_batches=1.0)` was configured so 100% of the batches will be used..\n",
            "`Trainer(limit_test_batches=1.0)` was configured so 100% of the batches will be used..\n",
            "`Trainer(limit_predict_batches=1.0)` was configured so 100% of the batches will be used..\n",
            "`Trainer(val_check_interval=1.0)` was configured so validation will run at the end of the training epoch..\n",
            "/usr/local/lib/python3.8/dist-packages/torchmetrics/utilities/prints.py:36: UserWarning: Metric `ROC` will save all targets and predictions in buffer. For large datasets this may lead to large memory footprint.\n",
            "  warnings.warn(*args, **kwargs)\n",
            "LOCAL_RANK: 0 - CUDA_VISIBLE_DEVICES: [0]\n",
            "2023-03-01 06:20:40.123912: I tensorflow/core/platform/cpu_feature_guard.cc:193] This TensorFlow binary is optimized with oneAPI Deep Neural Network Library (oneDNN) to use the following CPU instructions in performance-critical operations:  AVX2 FMA\n",
            "To enable them in other operations, rebuild TensorFlow with the appropriate compiler flags.\n",
            "2023-03-01 06:20:43.281353: W tensorflow/compiler/xla/stream_executor/platform/default/dso_loader.cc:64] Could not load dynamic library 'libnvinfer.so.7'; dlerror: libnvinfer.so.7: cannot open shared object file: No such file or directory; LD_LIBRARY_PATH: /usr/local/lib/python3.8/dist-packages/cv2/../../lib64:/usr/lib64-nvidia\n",
            "2023-03-01 06:20:43.281586: W tensorflow/compiler/xla/stream_executor/platform/default/dso_loader.cc:64] Could not load dynamic library 'libnvinfer_plugin.so.7'; dlerror: libnvinfer_plugin.so.7: cannot open shared object file: No such file or directory; LD_LIBRARY_PATH: /usr/local/lib/python3.8/dist-packages/cv2/../../lib64:/usr/lib64-nvidia\n",
            "2023-03-01 06:20:43.281613: W tensorflow/compiler/tf2tensorrt/utils/py_utils.cc:38] TF-TRT Warning: Cannot dlopen some TensorRT libraries. If you would like to use Nvidia GPU with TensorRT, please make sure the missing libraries mentioned above are installed properly.\n",
            "Predicting DataLoader 0: 100% 1/1 [00:06<00:00,  6.46s/it]\n"
          ]
        }
      ]
    },
    {
      "cell_type": "code",
      "source": [
        "!python tools/inference/lightning_inference.py \\\n",
        "    --config anomalib/models/padim/config.yaml \\\n",
        "    --weights /content/anomalib/results/padim/mvtec/bottle/run/weights/model.ckpt \\\n",
        "    --input /content/anomalib/datasets/MVTec/bottle/test/contamination/004.png \\\n",
        "    --output test_result"
      ],
      "metadata": {
        "colab": {
          "base_uri": "https://localhost:8080/"
        },
        "id": "mPcahWWl1Du2",
        "outputId": "a16a3391-fe7b-4bbc-91e1-0d850eb89d14"
      },
      "execution_count": null,
      "outputs": [
        {
          "output_type": "stream",
          "name": "stdout",
          "text": [
            "/usr/local/lib/python3.8/dist-packages/anomalib/config/config.py:275: UserWarning: config.project.unique_dir is set to False. This does not ensure that your results will be written in an empty directory and you may overwrite files.\n",
            "  warn(\n",
            "/usr/local/lib/python3.8/dist-packages/torchmetrics/utilities/prints.py:36: UserWarning: Metric `PrecisionRecallCurve` will save all targets and predictions in buffer. For large datasets this may lead to large memory footprint.\n",
            "  warnings.warn(*args, **kwargs)\n",
            "FeatureExtractor is deprecated. Use TimmFeatureExtractor instead. Both FeatureExtractor and TimmFeatureExtractor will be removed in a future release.\n",
            "/usr/local/lib/python3.8/dist-packages/anomalib/utils/callbacks/__init__.py:142: UserWarning: Export option: None not found. Defaulting to no model export\n",
            "  warnings.warn(f\"Export option: {config.optimization.export_mode} not found. Defaulting to no model export\")\n",
            "/usr/local/lib/python3.8/dist-packages/pytorch_lightning/trainer/connectors/checkpoint_connector.py:55: LightningDeprecationWarning: Setting `Trainer(resume_from_checkpoint=)` is deprecated in v1.5 and will be removed in v2.0. Please pass `Trainer.fit(ckpt_path=)` directly instead.\n",
            "  rank_zero_deprecation(\n",
            "GPU available: True (cuda), used: True\n",
            "TPU available: False, using: 0 TPU cores\n",
            "IPU available: False, using: 0 IPUs\n",
            "HPU available: False, using: 0 HPUs\n",
            "`Trainer(limit_train_batches=1.0)` was configured so 100% of the batches per epoch will be used..\n",
            "`Trainer(limit_val_batches=1.0)` was configured so 100% of the batches will be used..\n",
            "`Trainer(limit_test_batches=1.0)` was configured so 100% of the batches will be used..\n",
            "`Trainer(limit_predict_batches=1.0)` was configured so 100% of the batches will be used..\n",
            "`Trainer(val_check_interval=1.0)` was configured so validation will run at the end of the training epoch..\n",
            "/usr/local/lib/python3.8/dist-packages/torchmetrics/utilities/prints.py:36: UserWarning: Metric `ROC` will save all targets and predictions in buffer. For large datasets this may lead to large memory footprint.\n",
            "  warnings.warn(*args, **kwargs)\n",
            "LOCAL_RANK: 0 - CUDA_VISIBLE_DEVICES: [0]\n",
            "2023-03-01 06:26:29.256369: I tensorflow/core/platform/cpu_feature_guard.cc:193] This TensorFlow binary is optimized with oneAPI Deep Neural Network Library (oneDNN) to use the following CPU instructions in performance-critical operations:  AVX2 FMA\n",
            "To enable them in other operations, rebuild TensorFlow with the appropriate compiler flags.\n",
            "2023-03-01 06:26:30.227366: W tensorflow/compiler/xla/stream_executor/platform/default/dso_loader.cc:64] Could not load dynamic library 'libnvinfer.so.7'; dlerror: libnvinfer.so.7: cannot open shared object file: No such file or directory; LD_LIBRARY_PATH: /usr/local/lib/python3.8/dist-packages/cv2/../../lib64:/usr/lib64-nvidia\n",
            "2023-03-01 06:26:30.227577: W tensorflow/compiler/xla/stream_executor/platform/default/dso_loader.cc:64] Could not load dynamic library 'libnvinfer_plugin.so.7'; dlerror: libnvinfer_plugin.so.7: cannot open shared object file: No such file or directory; LD_LIBRARY_PATH: /usr/local/lib/python3.8/dist-packages/cv2/../../lib64:/usr/lib64-nvidia\n",
            "2023-03-01 06:26:30.227601: W tensorflow/compiler/tf2tensorrt/utils/py_utils.cc:38] TF-TRT Warning: Cannot dlopen some TensorRT libraries. If you would like to use Nvidia GPU with TensorRT, please make sure the missing libraries mentioned above are installed properly.\n",
            "Predicting DataLoader 0: 100% 1/1 [00:02<00:00,  2.41s/it]\n"
          ]
        }
      ]
    },
    {
      "cell_type": "markdown",
      "source": [
        "/content/anomalib/anomalib/models/padim/config.yaml\n",
        "\n",
        "from:\n",
        "\n",
        "    dataset:\n",
        "      name: mvtec\n",
        "      format: mvtec\n",
        "      path: ./datasets/MVTec\n",
        "      category: bottle\n",
        "      task: segmentation\n",
        "\n",
        "to:\n",
        "\n",
        "    dataset:\n",
        "      name: mvtec\n",
        "      format: mvtec\n",
        "      path: ./datasets/MVTec\n",
        "      category: cable\n",
        "      task: segmentation\n",
        "\n",
        "`cp anomalib/models/padim/config.yaml custom_padim.yaml`"
      ],
      "metadata": {
        "id": "S30UH8Y3-h69"
      }
    },
    {
      "cell_type": "code",
      "source": [
        "!cp /content/anomalib/anomalib/models/padim/config.yaml /content/anomalib/anomalib/models/padim/custom_config.yaml"
      ],
      "metadata": {
        "id": "snsTkTZN_pQe"
      },
      "execution_count": null,
      "outputs": []
    },
    {
      "cell_type": "code",
      "source": [
        "!python3 tools/train.py --config /content/anomalib/anomalib/models/padim/custom_config.yaml"
      ],
      "metadata": {
        "colab": {
          "base_uri": "https://localhost:8080/"
        },
        "id": "6Hkikjmz-hPO",
        "outputId": "d50b8e54-dc38-4d28-f196-66e9dfc1206a"
      },
      "execution_count": null,
      "outputs": [
        {
          "output_type": "stream",
          "name": "stdout",
          "text": [
            "/usr/local/lib/python3.8/dist-packages/anomalib/config/config.py:275: UserWarning: config.project.unique_dir is set to False. This does not ensure that your results will be written in an empty directory and you may overwrite files.\n",
            "  warn(\n",
            "Global seed set to 42\n",
            "2023-03-01 07:08:41,098 - anomalib.data - INFO - Loading the datamodule\n",
            "2023-03-01 07:08:41,099 - anomalib.data.utils.transform - INFO - No config file has been provided. Using default transforms.\n",
            "2023-03-01 07:08:41,099 - anomalib.data.utils.transform - INFO - No config file has been provided. Using default transforms.\n",
            "2023-03-01 07:08:41,099 - anomalib.models - INFO - Loading the model.\n",
            "2023-03-01 07:08:41,100 - anomalib.models.components.base.anomaly_module - INFO - Initializing PadimLightning model.\n",
            "/usr/local/lib/python3.8/dist-packages/torchmetrics/utilities/prints.py:36: UserWarning: Metric `PrecisionRecallCurve` will save all targets and predictions in buffer. For large datasets this may lead to large memory footprint.\n",
            "  warnings.warn(*args, **kwargs)\n",
            "2023-03-01 07:08:41,122 - anomalib.models.components.feature_extractors.timm - WARNING - FeatureExtractor is deprecated. Use TimmFeatureExtractor instead. Both FeatureExtractor and TimmFeatureExtractor will be removed in a future release.\n",
            "2023-03-01 07:08:41,462 - timm.models.helpers - INFO - Loading pretrained weights from url (https://download.pytorch.org/models/resnet18-5c106cde.pth)\n",
            "2023-03-01 07:08:42,203 - anomalib.utils.loggers - INFO - Loading the experiment logger(s)\n",
            "2023-03-01 07:08:42,204 - anomalib.utils.callbacks - INFO - Loading the callbacks\n",
            "/usr/local/lib/python3.8/dist-packages/anomalib/utils/callbacks/__init__.py:142: UserWarning: Export option: None not found. Defaulting to no model export\n",
            "  warnings.warn(f\"Export option: {config.optimization.export_mode} not found. Defaulting to no model export\")\n",
            "2023-03-01 07:08:42,805 - pytorch_lightning.utilities.rank_zero - INFO - GPU available: True (cuda), used: True\n",
            "2023-03-01 07:08:42,805 - pytorch_lightning.utilities.rank_zero - INFO - TPU available: False, using: 0 TPU cores\n",
            "2023-03-01 07:08:42,805 - pytorch_lightning.utilities.rank_zero - INFO - IPU available: False, using: 0 IPUs\n",
            "2023-03-01 07:08:42,805 - pytorch_lightning.utilities.rank_zero - INFO - HPU available: False, using: 0 HPUs\n",
            "2023-03-01 07:08:42,805 - pytorch_lightning.utilities.rank_zero - INFO - `Trainer(limit_train_batches=1.0)` was configured so 100% of the batches per epoch will be used..\n",
            "2023-03-01 07:08:42,805 - pytorch_lightning.utilities.rank_zero - INFO - `Trainer(limit_val_batches=1.0)` was configured so 100% of the batches will be used..\n",
            "2023-03-01 07:08:42,805 - pytorch_lightning.utilities.rank_zero - INFO - `Trainer(limit_test_batches=1.0)` was configured so 100% of the batches will be used..\n",
            "2023-03-01 07:08:42,805 - pytorch_lightning.utilities.rank_zero - INFO - `Trainer(limit_predict_batches=1.0)` was configured so 100% of the batches will be used..\n",
            "2023-03-01 07:08:42,805 - pytorch_lightning.utilities.rank_zero - INFO - `Trainer(val_check_interval=1.0)` was configured so validation will run at the end of the training epoch..\n",
            "2023-03-01 07:08:42,806 - anomalib - INFO - Training the model.\n",
            "2023-03-01 07:08:42,811 - anomalib.data.mvtec - INFO - Found the dataset.\n",
            "/usr/local/lib/python3.8/dist-packages/torchmetrics/utilities/prints.py:36: UserWarning: Metric `ROC` will save all targets and predictions in buffer. For large datasets this may lead to large memory footprint.\n",
            "  warnings.warn(*args, **kwargs)\n",
            "2023-03-01 07:08:47,290 - pytorch_lightning.accelerators.cuda - INFO - LOCAL_RANK: 0 - CUDA_VISIBLE_DEVICES: [0]\n",
            "/usr/local/lib/python3.8/dist-packages/pytorch_lightning/core/optimizer.py:183: UserWarning: `LightningModule.configure_optimizers` returned `None`, this fit will run with no optimizer\n",
            "  rank_zero_warn(\n",
            "2023-03-01 07:08:47,294 - pytorch_lightning.callbacks.model_summary - INFO - \n",
            "  | Name                  | Type                     | Params\n",
            "-------------------------------------------------------------------\n",
            "0 | image_threshold       | AnomalyScoreThreshold    | 0     \n",
            "1 | pixel_threshold       | AnomalyScoreThreshold    | 0     \n",
            "2 | model                 | PadimModel               | 2.8 M \n",
            "3 | image_metrics         | AnomalibMetricCollection | 0     \n",
            "4 | pixel_metrics         | AnomalibMetricCollection | 0     \n",
            "5 | normalization_metrics | MinMax                   | 0     \n",
            "-------------------------------------------------------------------\n",
            "2.8 M     Trainable params\n",
            "0         Non-trainable params\n",
            "2.8 M     Total params\n",
            "11.131    Total estimated model params size (MB)\n",
            "/usr/local/lib/python3.8/dist-packages/torch/utils/data/dataloader.py:554: UserWarning: This DataLoader will create 8 worker processes in total. Our suggested max number of worker in current system is 2, which is smaller than what this DataLoader is going to create. Please be aware that excessive worker creation might get DataLoader running slow or even freeze, lower the worker number to avoid potential slowness/freeze if necessary.\n",
            "  warnings.warn(_create_warning_msg(\n",
            "Epoch 0:   0% 0/12 [00:00<?, ?it/s] /usr/local/lib/python3.8/dist-packages/pytorch_lightning/loops/optimization/optimizer_loop.py:138: UserWarning: `training_step` returned `None`. If this was on purpose, ignore this warning...\n",
            "  self.warning_cache.warn(\"`training_step` returned `None`. If this was on purpose, ignore this warning...\")\n",
            "\n",
            "Validation: 0it [00:00, ?it/s]\u001b[A2023-03-01 07:09:04,550 - anomalib.models.padim.lightning_model - INFO - Aggregating the embedding extracted from the training set.\n",
            "2023-03-01 07:09:04,759 - anomalib.models.padim.lightning_model - INFO - Fitting a Gaussian to the embedding collected from the training set.\n",
            "\n",
            "Validation:   0% 0/5 [00:00<?, ?it/s]\u001b[A\n",
            "Validation DataLoader 0:   0% 0/5 [00:00<?, ?it/s]\u001b[A\n",
            "Epoch 0: 100% 12/12 [00:36<00:00,  3.07s/it, loss=nan, pixel_F1Score=0.458, pixel_AUROC=0.965]\n",
            "Epoch 0: 100% 12/12 [00:36<00:00,  3.07s/it, loss=nan, pixel_F1Score=0.458, pixel_AUROC=0.965]2023-03-01 07:09:24,793 - pytorch_lightning.utilities.rank_zero - INFO - `Trainer.fit` stopped: `max_epochs=1` reached.\n",
            "Epoch 0: 100% 12/12 [00:37<00:00,  3.12s/it, loss=nan, pixel_F1Score=0.458, pixel_AUROC=0.965]\n",
            "2023-03-01 07:09:25,485 - anomalib.utils.callbacks.timer - INFO - Training took 38.19 seconds\n",
            "2023-03-01 07:09:25,485 - anomalib - INFO - Loading the best model weights.\n",
            "2023-03-01 07:09:25,486 - anomalib - INFO - Testing the model.\n",
            "2023-03-01 07:09:25,494 - anomalib.data.mvtec - INFO - Found the dataset.\n",
            "2023-03-01 07:09:25,495 - anomalib.utils.callbacks.model_loader - INFO - Loading the model from /content/anomalib/results/padim/mvtec/cable/run/weights/model.ckpt\n",
            "2023-03-01 07:09:25,809 - pytorch_lightning.accelerators.cuda - INFO - LOCAL_RANK: 0 - CUDA_VISIBLE_DEVICES: [0]\n",
            "Testing DataLoader 0: 100% 5/5 [00:43<00:00,  8.69s/it]2023-03-01 07:10:16,214 - anomalib.utils.callbacks.timer - INFO - Testing took 50.402512550354004 seconds\n",
            "Throughput (batch_size=32) : 2.976042113974861 FPS\n",
            "Testing DataLoader 0: 100% 5/5 [00:43<00:00,  8.80s/it]\n",
            "────────────────────────────────────────────────────────────────────────────────────────────────────────────────────────\n",
            "       Test metric             DataLoader 0\n",
            "────────────────────────────────────────────────────────────────────────────────────────────────────────────────────────\n",
            "       image_AUROC          0.8435157537460327\n",
            "      image_F1Score         0.8585365414619446\n",
            "       pixel_AUROC          0.9645451307296753\n",
            "      pixel_F1Score         0.45805078744888306\n",
            "────────────────────────────────────────────────────────────────────────────────────────────────────────────────────────\n"
          ]
        }
      ]
    },
    {
      "cell_type": "code",
      "source": [
        "!python tools/inference/lightning_inference.py \\\n",
        "    --config anomalib/models/padim/custom_config.yaml \\\n",
        "    --weights /content/anomalib/results/padim/mvtec/cable/run/weights/model.ckpt \\\n",
        "    --input /content/anomalib/datasets/MVTec/cable/test/bent_wire/004.png \\\n",
        "    --output test_result"
      ],
      "metadata": {
        "colab": {
          "base_uri": "https://localhost:8080/"
        },
        "id": "khsYU5hbAxt6",
        "outputId": "64b46747-919c-4a4d-c872-099084e6bdf0"
      },
      "execution_count": null,
      "outputs": [
        {
          "output_type": "stream",
          "name": "stdout",
          "text": [
            "/usr/local/lib/python3.8/dist-packages/anomalib/config/config.py:275: UserWarning: config.project.unique_dir is set to False. This does not ensure that your results will be written in an empty directory and you may overwrite files.\n",
            "  warn(\n",
            "/usr/local/lib/python3.8/dist-packages/torchmetrics/utilities/prints.py:36: UserWarning: Metric `PrecisionRecallCurve` will save all targets and predictions in buffer. For large datasets this may lead to large memory footprint.\n",
            "  warnings.warn(*args, **kwargs)\n",
            "FeatureExtractor is deprecated. Use TimmFeatureExtractor instead. Both FeatureExtractor and TimmFeatureExtractor will be removed in a future release.\n",
            "/usr/local/lib/python3.8/dist-packages/anomalib/utils/callbacks/__init__.py:142: UserWarning: Export option: None not found. Defaulting to no model export\n",
            "  warnings.warn(f\"Export option: {config.optimization.export_mode} not found. Defaulting to no model export\")\n",
            "/usr/local/lib/python3.8/dist-packages/pytorch_lightning/trainer/connectors/checkpoint_connector.py:55: LightningDeprecationWarning: Setting `Trainer(resume_from_checkpoint=)` is deprecated in v1.5 and will be removed in v2.0. Please pass `Trainer.fit(ckpt_path=)` directly instead.\n",
            "  rank_zero_deprecation(\n",
            "GPU available: True (cuda), used: True\n",
            "TPU available: False, using: 0 TPU cores\n",
            "IPU available: False, using: 0 IPUs\n",
            "HPU available: False, using: 0 HPUs\n",
            "`Trainer(limit_train_batches=1.0)` was configured so 100% of the batches per epoch will be used..\n",
            "`Trainer(limit_val_batches=1.0)` was configured so 100% of the batches will be used..\n",
            "`Trainer(limit_test_batches=1.0)` was configured so 100% of the batches will be used..\n",
            "`Trainer(limit_predict_batches=1.0)` was configured so 100% of the batches will be used..\n",
            "`Trainer(val_check_interval=1.0)` was configured so validation will run at the end of the training epoch..\n",
            "Missing logger folder: results/padim/mvtec/cable/run/lightning_logs\n",
            "/usr/local/lib/python3.8/dist-packages/torchmetrics/utilities/prints.py:36: UserWarning: Metric `ROC` will save all targets and predictions in buffer. For large datasets this may lead to large memory footprint.\n",
            "  warnings.warn(*args, **kwargs)\n",
            "LOCAL_RANK: 0 - CUDA_VISIBLE_DEVICES: [0]\n",
            "2023-03-01 07:18:44.660155: I tensorflow/core/platform/cpu_feature_guard.cc:193] This TensorFlow binary is optimized with oneAPI Deep Neural Network Library (oneDNN) to use the following CPU instructions in performance-critical operations:  AVX2 FMA\n",
            "To enable them in other operations, rebuild TensorFlow with the appropriate compiler flags.\n",
            "2023-03-01 07:18:47.728730: W tensorflow/compiler/xla/stream_executor/platform/default/dso_loader.cc:64] Could not load dynamic library 'libnvinfer.so.7'; dlerror: libnvinfer.so.7: cannot open shared object file: No such file or directory; LD_LIBRARY_PATH: /usr/local/lib/python3.8/dist-packages/cv2/../../lib64:/usr/lib64-nvidia\n",
            "2023-03-01 07:18:47.728937: W tensorflow/compiler/xla/stream_executor/platform/default/dso_loader.cc:64] Could not load dynamic library 'libnvinfer_plugin.so.7'; dlerror: libnvinfer_plugin.so.7: cannot open shared object file: No such file or directory; LD_LIBRARY_PATH: /usr/local/lib/python3.8/dist-packages/cv2/../../lib64:/usr/lib64-nvidia\n",
            "2023-03-01 07:18:47.728961: W tensorflow/compiler/tf2tensorrt/utils/py_utils.cc:38] TF-TRT Warning: Cannot dlopen some TensorRT libraries. If you would like to use Nvidia GPU with TensorRT, please make sure the missing libraries mentioned above are installed properly.\n",
            "Predicting DataLoader 0: 100% 1/1 [00:02<00:00,  2.41s/it]\n"
          ]
        }
      ]
    },
    {
      "cell_type": "code",
      "source": [
        "!python tools/inference/lightning_inference.py \\\n",
        "    --config anomalib/models/padim/custom_config.yaml \\\n",
        "    --weights /content/anomalib/results/padim/mvtec/cable/run/weights/model.ckpt \\\n",
        "    --input /content/anomalib/datasets/MVTec/cable/test/cable_swap/003.png \\\n",
        "    --output test_result"
      ],
      "metadata": {
        "id": "gVMjXh5iCd5h",
        "outputId": "5858b5bb-c23d-40c7-f1b5-9ac95aa634d1",
        "colab": {
          "base_uri": "https://localhost:8080/"
        }
      },
      "execution_count": null,
      "outputs": [
        {
          "output_type": "stream",
          "name": "stdout",
          "text": [
            "/usr/local/lib/python3.8/dist-packages/anomalib/config/config.py:275: UserWarning: config.project.unique_dir is set to False. This does not ensure that your results will be written in an empty directory and you may overwrite files.\n",
            "  warn(\n",
            "/usr/local/lib/python3.8/dist-packages/torchmetrics/utilities/prints.py:36: UserWarning: Metric `PrecisionRecallCurve` will save all targets and predictions in buffer. For large datasets this may lead to large memory footprint.\n",
            "  warnings.warn(*args, **kwargs)\n",
            "FeatureExtractor is deprecated. Use TimmFeatureExtractor instead. Both FeatureExtractor and TimmFeatureExtractor will be removed in a future release.\n",
            "/usr/local/lib/python3.8/dist-packages/anomalib/utils/callbacks/__init__.py:142: UserWarning: Export option: None not found. Defaulting to no model export\n",
            "  warnings.warn(f\"Export option: {config.optimization.export_mode} not found. Defaulting to no model export\")\n",
            "/usr/local/lib/python3.8/dist-packages/pytorch_lightning/trainer/connectors/checkpoint_connector.py:55: LightningDeprecationWarning: Setting `Trainer(resume_from_checkpoint=)` is deprecated in v1.5 and will be removed in v2.0. Please pass `Trainer.fit(ckpt_path=)` directly instead.\n",
            "  rank_zero_deprecation(\n",
            "GPU available: True (cuda), used: True\n",
            "TPU available: False, using: 0 TPU cores\n",
            "IPU available: False, using: 0 IPUs\n",
            "HPU available: False, using: 0 HPUs\n",
            "`Trainer(limit_train_batches=1.0)` was configured so 100% of the batches per epoch will be used..\n",
            "`Trainer(limit_val_batches=1.0)` was configured so 100% of the batches will be used..\n",
            "`Trainer(limit_test_batches=1.0)` was configured so 100% of the batches will be used..\n",
            "`Trainer(limit_predict_batches=1.0)` was configured so 100% of the batches will be used..\n",
            "`Trainer(val_check_interval=1.0)` was configured so validation will run at the end of the training epoch..\n",
            "/usr/local/lib/python3.8/dist-packages/torchmetrics/utilities/prints.py:36: UserWarning: Metric `ROC` will save all targets and predictions in buffer. For large datasets this may lead to large memory footprint.\n",
            "  warnings.warn(*args, **kwargs)\n",
            "LOCAL_RANK: 0 - CUDA_VISIBLE_DEVICES: [0]\n",
            "2023-03-01 07:19:37.025292: I tensorflow/core/platform/cpu_feature_guard.cc:193] This TensorFlow binary is optimized with oneAPI Deep Neural Network Library (oneDNN) to use the following CPU instructions in performance-critical operations:  AVX2 FMA\n",
            "To enable them in other operations, rebuild TensorFlow with the appropriate compiler flags.\n",
            "2023-03-01 07:19:38.484284: W tensorflow/compiler/xla/stream_executor/platform/default/dso_loader.cc:64] Could not load dynamic library 'libnvinfer.so.7'; dlerror: libnvinfer.so.7: cannot open shared object file: No such file or directory; LD_LIBRARY_PATH: /usr/local/lib/python3.8/dist-packages/cv2/../../lib64:/usr/lib64-nvidia\n",
            "2023-03-01 07:19:38.484506: W tensorflow/compiler/xla/stream_executor/platform/default/dso_loader.cc:64] Could not load dynamic library 'libnvinfer_plugin.so.7'; dlerror: libnvinfer_plugin.so.7: cannot open shared object file: No such file or directory; LD_LIBRARY_PATH: /usr/local/lib/python3.8/dist-packages/cv2/../../lib64:/usr/lib64-nvidia\n",
            "2023-03-01 07:19:38.484538: W tensorflow/compiler/tf2tensorrt/utils/py_utils.cc:38] TF-TRT Warning: Cannot dlopen some TensorRT libraries. If you would like to use Nvidia GPU with TensorRT, please make sure the missing libraries mentioned above are installed properly.\n",
            "Predicting DataLoader 0: 100% 1/1 [00:02<00:00,  2.44s/it]\n"
          ]
        }
      ]
    },
    {
      "cell_type": "code",
      "source": [
        "!python tools/inference/lightning_inference.py \\\n",
        "    --config anomalib/models/padim/custom_config.yaml \\\n",
        "    --weights /content/anomalib/results/padim/mvtec/cable/run/weights/model.ckpt \\\n",
        "    --input /content/anomalib/datasets/MVTec/cable/test/combined/002.png \\\n",
        "    --output test_result"
      ],
      "metadata": {
        "id": "Ew9Oz4v7Cqg0",
        "outputId": "b2442316-bc61-4b88-9fca-55968fb9b34d",
        "colab": {
          "base_uri": "https://localhost:8080/"
        }
      },
      "execution_count": null,
      "outputs": [
        {
          "output_type": "stream",
          "name": "stdout",
          "text": [
            "/usr/local/lib/python3.8/dist-packages/anomalib/config/config.py:275: UserWarning: config.project.unique_dir is set to False. This does not ensure that your results will be written in an empty directory and you may overwrite files.\n",
            "  warn(\n",
            "/usr/local/lib/python3.8/dist-packages/torchmetrics/utilities/prints.py:36: UserWarning: Metric `PrecisionRecallCurve` will save all targets and predictions in buffer. For large datasets this may lead to large memory footprint.\n",
            "  warnings.warn(*args, **kwargs)\n",
            "FeatureExtractor is deprecated. Use TimmFeatureExtractor instead. Both FeatureExtractor and TimmFeatureExtractor will be removed in a future release.\n",
            "/usr/local/lib/python3.8/dist-packages/anomalib/utils/callbacks/__init__.py:142: UserWarning: Export option: None not found. Defaulting to no model export\n",
            "  warnings.warn(f\"Export option: {config.optimization.export_mode} not found. Defaulting to no model export\")\n",
            "/usr/local/lib/python3.8/dist-packages/pytorch_lightning/trainer/connectors/checkpoint_connector.py:55: LightningDeprecationWarning: Setting `Trainer(resume_from_checkpoint=)` is deprecated in v1.5 and will be removed in v2.0. Please pass `Trainer.fit(ckpt_path=)` directly instead.\n",
            "  rank_zero_deprecation(\n",
            "GPU available: True (cuda), used: True\n",
            "TPU available: False, using: 0 TPU cores\n",
            "IPU available: False, using: 0 IPUs\n",
            "HPU available: False, using: 0 HPUs\n",
            "`Trainer(limit_train_batches=1.0)` was configured so 100% of the batches per epoch will be used..\n",
            "`Trainer(limit_val_batches=1.0)` was configured so 100% of the batches will be used..\n",
            "`Trainer(limit_test_batches=1.0)` was configured so 100% of the batches will be used..\n",
            "`Trainer(limit_predict_batches=1.0)` was configured so 100% of the batches will be used..\n",
            "`Trainer(val_check_interval=1.0)` was configured so validation will run at the end of the training epoch..\n",
            "/usr/local/lib/python3.8/dist-packages/torchmetrics/utilities/prints.py:36: UserWarning: Metric `ROC` will save all targets and predictions in buffer. For large datasets this may lead to large memory footprint.\n",
            "  warnings.warn(*args, **kwargs)\n",
            "LOCAL_RANK: 0 - CUDA_VISIBLE_DEVICES: [0]\n",
            "2023-03-01 07:20:18.086621: I tensorflow/core/platform/cpu_feature_guard.cc:193] This TensorFlow binary is optimized with oneAPI Deep Neural Network Library (oneDNN) to use the following CPU instructions in performance-critical operations:  AVX2 FMA\n",
            "To enable them in other operations, rebuild TensorFlow with the appropriate compiler flags.\n",
            "2023-03-01 07:20:19.499277: W tensorflow/compiler/xla/stream_executor/platform/default/dso_loader.cc:64] Could not load dynamic library 'libnvinfer.so.7'; dlerror: libnvinfer.so.7: cannot open shared object file: No such file or directory; LD_LIBRARY_PATH: /usr/local/lib/python3.8/dist-packages/cv2/../../lib64:/usr/lib64-nvidia\n",
            "2023-03-01 07:20:19.499467: W tensorflow/compiler/xla/stream_executor/platform/default/dso_loader.cc:64] Could not load dynamic library 'libnvinfer_plugin.so.7'; dlerror: libnvinfer_plugin.so.7: cannot open shared object file: No such file or directory; LD_LIBRARY_PATH: /usr/local/lib/python3.8/dist-packages/cv2/../../lib64:/usr/lib64-nvidia\n",
            "2023-03-01 07:20:19.499508: W tensorflow/compiler/tf2tensorrt/utils/py_utils.cc:38] TF-TRT Warning: Cannot dlopen some TensorRT libraries. If you would like to use Nvidia GPU with TensorRT, please make sure the missing libraries mentioned above are installed properly.\n",
            "Predicting DataLoader 0: 100% 1/1 [00:02<00:00,  2.02s/it]\n"
          ]
        }
      ]
    },
    {
      "cell_type": "code",
      "source": [
        "!python tools/inference/lightning_inference.py \\\n",
        "    --config anomalib/models/padim/custom_config.yaml \\\n",
        "    --weights /content/anomalib/results/padim/mvtec/cable/run/weights/model.ckpt \\\n",
        "    --input /content/anomalib/datasets/MVTec/cable/test/cut_inner_insulation/003.png \\\n",
        "    --output test_result"
      ],
      "metadata": {
        "id": "xCoPBsccCq84",
        "outputId": "a5283d29-a4ec-4c82-9c2e-babc63c75d45",
        "colab": {
          "base_uri": "https://localhost:8080/"
        }
      },
      "execution_count": null,
      "outputs": [
        {
          "output_type": "stream",
          "name": "stdout",
          "text": [
            "/usr/local/lib/python3.8/dist-packages/anomalib/config/config.py:275: UserWarning: config.project.unique_dir is set to False. This does not ensure that your results will be written in an empty directory and you may overwrite files.\n",
            "  warn(\n",
            "/usr/local/lib/python3.8/dist-packages/torchmetrics/utilities/prints.py:36: UserWarning: Metric `PrecisionRecallCurve` will save all targets and predictions in buffer. For large datasets this may lead to large memory footprint.\n",
            "  warnings.warn(*args, **kwargs)\n",
            "FeatureExtractor is deprecated. Use TimmFeatureExtractor instead. Both FeatureExtractor and TimmFeatureExtractor will be removed in a future release.\n",
            "/usr/local/lib/python3.8/dist-packages/anomalib/utils/callbacks/__init__.py:142: UserWarning: Export option: None not found. Defaulting to no model export\n",
            "  warnings.warn(f\"Export option: {config.optimization.export_mode} not found. Defaulting to no model export\")\n",
            "/usr/local/lib/python3.8/dist-packages/pytorch_lightning/trainer/connectors/checkpoint_connector.py:55: LightningDeprecationWarning: Setting `Trainer(resume_from_checkpoint=)` is deprecated in v1.5 and will be removed in v2.0. Please pass `Trainer.fit(ckpt_path=)` directly instead.\n",
            "  rank_zero_deprecation(\n",
            "GPU available: True (cuda), used: True\n",
            "TPU available: False, using: 0 TPU cores\n",
            "IPU available: False, using: 0 IPUs\n",
            "HPU available: False, using: 0 HPUs\n",
            "`Trainer(limit_train_batches=1.0)` was configured so 100% of the batches per epoch will be used..\n",
            "`Trainer(limit_val_batches=1.0)` was configured so 100% of the batches will be used..\n",
            "`Trainer(limit_test_batches=1.0)` was configured so 100% of the batches will be used..\n",
            "`Trainer(limit_predict_batches=1.0)` was configured so 100% of the batches will be used..\n",
            "`Trainer(val_check_interval=1.0)` was configured so validation will run at the end of the training epoch..\n",
            "/usr/local/lib/python3.8/dist-packages/torchmetrics/utilities/prints.py:36: UserWarning: Metric `ROC` will save all targets and predictions in buffer. For large datasets this may lead to large memory footprint.\n",
            "  warnings.warn(*args, **kwargs)\n",
            "LOCAL_RANK: 0 - CUDA_VISIBLE_DEVICES: [0]\n",
            "2023-03-01 07:22:04.030434: I tensorflow/core/platform/cpu_feature_guard.cc:193] This TensorFlow binary is optimized with oneAPI Deep Neural Network Library (oneDNN) to use the following CPU instructions in performance-critical operations:  AVX2 FMA\n",
            "To enable them in other operations, rebuild TensorFlow with the appropriate compiler flags.\n",
            "2023-03-01 07:22:05.011341: W tensorflow/compiler/xla/stream_executor/platform/default/dso_loader.cc:64] Could not load dynamic library 'libnvinfer.so.7'; dlerror: libnvinfer.so.7: cannot open shared object file: No such file or directory; LD_LIBRARY_PATH: /usr/local/lib/python3.8/dist-packages/cv2/../../lib64:/usr/lib64-nvidia\n",
            "2023-03-01 07:22:05.011567: W tensorflow/compiler/xla/stream_executor/platform/default/dso_loader.cc:64] Could not load dynamic library 'libnvinfer_plugin.so.7'; dlerror: libnvinfer_plugin.so.7: cannot open shared object file: No such file or directory; LD_LIBRARY_PATH: /usr/local/lib/python3.8/dist-packages/cv2/../../lib64:/usr/lib64-nvidia\n",
            "2023-03-01 07:22:05.011589: W tensorflow/compiler/tf2tensorrt/utils/py_utils.cc:38] TF-TRT Warning: Cannot dlopen some TensorRT libraries. If you would like to use Nvidia GPU with TensorRT, please make sure the missing libraries mentioned above are installed properly.\n",
            "Predicting DataLoader 0: 100% 1/1 [00:01<00:00,  1.78s/it]\n"
          ]
        }
      ]
    },
    {
      "cell_type": "code",
      "source": [
        "!python tools/inference/lightning_inference.py \\\n",
        "    --config anomalib/models/padim/custom_config.yaml \\\n",
        "    --weights /content/anomalib/results/padim/mvtec/cable/run/weights/model.ckpt \\\n",
        "    --input /content/anomalib/datasets/MVTec/cable/test/cut_outer_insulation/005.png \\\n",
        "    --output test_result"
      ],
      "metadata": {
        "id": "xtg4nSpgCrZk",
        "outputId": "fa13b813-365e-4bfb-a983-b8c3703c5615",
        "colab": {
          "base_uri": "https://localhost:8080/"
        }
      },
      "execution_count": null,
      "outputs": [
        {
          "output_type": "stream",
          "name": "stdout",
          "text": [
            "/usr/local/lib/python3.8/dist-packages/anomalib/config/config.py:275: UserWarning: config.project.unique_dir is set to False. This does not ensure that your results will be written in an empty directory and you may overwrite files.\n",
            "  warn(\n",
            "/usr/local/lib/python3.8/dist-packages/torchmetrics/utilities/prints.py:36: UserWarning: Metric `PrecisionRecallCurve` will save all targets and predictions in buffer. For large datasets this may lead to large memory footprint.\n",
            "  warnings.warn(*args, **kwargs)\n",
            "FeatureExtractor is deprecated. Use TimmFeatureExtractor instead. Both FeatureExtractor and TimmFeatureExtractor will be removed in a future release.\n",
            "/usr/local/lib/python3.8/dist-packages/anomalib/utils/callbacks/__init__.py:142: UserWarning: Export option: None not found. Defaulting to no model export\n",
            "  warnings.warn(f\"Export option: {config.optimization.export_mode} not found. Defaulting to no model export\")\n",
            "/usr/local/lib/python3.8/dist-packages/pytorch_lightning/trainer/connectors/checkpoint_connector.py:55: LightningDeprecationWarning: Setting `Trainer(resume_from_checkpoint=)` is deprecated in v1.5 and will be removed in v2.0. Please pass `Trainer.fit(ckpt_path=)` directly instead.\n",
            "  rank_zero_deprecation(\n",
            "GPU available: True (cuda), used: True\n",
            "TPU available: False, using: 0 TPU cores\n",
            "IPU available: False, using: 0 IPUs\n",
            "HPU available: False, using: 0 HPUs\n",
            "`Trainer(limit_train_batches=1.0)` was configured so 100% of the batches per epoch will be used..\n",
            "`Trainer(limit_val_batches=1.0)` was configured so 100% of the batches will be used..\n",
            "`Trainer(limit_test_batches=1.0)` was configured so 100% of the batches will be used..\n",
            "`Trainer(limit_predict_batches=1.0)` was configured so 100% of the batches will be used..\n",
            "`Trainer(val_check_interval=1.0)` was configured so validation will run at the end of the training epoch..\n",
            "/usr/local/lib/python3.8/dist-packages/torchmetrics/utilities/prints.py:36: UserWarning: Metric `ROC` will save all targets and predictions in buffer. For large datasets this may lead to large memory footprint.\n",
            "  warnings.warn(*args, **kwargs)\n",
            "LOCAL_RANK: 0 - CUDA_VISIBLE_DEVICES: [0]\n",
            "2023-03-01 07:22:20.048203: I tensorflow/core/platform/cpu_feature_guard.cc:193] This TensorFlow binary is optimized with oneAPI Deep Neural Network Library (oneDNN) to use the following CPU instructions in performance-critical operations:  AVX2 FMA\n",
            "To enable them in other operations, rebuild TensorFlow with the appropriate compiler flags.\n",
            "2023-03-01 07:22:21.014641: W tensorflow/compiler/xla/stream_executor/platform/default/dso_loader.cc:64] Could not load dynamic library 'libnvinfer.so.7'; dlerror: libnvinfer.so.7: cannot open shared object file: No such file or directory; LD_LIBRARY_PATH: /usr/local/lib/python3.8/dist-packages/cv2/../../lib64:/usr/lib64-nvidia\n",
            "2023-03-01 07:22:21.014800: W tensorflow/compiler/xla/stream_executor/platform/default/dso_loader.cc:64] Could not load dynamic library 'libnvinfer_plugin.so.7'; dlerror: libnvinfer_plugin.so.7: cannot open shared object file: No such file or directory; LD_LIBRARY_PATH: /usr/local/lib/python3.8/dist-packages/cv2/../../lib64:/usr/lib64-nvidia\n",
            "2023-03-01 07:22:21.014823: W tensorflow/compiler/tf2tensorrt/utils/py_utils.cc:38] TF-TRT Warning: Cannot dlopen some TensorRT libraries. If you would like to use Nvidia GPU with TensorRT, please make sure the missing libraries mentioned above are installed properly.\n",
            "Predicting DataLoader 0: 100% 1/1 [00:01<00:00,  1.70s/it]\n"
          ]
        }
      ]
    },
    {
      "cell_type": "code",
      "source": [
        "!python tools/inference/lightning_inference.py \\\n",
        "    --config anomalib/models/padim/custom_config.yaml \\\n",
        "    --weights /content/anomalib/results/padim/mvtec/cable/run/weights/model.ckpt \\\n",
        "    --input /content/anomalib/datasets/MVTec/cable/test/good/008.png \\\n",
        "    --output test_result"
      ],
      "metadata": {
        "id": "jQJWELniCrjE",
        "outputId": "9724b9bd-5406-450f-ede9-ab80ac2b872a",
        "colab": {
          "base_uri": "https://localhost:8080/"
        }
      },
      "execution_count": null,
      "outputs": [
        {
          "output_type": "stream",
          "name": "stdout",
          "text": [
            "/usr/local/lib/python3.8/dist-packages/anomalib/config/config.py:275: UserWarning: config.project.unique_dir is set to False. This does not ensure that your results will be written in an empty directory and you may overwrite files.\n",
            "  warn(\n",
            "/usr/local/lib/python3.8/dist-packages/torchmetrics/utilities/prints.py:36: UserWarning: Metric `PrecisionRecallCurve` will save all targets and predictions in buffer. For large datasets this may lead to large memory footprint.\n",
            "  warnings.warn(*args, **kwargs)\n",
            "FeatureExtractor is deprecated. Use TimmFeatureExtractor instead. Both FeatureExtractor and TimmFeatureExtractor will be removed in a future release.\n",
            "/usr/local/lib/python3.8/dist-packages/anomalib/utils/callbacks/__init__.py:142: UserWarning: Export option: None not found. Defaulting to no model export\n",
            "  warnings.warn(f\"Export option: {config.optimization.export_mode} not found. Defaulting to no model export\")\n",
            "/usr/local/lib/python3.8/dist-packages/pytorch_lightning/trainer/connectors/checkpoint_connector.py:55: LightningDeprecationWarning: Setting `Trainer(resume_from_checkpoint=)` is deprecated in v1.5 and will be removed in v2.0. Please pass `Trainer.fit(ckpt_path=)` directly instead.\n",
            "  rank_zero_deprecation(\n",
            "GPU available: True (cuda), used: True\n",
            "TPU available: False, using: 0 TPU cores\n",
            "IPU available: False, using: 0 IPUs\n",
            "HPU available: False, using: 0 HPUs\n",
            "`Trainer(limit_train_batches=1.0)` was configured so 100% of the batches per epoch will be used..\n",
            "`Trainer(limit_val_batches=1.0)` was configured so 100% of the batches will be used..\n",
            "`Trainer(limit_test_batches=1.0)` was configured so 100% of the batches will be used..\n",
            "`Trainer(limit_predict_batches=1.0)` was configured so 100% of the batches will be used..\n",
            "`Trainer(val_check_interval=1.0)` was configured so validation will run at the end of the training epoch..\n",
            "/usr/local/lib/python3.8/dist-packages/torchmetrics/utilities/prints.py:36: UserWarning: Metric `ROC` will save all targets and predictions in buffer. For large datasets this may lead to large memory footprint.\n",
            "  warnings.warn(*args, **kwargs)\n",
            "LOCAL_RANK: 0 - CUDA_VISIBLE_DEVICES: [0]\n",
            "2023-03-01 07:22:35.675914: I tensorflow/core/platform/cpu_feature_guard.cc:193] This TensorFlow binary is optimized with oneAPI Deep Neural Network Library (oneDNN) to use the following CPU instructions in performance-critical operations:  AVX2 FMA\n",
            "To enable them in other operations, rebuild TensorFlow with the appropriate compiler flags.\n",
            "2023-03-01 07:22:36.652497: W tensorflow/compiler/xla/stream_executor/platform/default/dso_loader.cc:64] Could not load dynamic library 'libnvinfer.so.7'; dlerror: libnvinfer.so.7: cannot open shared object file: No such file or directory; LD_LIBRARY_PATH: /usr/local/lib/python3.8/dist-packages/cv2/../../lib64:/usr/lib64-nvidia\n",
            "2023-03-01 07:22:36.652687: W tensorflow/compiler/xla/stream_executor/platform/default/dso_loader.cc:64] Could not load dynamic library 'libnvinfer_plugin.so.7'; dlerror: libnvinfer_plugin.so.7: cannot open shared object file: No such file or directory; LD_LIBRARY_PATH: /usr/local/lib/python3.8/dist-packages/cv2/../../lib64:/usr/lib64-nvidia\n",
            "2023-03-01 07:22:36.652720: W tensorflow/compiler/tf2tensorrt/utils/py_utils.cc:38] TF-TRT Warning: Cannot dlopen some TensorRT libraries. If you would like to use Nvidia GPU with TensorRT, please make sure the missing libraries mentioned above are installed properly.\n",
            "Predicting DataLoader 0: 100% 1/1 [00:01<00:00,  1.69s/it]\n"
          ]
        }
      ]
    },
    {
      "cell_type": "code",
      "source": [
        "!python tools/inference/lightning_inference.py \\\n",
        "    --config anomalib/models/padim/custom_config.yaml \\\n",
        "    --weights /content/anomalib/results/padim/mvtec/cable/run/weights/model.ckpt \\\n",
        "    --input /content/anomalib/datasets/MVTec/cable/test/missing_cable/002.png \\\n",
        "    --output test_result"
      ],
      "metadata": {
        "id": "HdNENIUmCsCk",
        "outputId": "8ca81c3e-fe59-43ce-d5b4-4bdffad73f79",
        "colab": {
          "base_uri": "https://localhost:8080/"
        }
      },
      "execution_count": null,
      "outputs": [
        {
          "output_type": "stream",
          "name": "stdout",
          "text": [
            "/usr/local/lib/python3.8/dist-packages/anomalib/config/config.py:275: UserWarning: config.project.unique_dir is set to False. This does not ensure that your results will be written in an empty directory and you may overwrite files.\n",
            "  warn(\n",
            "/usr/local/lib/python3.8/dist-packages/torchmetrics/utilities/prints.py:36: UserWarning: Metric `PrecisionRecallCurve` will save all targets and predictions in buffer. For large datasets this may lead to large memory footprint.\n",
            "  warnings.warn(*args, **kwargs)\n",
            "FeatureExtractor is deprecated. Use TimmFeatureExtractor instead. Both FeatureExtractor and TimmFeatureExtractor will be removed in a future release.\n",
            "/usr/local/lib/python3.8/dist-packages/anomalib/utils/callbacks/__init__.py:142: UserWarning: Export option: None not found. Defaulting to no model export\n",
            "  warnings.warn(f\"Export option: {config.optimization.export_mode} not found. Defaulting to no model export\")\n",
            "/usr/local/lib/python3.8/dist-packages/pytorch_lightning/trainer/connectors/checkpoint_connector.py:55: LightningDeprecationWarning: Setting `Trainer(resume_from_checkpoint=)` is deprecated in v1.5 and will be removed in v2.0. Please pass `Trainer.fit(ckpt_path=)` directly instead.\n",
            "  rank_zero_deprecation(\n",
            "GPU available: True (cuda), used: True\n",
            "TPU available: False, using: 0 TPU cores\n",
            "IPU available: False, using: 0 IPUs\n",
            "HPU available: False, using: 0 HPUs\n",
            "`Trainer(limit_train_batches=1.0)` was configured so 100% of the batches per epoch will be used..\n",
            "`Trainer(limit_val_batches=1.0)` was configured so 100% of the batches will be used..\n",
            "`Trainer(limit_test_batches=1.0)` was configured so 100% of the batches will be used..\n",
            "`Trainer(limit_predict_batches=1.0)` was configured so 100% of the batches will be used..\n",
            "`Trainer(val_check_interval=1.0)` was configured so validation will run at the end of the training epoch..\n",
            "/usr/local/lib/python3.8/dist-packages/torchmetrics/utilities/prints.py:36: UserWarning: Metric `ROC` will save all targets and predictions in buffer. For large datasets this may lead to large memory footprint.\n",
            "  warnings.warn(*args, **kwargs)\n",
            "LOCAL_RANK: 0 - CUDA_VISIBLE_DEVICES: [0]\n",
            "2023-03-01 07:22:51.211844: I tensorflow/core/platform/cpu_feature_guard.cc:193] This TensorFlow binary is optimized with oneAPI Deep Neural Network Library (oneDNN) to use the following CPU instructions in performance-critical operations:  AVX2 FMA\n",
            "To enable them in other operations, rebuild TensorFlow with the appropriate compiler flags.\n",
            "2023-03-01 07:22:52.184433: W tensorflow/compiler/xla/stream_executor/platform/default/dso_loader.cc:64] Could not load dynamic library 'libnvinfer.so.7'; dlerror: libnvinfer.so.7: cannot open shared object file: No such file or directory; LD_LIBRARY_PATH: /usr/local/lib/python3.8/dist-packages/cv2/../../lib64:/usr/lib64-nvidia\n",
            "2023-03-01 07:22:52.184620: W tensorflow/compiler/xla/stream_executor/platform/default/dso_loader.cc:64] Could not load dynamic library 'libnvinfer_plugin.so.7'; dlerror: libnvinfer_plugin.so.7: cannot open shared object file: No such file or directory; LD_LIBRARY_PATH: /usr/local/lib/python3.8/dist-packages/cv2/../../lib64:/usr/lib64-nvidia\n",
            "2023-03-01 07:22:52.184646: W tensorflow/compiler/tf2tensorrt/utils/py_utils.cc:38] TF-TRT Warning: Cannot dlopen some TensorRT libraries. If you would like to use Nvidia GPU with TensorRT, please make sure the missing libraries mentioned above are installed properly.\n",
            "Predicting DataLoader 0: 100% 1/1 [00:01<00:00,  1.73s/it]\n"
          ]
        }
      ]
    },
    {
      "cell_type": "code",
      "source": [
        "!python tools/inference/lightning_inference.py \\\n",
        "    --config anomalib/models/padim/custom_config.yaml \\\n",
        "    --weights /content/anomalib/results/padim/mvtec/cable/run/weights/model.ckpt \\\n",
        "    --input /content/anomalib/datasets/MVTec/cable/test/missing_wire/006.png \\\n",
        "    --output test_result"
      ],
      "metadata": {
        "id": "0ImERaxwCsh0",
        "outputId": "f46b113f-0924-4561-acc6-f2bfd91928ab",
        "colab": {
          "base_uri": "https://localhost:8080/"
        }
      },
      "execution_count": null,
      "outputs": [
        {
          "output_type": "stream",
          "name": "stdout",
          "text": [
            "/usr/local/lib/python3.8/dist-packages/anomalib/config/config.py:275: UserWarning: config.project.unique_dir is set to False. This does not ensure that your results will be written in an empty directory and you may overwrite files.\n",
            "  warn(\n",
            "/usr/local/lib/python3.8/dist-packages/torchmetrics/utilities/prints.py:36: UserWarning: Metric `PrecisionRecallCurve` will save all targets and predictions in buffer. For large datasets this may lead to large memory footprint.\n",
            "  warnings.warn(*args, **kwargs)\n",
            "FeatureExtractor is deprecated. Use TimmFeatureExtractor instead. Both FeatureExtractor and TimmFeatureExtractor will be removed in a future release.\n",
            "/usr/local/lib/python3.8/dist-packages/anomalib/utils/callbacks/__init__.py:142: UserWarning: Export option: None not found. Defaulting to no model export\n",
            "  warnings.warn(f\"Export option: {config.optimization.export_mode} not found. Defaulting to no model export\")\n",
            "/usr/local/lib/python3.8/dist-packages/pytorch_lightning/trainer/connectors/checkpoint_connector.py:55: LightningDeprecationWarning: Setting `Trainer(resume_from_checkpoint=)` is deprecated in v1.5 and will be removed in v2.0. Please pass `Trainer.fit(ckpt_path=)` directly instead.\n",
            "  rank_zero_deprecation(\n",
            "GPU available: True (cuda), used: True\n",
            "TPU available: False, using: 0 TPU cores\n",
            "IPU available: False, using: 0 IPUs\n",
            "HPU available: False, using: 0 HPUs\n",
            "`Trainer(limit_train_batches=1.0)` was configured so 100% of the batches per epoch will be used..\n",
            "`Trainer(limit_val_batches=1.0)` was configured so 100% of the batches will be used..\n",
            "`Trainer(limit_test_batches=1.0)` was configured so 100% of the batches will be used..\n",
            "`Trainer(limit_predict_batches=1.0)` was configured so 100% of the batches will be used..\n",
            "`Trainer(val_check_interval=1.0)` was configured so validation will run at the end of the training epoch..\n",
            "/usr/local/lib/python3.8/dist-packages/torchmetrics/utilities/prints.py:36: UserWarning: Metric `ROC` will save all targets and predictions in buffer. For large datasets this may lead to large memory footprint.\n",
            "  warnings.warn(*args, **kwargs)\n",
            "LOCAL_RANK: 0 - CUDA_VISIBLE_DEVICES: [0]\n",
            "2023-03-01 07:23:06.952877: I tensorflow/core/platform/cpu_feature_guard.cc:193] This TensorFlow binary is optimized with oneAPI Deep Neural Network Library (oneDNN) to use the following CPU instructions in performance-critical operations:  AVX2 FMA\n",
            "To enable them in other operations, rebuild TensorFlow with the appropriate compiler flags.\n",
            "2023-03-01 07:23:07.930910: W tensorflow/compiler/xla/stream_executor/platform/default/dso_loader.cc:64] Could not load dynamic library 'libnvinfer.so.7'; dlerror: libnvinfer.so.7: cannot open shared object file: No such file or directory; LD_LIBRARY_PATH: /usr/local/lib/python3.8/dist-packages/cv2/../../lib64:/usr/lib64-nvidia\n",
            "2023-03-01 07:23:07.931095: W tensorflow/compiler/xla/stream_executor/platform/default/dso_loader.cc:64] Could not load dynamic library 'libnvinfer_plugin.so.7'; dlerror: libnvinfer_plugin.so.7: cannot open shared object file: No such file or directory; LD_LIBRARY_PATH: /usr/local/lib/python3.8/dist-packages/cv2/../../lib64:/usr/lib64-nvidia\n",
            "2023-03-01 07:23:07.931121: W tensorflow/compiler/tf2tensorrt/utils/py_utils.cc:38] TF-TRT Warning: Cannot dlopen some TensorRT libraries. If you would like to use Nvidia GPU with TensorRT, please make sure the missing libraries mentioned above are installed properly.\n",
            "Predicting DataLoader 0: 100% 1/1 [00:01<00:00,  1.77s/it]\n"
          ]
        }
      ]
    },
    {
      "cell_type": "code",
      "source": [
        "!python tools/inference/lightning_inference.py \\\n",
        "    --config anomalib/models/padim/custom_config.yaml \\\n",
        "    --weights /content/anomalib/results/padim/mvtec/cable/run/weights/model.ckpt \\\n",
        "    --input /content/anomalib/datasets/MVTec/cable/test/poke_insulation/007.png \\\n",
        "    --output test_result"
      ],
      "metadata": {
        "id": "2sNxeP1pCz3U",
        "outputId": "6d2198b7-c439-4a32-d33c-47230a40cc3b",
        "colab": {
          "base_uri": "https://localhost:8080/"
        }
      },
      "execution_count": null,
      "outputs": [
        {
          "output_type": "stream",
          "name": "stdout",
          "text": [
            "/usr/local/lib/python3.8/dist-packages/anomalib/config/config.py:275: UserWarning: config.project.unique_dir is set to False. This does not ensure that your results will be written in an empty directory and you may overwrite files.\n",
            "  warn(\n",
            "/usr/local/lib/python3.8/dist-packages/torchmetrics/utilities/prints.py:36: UserWarning: Metric `PrecisionRecallCurve` will save all targets and predictions in buffer. For large datasets this may lead to large memory footprint.\n",
            "  warnings.warn(*args, **kwargs)\n",
            "FeatureExtractor is deprecated. Use TimmFeatureExtractor instead. Both FeatureExtractor and TimmFeatureExtractor will be removed in a future release.\n",
            "/usr/local/lib/python3.8/dist-packages/anomalib/utils/callbacks/__init__.py:142: UserWarning: Export option: None not found. Defaulting to no model export\n",
            "  warnings.warn(f\"Export option: {config.optimization.export_mode} not found. Defaulting to no model export\")\n",
            "/usr/local/lib/python3.8/dist-packages/pytorch_lightning/trainer/connectors/checkpoint_connector.py:55: LightningDeprecationWarning: Setting `Trainer(resume_from_checkpoint=)` is deprecated in v1.5 and will be removed in v2.0. Please pass `Trainer.fit(ckpt_path=)` directly instead.\n",
            "  rank_zero_deprecation(\n",
            "GPU available: True (cuda), used: True\n",
            "TPU available: False, using: 0 TPU cores\n",
            "IPU available: False, using: 0 IPUs\n",
            "HPU available: False, using: 0 HPUs\n",
            "`Trainer(limit_train_batches=1.0)` was configured so 100% of the batches per epoch will be used..\n",
            "`Trainer(limit_val_batches=1.0)` was configured so 100% of the batches will be used..\n",
            "`Trainer(limit_test_batches=1.0)` was configured so 100% of the batches will be used..\n",
            "`Trainer(limit_predict_batches=1.0)` was configured so 100% of the batches will be used..\n",
            "`Trainer(val_check_interval=1.0)` was configured so validation will run at the end of the training epoch..\n",
            "/usr/local/lib/python3.8/dist-packages/torchmetrics/utilities/prints.py:36: UserWarning: Metric `ROC` will save all targets and predictions in buffer. For large datasets this may lead to large memory footprint.\n",
            "  warnings.warn(*args, **kwargs)\n",
            "LOCAL_RANK: 0 - CUDA_VISIBLE_DEVICES: [0]\n",
            "2023-03-01 07:23:22.366732: I tensorflow/core/platform/cpu_feature_guard.cc:193] This TensorFlow binary is optimized with oneAPI Deep Neural Network Library (oneDNN) to use the following CPU instructions in performance-critical operations:  AVX2 FMA\n",
            "To enable them in other operations, rebuild TensorFlow with the appropriate compiler flags.\n",
            "2023-03-01 07:23:23.590784: W tensorflow/compiler/xla/stream_executor/platform/default/dso_loader.cc:64] Could not load dynamic library 'libnvinfer.so.7'; dlerror: libnvinfer.so.7: cannot open shared object file: No such file or directory; LD_LIBRARY_PATH: /usr/local/lib/python3.8/dist-packages/cv2/../../lib64:/usr/lib64-nvidia\n",
            "2023-03-01 07:23:23.590943: W tensorflow/compiler/xla/stream_executor/platform/default/dso_loader.cc:64] Could not load dynamic library 'libnvinfer_plugin.so.7'; dlerror: libnvinfer_plugin.so.7: cannot open shared object file: No such file or directory; LD_LIBRARY_PATH: /usr/local/lib/python3.8/dist-packages/cv2/../../lib64:/usr/lib64-nvidia\n",
            "2023-03-01 07:23:23.590968: W tensorflow/compiler/tf2tensorrt/utils/py_utils.cc:38] TF-TRT Warning: Cannot dlopen some TensorRT libraries. If you would like to use Nvidia GPU with TensorRT, please make sure the missing libraries mentioned above are installed properly.\n",
            "Predicting DataLoader 0: 100% 1/1 [00:01<00:00,  1.69s/it]\n"
          ]
        }
      ]
    },
    {
      "cell_type": "code",
      "source": [
        "!zip -r /content/results.tar.gz /content/anomalib/results"
      ],
      "metadata": {
        "colab": {
          "base_uri": "https://localhost:8080/"
        },
        "id": "ISVJV4jY2bDd",
        "outputId": "e28b73df-93fe-4883-ecf6-e2fc2a7ae652"
      },
      "execution_count": null,
      "outputs": [
        {
          "output_type": "stream",
          "name": "stdout",
          "text": [
            "  adding: content/anomalib/results/ (stored 0%)\n",
            "  adding: content/anomalib/results/padim/ (stored 0%)\n",
            "  adding: content/anomalib/results/padim/mvtec/ (stored 0%)\n",
            "  adding: content/anomalib/results/padim/mvtec/cable/ (stored 0%)\n",
            "  adding: content/anomalib/results/padim/mvtec/cable/run/ (stored 0%)\n",
            "  adding: content/anomalib/results/padim/mvtec/cable/run/config_original.yaml (deflated 57%)\n",
            "  adding: content/anomalib/results/padim/mvtec/cable/run/config.yaml (deflated 58%)\n",
            "  adding: content/anomalib/results/padim/mvtec/cable/run/images/ (stored 0%)\n",
            "  adding: content/anomalib/results/padim/mvtec/cable/run/images/cut_outer_insulation/ (stored 0%)\n",
            "  adding: content/anomalib/results/padim/mvtec/cable/run/images/cut_outer_insulation/004.png (deflated 5%)\n",
            "  adding: content/anomalib/results/padim/mvtec/cable/run/images/cut_outer_insulation/001.png (deflated 5%)\n",
            "  adding: content/anomalib/results/padim/mvtec/cable/run/images/cut_outer_insulation/002.png (deflated 5%)\n",
            "  adding: content/anomalib/results/padim/mvtec/cable/run/images/cut_outer_insulation/005.png (deflated 5%)\n",
            "  adding: content/anomalib/results/padim/mvtec/cable/run/images/cut_outer_insulation/009.png (deflated 5%)\n",
            "  adding: content/anomalib/results/padim/mvtec/cable/run/images/cut_outer_insulation/000.png (deflated 5%)\n",
            "  adding: content/anomalib/results/padim/mvtec/cable/run/images/cut_outer_insulation/007.png (deflated 5%)\n",
            "  adding: content/anomalib/results/padim/mvtec/cable/run/images/cut_outer_insulation/008.png (deflated 5%)\n",
            "  adding: content/anomalib/results/padim/mvtec/cable/run/images/cut_outer_insulation/006.png (deflated 5%)\n",
            "  adding: content/anomalib/results/padim/mvtec/cable/run/images/cut_outer_insulation/003.png (deflated 5%)\n",
            "  adding: content/anomalib/results/padim/mvtec/cable/run/images/pixel_ROC.png (deflated 22%)\n",
            "  adding: content/anomalib/results/padim/mvtec/cable/run/images/good/ (stored 0%)\n",
            "  adding: content/anomalib/results/padim/mvtec/cable/run/images/good/056.png (deflated 5%)\n",
            "  adding: content/anomalib/results/padim/mvtec/cable/run/images/good/041.png (deflated 5%)\n",
            "  adding: content/anomalib/results/padim/mvtec/cable/run/images/good/055.png (deflated 5%)\n",
            "  adding: content/anomalib/results/padim/mvtec/cable/run/images/good/045.png (deflated 6%)\n",
            "  adding: content/anomalib/results/padim/mvtec/cable/run/images/good/048.png (deflated 5%)\n",
            "  adding: content/anomalib/results/padim/mvtec/cable/run/images/good/029.png (deflated 5%)\n",
            "  adding: content/anomalib/results/padim/mvtec/cable/run/images/good/024.png (deflated 5%)\n",
            "  adding: content/anomalib/results/padim/mvtec/cable/run/images/good/034.png (deflated 5%)\n",
            "  adding: content/anomalib/results/padim/mvtec/cable/run/images/good/030.png (deflated 5%)\n",
            "  adding: content/anomalib/results/padim/mvtec/cable/run/images/good/047.png (deflated 5%)\n",
            "  adding: content/anomalib/results/padim/mvtec/cable/run/images/good/004.png (deflated 6%)\n",
            "  adding: content/anomalib/results/padim/mvtec/cable/run/images/good/054.png (deflated 5%)\n",
            "  adding: content/anomalib/results/padim/mvtec/cable/run/images/good/015.png (deflated 5%)\n",
            "  adding: content/anomalib/results/padim/mvtec/cable/run/images/good/001.png (deflated 6%)\n",
            "  adding: content/anomalib/results/padim/mvtec/cable/run/images/good/014.png (deflated 5%)\n",
            "  adding: content/anomalib/results/padim/mvtec/cable/run/images/good/019.png (deflated 5%)\n",
            "  adding: content/anomalib/results/padim/mvtec/cable/run/images/good/020.png (deflated 5%)\n",
            "  adding: content/anomalib/results/padim/mvtec/cable/run/images/good/044.png (deflated 6%)\n",
            "  adding: content/anomalib/results/padim/mvtec/cable/run/images/good/051.png (deflated 5%)\n",
            "  adding: content/anomalib/results/padim/mvtec/cable/run/images/good/012.png (deflated 5%)\n",
            "  adding: content/anomalib/results/padim/mvtec/cable/run/images/good/032.png (deflated 5%)\n",
            "  adding: content/anomalib/results/padim/mvtec/cable/run/images/good/002.png (deflated 5%)\n",
            "  adding: content/anomalib/results/padim/mvtec/cable/run/images/good/043.png (deflated 5%)\n",
            "  adding: content/anomalib/results/padim/mvtec/cable/run/images/good/005.png (deflated 5%)\n",
            "  adding: content/anomalib/results/padim/mvtec/cable/run/images/good/049.png (deflated 5%)\n",
            "  adding: content/anomalib/results/padim/mvtec/cable/run/images/good/037.png (deflated 6%)\n",
            "  adding: content/anomalib/results/padim/mvtec/cable/run/images/good/028.png (deflated 5%)\n",
            "  adding: content/anomalib/results/padim/mvtec/cable/run/images/good/017.png (deflated 6%)\n",
            "  adding: content/anomalib/results/padim/mvtec/cable/run/images/good/026.png (deflated 6%)\n",
            "  adding: content/anomalib/results/padim/mvtec/cable/run/images/good/013.png (deflated 5%)\n",
            "  adding: content/anomalib/results/padim/mvtec/cable/run/images/good/010.png (deflated 5%)\n",
            "  adding: content/anomalib/results/padim/mvtec/cable/run/images/good/057.png (deflated 5%)\n",
            "  adding: content/anomalib/results/padim/mvtec/cable/run/images/good/038.png (deflated 6%)\n",
            "  adding: content/anomalib/results/padim/mvtec/cable/run/images/good/009.png (deflated 5%)\n",
            "  adding: content/anomalib/results/padim/mvtec/cable/run/images/good/036.png (deflated 5%)\n",
            "  adding: content/anomalib/results/padim/mvtec/cable/run/images/good/018.png (deflated 6%)\n",
            "  adding: content/anomalib/results/padim/mvtec/cable/run/images/good/040.png (deflated 5%)\n",
            "  adding: content/anomalib/results/padim/mvtec/cable/run/images/good/050.png (deflated 5%)\n",
            "  adding: content/anomalib/results/padim/mvtec/cable/run/images/good/023.png (deflated 5%)\n",
            "  adding: content/anomalib/results/padim/mvtec/cable/run/images/good/053.png (deflated 6%)\n",
            "  adding: content/anomalib/results/padim/mvtec/cable/run/images/good/016.png (deflated 6%)\n",
            "  adding: content/anomalib/results/padim/mvtec/cable/run/images/good/000.png (deflated 6%)\n",
            "  adding: content/anomalib/results/padim/mvtec/cable/run/images/good/052.png (deflated 6%)\n",
            "  adding: content/anomalib/results/padim/mvtec/cable/run/images/good/007.png (deflated 5%)\n",
            "  adding: content/anomalib/results/padim/mvtec/cable/run/images/good/008.png (deflated 5%)\n",
            "  adding: content/anomalib/results/padim/mvtec/cable/run/images/good/042.png (deflated 5%)\n",
            "  adding: content/anomalib/results/padim/mvtec/cable/run/images/good/039.png (deflated 5%)\n",
            "  adding: content/anomalib/results/padim/mvtec/cable/run/images/good/011.png (deflated 6%)\n",
            "  adding: content/anomalib/results/padim/mvtec/cable/run/images/good/033.png (deflated 6%)\n",
            "  adding: content/anomalib/results/padim/mvtec/cable/run/images/good/027.png (deflated 5%)\n",
            "  adding: content/anomalib/results/padim/mvtec/cable/run/images/good/022.png (deflated 5%)\n",
            "  adding: content/anomalib/results/padim/mvtec/cable/run/images/good/021.png (deflated 6%)\n",
            "  adding: content/anomalib/results/padim/mvtec/cable/run/images/good/031.png (deflated 5%)\n",
            "  adding: content/anomalib/results/padim/mvtec/cable/run/images/good/025.png (deflated 5%)\n",
            "  adding: content/anomalib/results/padim/mvtec/cable/run/images/good/046.png (deflated 6%)\n",
            "  adding: content/anomalib/results/padim/mvtec/cable/run/images/good/006.png (deflated 6%)\n",
            "  adding: content/anomalib/results/padim/mvtec/cable/run/images/good/003.png (deflated 6%)\n",
            "  adding: content/anomalib/results/padim/mvtec/cable/run/images/good/035.png (deflated 6%)\n",
            "  adding: content/anomalib/results/padim/mvtec/cable/run/images/image_ROC.png (deflated 30%)\n",
            "  adding: content/anomalib/results/padim/mvtec/cable/run/images/missing_cable/ (stored 0%)\n",
            "  adding: content/anomalib/results/padim/mvtec/cable/run/images/missing_cable/004.png (deflated 6%)\n",
            "  adding: content/anomalib/results/padim/mvtec/cable/run/images/missing_cable/001.png (deflated 6%)\n",
            "  adding: content/anomalib/results/padim/mvtec/cable/run/images/missing_cable/002.png (deflated 6%)\n",
            "  adding: content/anomalib/results/padim/mvtec/cable/run/images/missing_cable/005.png (deflated 5%)\n",
            "  adding: content/anomalib/results/padim/mvtec/cable/run/images/missing_cable/010.png (deflated 5%)\n",
            "  adding: content/anomalib/results/padim/mvtec/cable/run/images/missing_cable/009.png (deflated 6%)\n",
            "  adding: content/anomalib/results/padim/mvtec/cable/run/images/missing_cable/000.png (deflated 5%)\n",
            "  adding: content/anomalib/results/padim/mvtec/cable/run/images/missing_cable/007.png (deflated 6%)\n",
            "  adding: content/anomalib/results/padim/mvtec/cable/run/images/missing_cable/008.png (deflated 6%)\n",
            "  adding: content/anomalib/results/padim/mvtec/cable/run/images/missing_cable/011.png (deflated 5%)\n",
            "  adding: content/anomalib/results/padim/mvtec/cable/run/images/missing_cable/006.png (deflated 6%)\n",
            "  adding: content/anomalib/results/padim/mvtec/cable/run/images/missing_cable/003.png (deflated 6%)\n",
            "  adding: content/anomalib/results/padim/mvtec/cable/run/images/combined/ (stored 0%)\n",
            "  adding: content/anomalib/results/padim/mvtec/cable/run/images/combined/004.png (deflated 5%)\n",
            "  adding: content/anomalib/results/padim/mvtec/cable/run/images/combined/001.png (deflated 5%)\n",
            "  adding: content/anomalib/results/padim/mvtec/cable/run/images/combined/002.png (deflated 5%)\n",
            "  adding: content/anomalib/results/padim/mvtec/cable/run/images/combined/005.png (deflated 5%)\n",
            "  adding: content/anomalib/results/padim/mvtec/cable/run/images/combined/010.png (deflated 6%)\n",
            "  adding: content/anomalib/results/padim/mvtec/cable/run/images/combined/009.png (deflated 5%)\n",
            "  adding: content/anomalib/results/padim/mvtec/cable/run/images/combined/000.png (deflated 5%)\n",
            "  adding: content/anomalib/results/padim/mvtec/cable/run/images/combined/007.png (deflated 5%)\n",
            "  adding: content/anomalib/results/padim/mvtec/cable/run/images/combined/008.png (deflated 5%)\n",
            "  adding: content/anomalib/results/padim/mvtec/cable/run/images/combined/006.png (deflated 6%)\n",
            "  adding: content/anomalib/results/padim/mvtec/cable/run/images/combined/003.png (deflated 6%)\n",
            "  adding: content/anomalib/results/padim/mvtec/cable/run/images/cut_inner_insulation/ (stored 0%)\n",
            "  adding: content/anomalib/results/padim/mvtec/cable/run/images/cut_inner_insulation/004.png (deflated 5%)\n",
            "  adding: content/anomalib/results/padim/mvtec/cable/run/images/cut_inner_insulation/001.png (deflated 5%)\n",
            "  adding: content/anomalib/results/padim/mvtec/cable/run/images/cut_inner_insulation/012.png (deflated 5%)\n",
            "  adding: content/anomalib/results/padim/mvtec/cable/run/images/cut_inner_insulation/002.png (deflated 5%)\n",
            "  adding: content/anomalib/results/padim/mvtec/cable/run/images/cut_inner_insulation/005.png (deflated 5%)\n",
            "  adding: content/anomalib/results/padim/mvtec/cable/run/images/cut_inner_insulation/013.png (deflated 5%)\n",
            "  adding: content/anomalib/results/padim/mvtec/cable/run/images/cut_inner_insulation/010.png (deflated 5%)\n",
            "  adding: content/anomalib/results/padim/mvtec/cable/run/images/cut_inner_insulation/009.png (deflated 5%)\n",
            "  adding: content/anomalib/results/padim/mvtec/cable/run/images/cut_inner_insulation/000.png (deflated 5%)\n",
            "  adding: content/anomalib/results/padim/mvtec/cable/run/images/cut_inner_insulation/007.png (deflated 5%)\n",
            "  adding: content/anomalib/results/padim/mvtec/cable/run/images/cut_inner_insulation/008.png (deflated 5%)\n",
            "  adding: content/anomalib/results/padim/mvtec/cable/run/images/cut_inner_insulation/011.png (deflated 5%)\n",
            "  adding: content/anomalib/results/padim/mvtec/cable/run/images/cut_inner_insulation/006.png (deflated 5%)\n",
            "  adding: content/anomalib/results/padim/mvtec/cable/run/images/cut_inner_insulation/003.png (deflated 5%)\n",
            "  adding: content/anomalib/results/padim/mvtec/cable/run/images/bent_wire/ (stored 0%)\n",
            "  adding: content/anomalib/results/padim/mvtec/cable/run/images/bent_wire/004.png (deflated 5%)\n",
            "  adding: content/anomalib/results/padim/mvtec/cable/run/images/bent_wire/001.png (deflated 5%)\n",
            "  adding: content/anomalib/results/padim/mvtec/cable/run/images/bent_wire/012.png (deflated 5%)\n",
            "  adding: content/anomalib/results/padim/mvtec/cable/run/images/bent_wire/002.png (deflated 5%)\n",
            "  adding: content/anomalib/results/padim/mvtec/cable/run/images/bent_wire/005.png (deflated 5%)\n",
            "  adding: content/anomalib/results/padim/mvtec/cable/run/images/bent_wire/010.png (deflated 5%)\n",
            "  adding: content/anomalib/results/padim/mvtec/cable/run/images/bent_wire/009.png (deflated 5%)\n",
            "  adding: content/anomalib/results/padim/mvtec/cable/run/images/bent_wire/000.png (deflated 5%)\n",
            "  adding: content/anomalib/results/padim/mvtec/cable/run/images/bent_wire/007.png (deflated 5%)\n",
            "  adding: content/anomalib/results/padim/mvtec/cable/run/images/bent_wire/008.png (deflated 5%)\n",
            "  adding: content/anomalib/results/padim/mvtec/cable/run/images/bent_wire/011.png (deflated 4%)\n",
            "  adding: content/anomalib/results/padim/mvtec/cable/run/images/bent_wire/006.png (deflated 5%)\n",
            "  adding: content/anomalib/results/padim/mvtec/cable/run/images/bent_wire/003.png (deflated 5%)\n",
            "  adding: content/anomalib/results/padim/mvtec/cable/run/images/cable_swap/ (stored 0%)\n",
            "  adding: content/anomalib/results/padim/mvtec/cable/run/images/cable_swap/004.png (deflated 5%)\n",
            "  adding: content/anomalib/results/padim/mvtec/cable/run/images/cable_swap/001.png (deflated 5%)\n",
            "  adding: content/anomalib/results/padim/mvtec/cable/run/images/cable_swap/002.png (deflated 5%)\n",
            "  adding: content/anomalib/results/padim/mvtec/cable/run/images/cable_swap/005.png (deflated 5%)\n",
            "  adding: content/anomalib/results/padim/mvtec/cable/run/images/cable_swap/010.png (deflated 5%)\n",
            "  adding: content/anomalib/results/padim/mvtec/cable/run/images/cable_swap/009.png (deflated 5%)\n",
            "  adding: content/anomalib/results/padim/mvtec/cable/run/images/cable_swap/000.png (deflated 5%)\n",
            "  adding: content/anomalib/results/padim/mvtec/cable/run/images/cable_swap/007.png (deflated 5%)\n",
            "  adding: content/anomalib/results/padim/mvtec/cable/run/images/cable_swap/008.png (deflated 5%)\n",
            "  adding: content/anomalib/results/padim/mvtec/cable/run/images/cable_swap/011.png (deflated 5%)\n",
            "  adding: content/anomalib/results/padim/mvtec/cable/run/images/cable_swap/006.png (deflated 5%)\n",
            "  adding: content/anomalib/results/padim/mvtec/cable/run/images/cable_swap/003.png (deflated 5%)\n",
            "  adding: content/anomalib/results/padim/mvtec/cable/run/images/missing_wire/ (stored 0%)\n",
            "  adding: content/anomalib/results/padim/mvtec/cable/run/images/missing_wire/004.png (deflated 5%)\n",
            "  adding: content/anomalib/results/padim/mvtec/cable/run/images/missing_wire/001.png (deflated 5%)\n",
            "  adding: content/anomalib/results/padim/mvtec/cable/run/images/missing_wire/002.png (deflated 5%)\n",
            "  adding: content/anomalib/results/padim/mvtec/cable/run/images/missing_wire/005.png (deflated 5%)\n",
            "  adding: content/anomalib/results/padim/mvtec/cable/run/images/missing_wire/009.png (deflated 5%)\n",
            "  adding: content/anomalib/results/padim/mvtec/cable/run/images/missing_wire/000.png (deflated 5%)\n",
            "  adding: content/anomalib/results/padim/mvtec/cable/run/images/missing_wire/007.png (deflated 6%)\n",
            "  adding: content/anomalib/results/padim/mvtec/cable/run/images/missing_wire/008.png (deflated 5%)\n",
            "  adding: content/anomalib/results/padim/mvtec/cable/run/images/missing_wire/006.png (deflated 5%)\n",
            "  adding: content/anomalib/results/padim/mvtec/cable/run/images/missing_wire/003.png (deflated 5%)\n",
            "  adding: content/anomalib/results/padim/mvtec/cable/run/images/poke_insulation/ (stored 0%)\n",
            "  adding: content/anomalib/results/padim/mvtec/cable/run/images/poke_insulation/004.png (deflated 5%)\n",
            "  adding: content/anomalib/results/padim/mvtec/cable/run/images/poke_insulation/001.png (deflated 5%)\n",
            "  adding: content/anomalib/results/padim/mvtec/cable/run/images/poke_insulation/002.png (deflated 5%)\n",
            "  adding: content/anomalib/results/padim/mvtec/cable/run/images/poke_insulation/005.png (deflated 5%)\n",
            "  adding: content/anomalib/results/padim/mvtec/cable/run/images/poke_insulation/009.png (deflated 6%)\n",
            "  adding: content/anomalib/results/padim/mvtec/cable/run/images/poke_insulation/000.png (deflated 5%)\n",
            "  adding: content/anomalib/results/padim/mvtec/cable/run/images/poke_insulation/007.png (deflated 5%)\n",
            "  adding: content/anomalib/results/padim/mvtec/cable/run/images/poke_insulation/008.png (deflated 5%)\n",
            "  adding: content/anomalib/results/padim/mvtec/cable/run/images/poke_insulation/006.png (deflated 5%)\n",
            "  adding: content/anomalib/results/padim/mvtec/cable/run/images/poke_insulation/003.png (deflated 5%)\n",
            "  adding: content/anomalib/results/padim/mvtec/cable/run/weights/ (stored 0%)\n",
            "  adding: content/anomalib/results/padim/mvtec/cable/run/weights/model.ckpt (deflated 18%)\n",
            "  adding: content/anomalib/results/padim/mvtec/cable/run/lightning_logs/ (stored 0%)\n",
            "  adding: content/anomalib/results/padim/mvtec/cable/run/lightning_logs/version_2/ (stored 0%)\n",
            "  adding: content/anomalib/results/padim/mvtec/cable/run/lightning_logs/version_2/hparams.yaml (deflated 58%)\n",
            "  adding: content/anomalib/results/padim/mvtec/cable/run/lightning_logs/version_2/events.out.tfevents.1677655220.21768e448305.23835.0 (deflated 68%)\n",
            "  adding: content/anomalib/results/padim/mvtec/cable/run/lightning_logs/version_6/ (stored 0%)\n",
            "  adding: content/anomalib/results/padim/mvtec/cable/run/lightning_logs/version_6/events.out.tfevents.1677655373.21768e448305.24547.0 (deflated 68%)\n",
            "  adding: content/anomalib/results/padim/mvtec/cable/run/lightning_logs/version_6/hparams.yaml (deflated 58%)\n",
            "  adding: content/anomalib/results/padim/mvtec/cable/run/lightning_logs/version_4/ (stored 0%)\n",
            "  adding: content/anomalib/results/padim/mvtec/cable/run/lightning_logs/version_4/hparams.yaml (deflated 58%)\n",
            "  adding: content/anomalib/results/padim/mvtec/cable/run/lightning_logs/version_4/events.out.tfevents.1677655341.21768e448305.24375.0 (deflated 68%)\n",
            "  adding: content/anomalib/results/padim/mvtec/cable/run/lightning_logs/version_0/ (stored 0%)\n",
            "  adding: content/anomalib/results/padim/mvtec/cable/run/lightning_logs/version_0/hparams.yaml (deflated 58%)\n",
            "  adding: content/anomalib/results/padim/mvtec/cable/run/lightning_logs/version_0/events.out.tfevents.1677655129.21768e448305.23397.0 (deflated 68%)\n",
            "  adding: content/anomalib/results/padim/mvtec/cable/run/lightning_logs/version_7/ (stored 0%)\n",
            "  adding: content/anomalib/results/padim/mvtec/cable/run/lightning_logs/version_7/events.out.tfevents.1677655388.21768e448305.24626.0 (deflated 68%)\n",
            "  adding: content/anomalib/results/padim/mvtec/cable/run/lightning_logs/version_7/hparams.yaml (deflated 58%)\n",
            "  adding: content/anomalib/results/padim/mvtec/cable/run/lightning_logs/version_1/ (stored 0%)\n",
            "  adding: content/anomalib/results/padim/mvtec/cable/run/lightning_logs/version_1/events.out.tfevents.1677655179.21768e448305.23640.0 (deflated 68%)\n",
            "  adding: content/anomalib/results/padim/mvtec/cable/run/lightning_logs/version_1/hparams.yaml (deflated 58%)\n",
            "  adding: content/anomalib/results/padim/mvtec/cable/run/lightning_logs/version_8/ (stored 0%)\n",
            "  adding: content/anomalib/results/padim/mvtec/cable/run/lightning_logs/version_8/events.out.tfevents.1677655404.21768e448305.24711.0 (deflated 67%)\n",
            "  adding: content/anomalib/results/padim/mvtec/cable/run/lightning_logs/version_8/hparams.yaml (deflated 58%)\n",
            "  adding: content/anomalib/results/padim/mvtec/cable/run/lightning_logs/version_5/ (stored 0%)\n",
            "  adding: content/anomalib/results/padim/mvtec/cable/run/lightning_logs/version_5/hparams.yaml (deflated 58%)\n",
            "  adding: content/anomalib/results/padim/mvtec/cable/run/lightning_logs/version_5/events.out.tfevents.1677655357.21768e448305.24462.0 (deflated 68%)\n",
            "  adding: content/anomalib/results/padim/mvtec/cable/run/lightning_logs/version_3/ (stored 0%)\n",
            "  adding: content/anomalib/results/padim/mvtec/cable/run/lightning_logs/version_3/hparams.yaml (deflated 58%)\n",
            "  adding: content/anomalib/results/padim/mvtec/cable/run/lightning_logs/version_3/events.out.tfevents.1677655326.21768e448305.24294.0 (deflated 67%)\n",
            "  adding: content/anomalib/results/padim/mvtec/bottle/ (stored 0%)\n",
            "  adding: content/anomalib/results/padim/mvtec/bottle/run/ (stored 0%)\n",
            "  adding: content/anomalib/results/padim/mvtec/bottle/run/config_original.yaml (deflated 57%)\n",
            "  adding: content/anomalib/results/padim/mvtec/bottle/run/config.yaml (deflated 57%)\n",
            "  adding: content/anomalib/results/padim/mvtec/bottle/run/images/ (stored 0%)\n",
            "  adding: content/anomalib/results/padim/mvtec/bottle/run/images/pixel_ROC.png (deflated 22%)\n",
            "  adding: content/anomalib/results/padim/mvtec/bottle/run/images/good/ (stored 0%)\n",
            "  adding: content/anomalib/results/padim/mvtec/bottle/run/images/good/004.png (deflated 9%)\n",
            "  adding: content/anomalib/results/padim/mvtec/bottle/run/images/good/015.png (deflated 9%)\n",
            "  adding: content/anomalib/results/padim/mvtec/bottle/run/images/good/001.png (deflated 9%)\n",
            "  adding: content/anomalib/results/padim/mvtec/bottle/run/images/good/014.png (deflated 9%)\n",
            "  adding: content/anomalib/results/padim/mvtec/bottle/run/images/good/019.png (deflated 9%)\n",
            "  adding: content/anomalib/results/padim/mvtec/bottle/run/images/good/012.png (deflated 9%)\n",
            "  adding: content/anomalib/results/padim/mvtec/bottle/run/images/good/002.png (deflated 9%)\n",
            "  adding: content/anomalib/results/padim/mvtec/bottle/run/images/good/005.png (deflated 9%)\n",
            "  adding: content/anomalib/results/padim/mvtec/bottle/run/images/good/017.png (deflated 9%)\n",
            "  adding: content/anomalib/results/padim/mvtec/bottle/run/images/good/013.png (deflated 9%)\n",
            "  adding: content/anomalib/results/padim/mvtec/bottle/run/images/good/010.png (deflated 9%)\n",
            "  adding: content/anomalib/results/padim/mvtec/bottle/run/images/good/009.png (deflated 9%)\n",
            "  adding: content/anomalib/results/padim/mvtec/bottle/run/images/good/018.png (deflated 9%)\n",
            "  adding: content/anomalib/results/padim/mvtec/bottle/run/images/good/016.png (deflated 9%)\n",
            "  adding: content/anomalib/results/padim/mvtec/bottle/run/images/good/000.png (deflated 9%)\n",
            "  adding: content/anomalib/results/padim/mvtec/bottle/run/images/good/007.png (deflated 9%)\n",
            "  adding: content/anomalib/results/padim/mvtec/bottle/run/images/good/008.png (deflated 9%)\n",
            "  adding: content/anomalib/results/padim/mvtec/bottle/run/images/good/011.png (deflated 9%)\n",
            "  adding: content/anomalib/results/padim/mvtec/bottle/run/images/good/006.png (deflated 8%)\n",
            "  adding: content/anomalib/results/padim/mvtec/bottle/run/images/good/003.png (deflated 9%)\n",
            "  adding: content/anomalib/results/padim/mvtec/bottle/run/images/image_ROC.png (deflated 28%)\n",
            "  adding: content/anomalib/results/padim/mvtec/bottle/run/images/contamination/ (stored 0%)\n",
            "  adding: content/anomalib/results/padim/mvtec/bottle/run/images/contamination/004.png (deflated 8%)\n",
            "  adding: content/anomalib/results/padim/mvtec/bottle/run/images/contamination/015.png (deflated 8%)\n",
            "  adding: content/anomalib/results/padim/mvtec/bottle/run/images/contamination/001.png (deflated 8%)\n",
            "  adding: content/anomalib/results/padim/mvtec/bottle/run/images/contamination/014.png (deflated 9%)\n",
            "  adding: content/anomalib/results/padim/mvtec/bottle/run/images/contamination/019.png (deflated 9%)\n",
            "  adding: content/anomalib/results/padim/mvtec/bottle/run/images/contamination/020.png (deflated 8%)\n",
            "  adding: content/anomalib/results/padim/mvtec/bottle/run/images/contamination/012.png (deflated 8%)\n",
            "  adding: content/anomalib/results/padim/mvtec/bottle/run/images/contamination/002.png (deflated 9%)\n",
            "  adding: content/anomalib/results/padim/mvtec/bottle/run/images/contamination/005.png (deflated 8%)\n",
            "  adding: content/anomalib/results/padim/mvtec/bottle/run/images/contamination/017.png (deflated 8%)\n",
            "  adding: content/anomalib/results/padim/mvtec/bottle/run/images/contamination/013.png (deflated 8%)\n",
            "  adding: content/anomalib/results/padim/mvtec/bottle/run/images/contamination/010.png (deflated 8%)\n",
            "  adding: content/anomalib/results/padim/mvtec/bottle/run/images/contamination/009.png (deflated 8%)\n",
            "  adding: content/anomalib/results/padim/mvtec/bottle/run/images/contamination/018.png (deflated 8%)\n",
            "  adding: content/anomalib/results/padim/mvtec/bottle/run/images/contamination/016.png (deflated 8%)\n",
            "  adding: content/anomalib/results/padim/mvtec/bottle/run/images/contamination/000.png (deflated 8%)\n",
            "  adding: content/anomalib/results/padim/mvtec/bottle/run/images/contamination/007.png (deflated 7%)\n",
            "  adding: content/anomalib/results/padim/mvtec/bottle/run/images/contamination/008.png (deflated 8%)\n",
            "  adding: content/anomalib/results/padim/mvtec/bottle/run/images/contamination/011.png (deflated 8%)\n",
            "  adding: content/anomalib/results/padim/mvtec/bottle/run/images/contamination/006.png (deflated 8%)\n",
            "  adding: content/anomalib/results/padim/mvtec/bottle/run/images/contamination/003.png (deflated 9%)\n",
            "  adding: content/anomalib/results/padim/mvtec/bottle/run/images/broken_small/ (stored 0%)\n",
            "  adding: content/anomalib/results/padim/mvtec/bottle/run/images/broken_small/004.png (deflated 8%)\n",
            "  adding: content/anomalib/results/padim/mvtec/bottle/run/images/broken_small/015.png (deflated 8%)\n",
            "  adding: content/anomalib/results/padim/mvtec/bottle/run/images/broken_small/001.png (deflated 8%)\n",
            "  adding: content/anomalib/results/padim/mvtec/bottle/run/images/broken_small/014.png (deflated 8%)\n",
            "  adding: content/anomalib/results/padim/mvtec/bottle/run/images/broken_small/019.png (deflated 8%)\n",
            "  adding: content/anomalib/results/padim/mvtec/bottle/run/images/broken_small/020.png (deflated 8%)\n",
            "  adding: content/anomalib/results/padim/mvtec/bottle/run/images/broken_small/012.png (deflated 8%)\n",
            "  adding: content/anomalib/results/padim/mvtec/bottle/run/images/broken_small/002.png (deflated 8%)\n",
            "  adding: content/anomalib/results/padim/mvtec/bottle/run/images/broken_small/005.png (deflated 8%)\n",
            "  adding: content/anomalib/results/padim/mvtec/bottle/run/images/broken_small/017.png (deflated 8%)\n",
            "  adding: content/anomalib/results/padim/mvtec/bottle/run/images/broken_small/013.png (deflated 8%)\n",
            "  adding: content/anomalib/results/padim/mvtec/bottle/run/images/broken_small/010.png (deflated 8%)\n",
            "  adding: content/anomalib/results/padim/mvtec/bottle/run/images/broken_small/009.png (deflated 8%)\n",
            "  adding: content/anomalib/results/padim/mvtec/bottle/run/images/broken_small/018.png (deflated 8%)\n",
            "  adding: content/anomalib/results/padim/mvtec/bottle/run/images/broken_small/016.png (deflated 8%)\n",
            "  adding: content/anomalib/results/padim/mvtec/bottle/run/images/broken_small/000.png (deflated 8%)\n",
            "  adding: content/anomalib/results/padim/mvtec/bottle/run/images/broken_small/007.png (deflated 8%)\n",
            "  adding: content/anomalib/results/padim/mvtec/bottle/run/images/broken_small/008.png (deflated 8%)\n",
            "  adding: content/anomalib/results/padim/mvtec/bottle/run/images/broken_small/011.png (deflated 8%)\n",
            "  adding: content/anomalib/results/padim/mvtec/bottle/run/images/broken_small/021.png (deflated 8%)\n",
            "  adding: content/anomalib/results/padim/mvtec/bottle/run/images/broken_small/006.png (deflated 8%)\n",
            "  adding: content/anomalib/results/padim/mvtec/bottle/run/images/broken_small/003.png (deflated 8%)\n",
            "  adding: content/anomalib/results/padim/mvtec/bottle/run/images/broken_large/ (stored 0%)\n",
            "  adding: content/anomalib/results/padim/mvtec/bottle/run/images/broken_large/004.png (deflated 8%)\n",
            "  adding: content/anomalib/results/padim/mvtec/bottle/run/images/broken_large/015.png (deflated 8%)\n",
            "  adding: content/anomalib/results/padim/mvtec/bottle/run/images/broken_large/001.png (deflated 8%)\n",
            "  adding: content/anomalib/results/padim/mvtec/bottle/run/images/broken_large/014.png (deflated 8%)\n",
            "  adding: content/anomalib/results/padim/mvtec/bottle/run/images/broken_large/019.png (deflated 8%)\n",
            "  adding: content/anomalib/results/padim/mvtec/bottle/run/images/broken_large/012.png (deflated 8%)\n",
            "  adding: content/anomalib/results/padim/mvtec/bottle/run/images/broken_large/002.png (deflated 8%)\n",
            "  adding: content/anomalib/results/padim/mvtec/bottle/run/images/broken_large/005.png (deflated 8%)\n",
            "  adding: content/anomalib/results/padim/mvtec/bottle/run/images/broken_large/017.png (deflated 8%)\n",
            "  adding: content/anomalib/results/padim/mvtec/bottle/run/images/broken_large/013.png (deflated 8%)\n",
            "  adding: content/anomalib/results/padim/mvtec/bottle/run/images/broken_large/010.png (deflated 8%)\n",
            "  adding: content/anomalib/results/padim/mvtec/bottle/run/images/broken_large/009.png (deflated 8%)\n",
            "  adding: content/anomalib/results/padim/mvtec/bottle/run/images/broken_large/018.png (deflated 8%)\n",
            "  adding: content/anomalib/results/padim/mvtec/bottle/run/images/broken_large/016.png (deflated 8%)\n",
            "  adding: content/anomalib/results/padim/mvtec/bottle/run/images/broken_large/000.png (deflated 8%)\n",
            "  adding: content/anomalib/results/padim/mvtec/bottle/run/images/broken_large/007.png (deflated 8%)\n",
            "  adding: content/anomalib/results/padim/mvtec/bottle/run/images/broken_large/008.png (deflated 8%)\n",
            "  adding: content/anomalib/results/padim/mvtec/bottle/run/images/broken_large/011.png (deflated 8%)\n",
            "  adding: content/anomalib/results/padim/mvtec/bottle/run/images/broken_large/006.png (deflated 8%)\n",
            "  adding: content/anomalib/results/padim/mvtec/bottle/run/images/broken_large/003.png (deflated 8%)\n",
            "  adding: content/anomalib/results/padim/mvtec/bottle/run/weights/ (stored 0%)\n",
            "  adding: content/anomalib/results/padim/mvtec/bottle/run/weights/model.ckpt (deflated 47%)\n",
            "  adding: content/anomalib/results/padim/mvtec/bottle/run/lightning_logs/ (stored 0%)\n",
            "  adding: content/anomalib/results/padim/mvtec/bottle/run/lightning_logs/version_2/ (stored 0%)\n",
            "  adding: content/anomalib/results/padim/mvtec/bottle/run/lightning_logs/version_2/events.out.tfevents.1677651645.21768e448305.8705.0 (deflated 68%)\n",
            "  adding: content/anomalib/results/padim/mvtec/bottle/run/lightning_logs/version_2/hparams.yaml (deflated 58%)\n",
            "  adding: content/anomalib/results/padim/mvtec/bottle/run/lightning_logs/version_0/ (stored 0%)\n",
            "  adding: content/anomalib/results/padim/mvtec/bottle/run/lightning_logs/version_0/events.out.tfevents.1677651132.21768e448305.6369.0 (deflated 68%)\n",
            "  adding: content/anomalib/results/padim/mvtec/bottle/run/lightning_logs/version_0/hparams.yaml (deflated 58%)\n",
            "  adding: content/anomalib/results/padim/mvtec/bottle/run/lightning_logs/version_1/ (stored 0%)\n",
            "  adding: content/anomalib/results/padim/mvtec/bottle/run/lightning_logs/version_1/events.out.tfevents.1677651293.21768e448305.7279.0 (deflated 68%)\n",
            "  adding: content/anomalib/results/padim/mvtec/bottle/run/lightning_logs/version_1/hparams.yaml (deflated 58%)\n",
            "  adding: content/anomalib/results/padim/mvtec/bottle/run/lightning_logs/version_3/ (stored 0%)\n",
            "  adding: content/anomalib/results/padim/mvtec/bottle/run/lightning_logs/version_3/events.out.tfevents.1677651991.21768e448305.10216.0 (deflated 68%)\n",
            "  adding: content/anomalib/results/padim/mvtec/bottle/run/lightning_logs/version_3/hparams.yaml (deflated 58%)\n"
          ]
        }
      ]
    },
    {
      "cell_type": "code",
      "source": [
        "!cp /content/results.tar.gz /content/drive/MyDrive"
      ],
      "metadata": {
        "id": "lqaZQTE_96QQ"
      },
      "execution_count": null,
      "outputs": []
    },
    {
      "cell_type": "markdown",
      "source": [],
      "metadata": {
        "id": "P3wHQlwf-aIA"
      }
    }
  ]
}