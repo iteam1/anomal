{
  "nbformat": 4,
  "nbformat_minor": 0,
  "metadata": {
    "colab": {
      "provenance": []
    },
    "kernelspec": {
      "name": "python3",
      "display_name": "Python 3"
    },
    "language_info": {
      "name": "python"
    },
    "accelerator": "GPU",
    "gpuClass": "standard"
  },
  "cells": [
    {
      "cell_type": "code",
      "execution_count": null,
      "metadata": {
        "id": "dieJpj3Uapik"
      },
      "outputs": [],
      "source": []
    },
    {
      "cell_type": "code",
      "source": [
        "!nvidia-smi"
      ],
      "metadata": {
        "colab": {
          "base_uri": "https://localhost:8080/"
        },
        "id": "f7PPeJQ5a6g-",
        "outputId": "34c31da7-4d31-47b9-c109-01e217592f86"
      },
      "execution_count": 1,
      "outputs": [
        {
          "output_type": "stream",
          "name": "stdout",
          "text": [
            "Mon Mar  6 05:36:23 2023       \n",
            "+-----------------------------------------------------------------------------+\n",
            "| NVIDIA-SMI 525.85.12    Driver Version: 525.85.12    CUDA Version: 12.0     |\n",
            "|-------------------------------+----------------------+----------------------+\n",
            "| GPU  Name        Persistence-M| Bus-Id        Disp.A | Volatile Uncorr. ECC |\n",
            "| Fan  Temp  Perf  Pwr:Usage/Cap|         Memory-Usage | GPU-Util  Compute M. |\n",
            "|                               |                      |               MIG M. |\n",
            "|===============================+======================+======================|\n",
            "|   0  Tesla T4            Off  | 00000000:00:04.0 Off |                    0 |\n",
            "| N/A   48C    P0    27W /  70W |      0MiB / 15360MiB |      0%      Default |\n",
            "|                               |                      |                  N/A |\n",
            "+-------------------------------+----------------------+----------------------+\n",
            "                                                                               \n",
            "+-----------------------------------------------------------------------------+\n",
            "| Processes:                                                                  |\n",
            "|  GPU   GI   CI        PID   Type   Process name                  GPU Memory |\n",
            "|        ID   ID                                                   Usage      |\n",
            "|=============================================================================|\n",
            "|  No running processes found                                                 |\n",
            "+-----------------------------------------------------------------------------+\n"
          ]
        }
      ]
    },
    {
      "cell_type": "code",
      "source": [
        "!git clone https://github.com/iteam1/anomal.git"
      ],
      "metadata": {
        "colab": {
          "base_uri": "https://localhost:8080/"
        },
        "id": "8JmxPIDKbMfZ",
        "outputId": "9f2f6368-483a-4f7d-9171-135fec84f206"
      },
      "execution_count": 3,
      "outputs": [
        {
          "output_type": "stream",
          "name": "stdout",
          "text": [
            "Cloning into 'anomal'...\n",
            "remote: Enumerating objects: 700, done.\u001b[K\n",
            "remote: Counting objects: 100% (510/510), done.\u001b[K\n",
            "remote: Compressing objects: 100% (421/421), done.\u001b[K\n",
            "remote: Total 700 (delta 140), reused 447 (delta 82), pack-reused 190\u001b[K\n",
            "Receiving objects: 100% (700/700), 72.26 MiB | 37.30 MiB/s, done.\n",
            "Resolving deltas: 100% (174/174), done.\n"
          ]
        }
      ]
    },
    {
      "cell_type": "code",
      "source": [
        "from google.colab import drive\n",
        "drive.mount('/content/drive')"
      ],
      "metadata": {
        "colab": {
          "base_uri": "https://localhost:8080/"
        },
        "id": "_uqFc_lja73x",
        "outputId": "0a37102a-8475-4318-d913-1d7a0f1433cc"
      },
      "execution_count": 5,
      "outputs": [
        {
          "output_type": "stream",
          "name": "stdout",
          "text": [
            "Drive already mounted at /content/drive; to attempt to forcibly remount, call drive.mount(\"/content/drive\", force_remount=True).\n"
          ]
        }
      ]
    },
    {
      "cell_type": "code",
      "source": [
        "!pwd"
      ],
      "metadata": {
        "colab": {
          "base_uri": "https://localhost:8080/"
        },
        "id": "2e0AD0dTc3xI",
        "outputId": "ec7c04a6-c7a9-40e2-ef4b-b3f5998d512a"
      },
      "execution_count": 13,
      "outputs": [
        {
          "output_type": "stream",
          "name": "stdout",
          "text": [
            "/content\n"
          ]
        }
      ]
    },
    {
      "cell_type": "code",
      "source": [
        "%cd anomal"
      ],
      "metadata": {
        "colab": {
          "base_uri": "https://localhost:8080/"
        },
        "id": "BajeXVv4c4_l",
        "outputId": "a0476428-0fa7-4fe0-87d9-69e73434ef13"
      },
      "execution_count": 14,
      "outputs": [
        {
          "output_type": "stream",
          "name": "stdout",
          "text": [
            "/content/anomal\n"
          ]
        }
      ]
    },
    {
      "cell_type": "code",
      "source": [
        "#!cp /content/drive/MyDrive/datasets.zip /content/anomal\n",
        "#!sudo rm -rf  /content/datasets\n",
        "#!unzip /content/anomal/datasets.zip"
      ],
      "metadata": {
        "id": "1SPr_l5wb27c"
      },
      "execution_count": 16,
      "outputs": []
    },
    {
      "cell_type": "code",
      "source": [
        "!pip install anomalib"
      ],
      "metadata": {
        "colab": {
          "base_uri": "https://localhost:8080/"
        },
        "id": "p88rnIH9eN7e",
        "outputId": "a0d4c449-fd55-4993-c143-6c54c80be020"
      },
      "execution_count": 20,
      "outputs": [
        {
          "output_type": "stream",
          "name": "stdout",
          "text": [
            "Looking in indexes: https://pypi.org/simple, https://us-python.pkg.dev/colab-wheels/public/simple/\n",
            "Collecting anomalib\n",
            "  Downloading anomalib-0.4.0-py3-none-any.whl (346 kB)\n",
            "\u001b[2K     \u001b[90m━━━━━━━━━━━━━━━━━━━━━━━━━━━━━━━━━━━━━━━\u001b[0m \u001b[32m346.9/346.9 KB\u001b[0m \u001b[31m8.0 MB/s\u001b[0m eta \u001b[36m0:00:00\u001b[0m\n",
            "\u001b[?25hRequirement already satisfied: timm<=0.6.12,>=0.5.4 in /usr/local/lib/python3.8/dist-packages (from anomalib) (0.6.12)\n",
            "Requirement already satisfied: torchtext>=0.9.1 in /usr/local/lib/python3.8/dist-packages (from anomalib) (0.14.1)\n",
            "Requirement already satisfied: pytorch-lightning<1.10.0,>=1.7.0 in /usr/local/lib/python3.8/dist-packages (from anomalib) (1.9.4)\n",
            "Requirement already satisfied: omegaconf>=2.1.1 in /usr/local/lib/python3.8/dist-packages (from anomalib) (2.3.0)\n",
            "Requirement already satisfied: matplotlib>=3.4.3 in /usr/local/lib/python3.8/dist-packages (from anomalib) (3.5.3)\n",
            "Requirement already satisfied: einops>=0.3.2 in /usr/local/lib/python3.8/dist-packages (from anomalib) (0.6.0)\n",
            "Requirement already satisfied: torchmetrics==0.10.3 in /usr/local/lib/python3.8/dist-packages (from anomalib) (0.10.3)\n",
            "Requirement already satisfied: freia>=0.2 in /usr/local/lib/python3.8/dist-packages (from anomalib) (0.2)\n",
            "Requirement already satisfied: albumentations>=1.1.0 in /usr/local/lib/python3.8/dist-packages (from anomalib) (1.2.1)\n",
            "Requirement already satisfied: jsonargparse[signatures]>=4.3 in /usr/local/lib/python3.8/dist-packages (from anomalib) (4.20.0)\n",
            "Requirement already satisfied: pandas>=1.1.0 in /usr/local/lib/python3.8/dist-packages (from anomalib) (1.3.5)\n",
            "Requirement already satisfied: imgaug==0.4.0 in /usr/local/lib/python3.8/dist-packages (from anomalib) (0.4.0)\n",
            "Requirement already satisfied: opencv-python>=4.5.3.56 in /usr/local/lib/python3.8/dist-packages (from anomalib) (4.6.0.66)\n",
            "Requirement already satisfied: torchvision>=0.9.1 in /usr/local/lib/python3.8/dist-packages (from anomalib) (0.14.1+cu116)\n",
            "Requirement already satisfied: kornia<0.6.10,>=0.6.6 in /usr/local/lib/python3.8/dist-packages (from anomalib) (0.6.9)\n",
            "Requirement already satisfied: av>=10.0.0 in /usr/local/lib/python3.8/dist-packages (from anomalib) (10.0.0)\n",
            "Requirement already satisfied: scikit-image>=0.14.2 in /usr/local/lib/python3.8/dist-packages (from imgaug==0.4.0->anomalib) (0.19.3)\n",
            "Requirement already satisfied: Shapely in /usr/local/lib/python3.8/dist-packages (from imgaug==0.4.0->anomalib) (2.0.1)\n",
            "Requirement already satisfied: numpy>=1.15 in /usr/local/lib/python3.8/dist-packages (from imgaug==0.4.0->anomalib) (1.22.4)\n",
            "Requirement already satisfied: Pillow in /usr/local/lib/python3.8/dist-packages (from imgaug==0.4.0->anomalib) (8.4.0)\n",
            "Requirement already satisfied: six in /usr/local/lib/python3.8/dist-packages (from imgaug==0.4.0->anomalib) (1.15.0)\n",
            "Requirement already satisfied: scipy in /usr/local/lib/python3.8/dist-packages (from imgaug==0.4.0->anomalib) (1.10.0)\n",
            "Requirement already satisfied: imageio in /usr/local/lib/python3.8/dist-packages (from imgaug==0.4.0->anomalib) (2.9.0)\n",
            "Requirement already satisfied: torch>=1.3.1 in /usr/local/lib/python3.8/dist-packages (from torchmetrics==0.10.3->anomalib) (1.13.1+cu116)\n",
            "Requirement already satisfied: packaging in /usr/local/lib/python3.8/dist-packages (from torchmetrics==0.10.3->anomalib) (23.0)\n",
            "Requirement already satisfied: typing-extensions in /usr/local/lib/python3.8/dist-packages (from torchmetrics==0.10.3->anomalib) (4.5.0)\n",
            "Requirement already satisfied: opencv-python-headless>=4.1.1 in /usr/local/lib/python3.8/dist-packages (from albumentations>=1.1.0->anomalib) (4.7.0.72)\n",
            "Requirement already satisfied: qudida>=0.0.4 in /usr/local/lib/python3.8/dist-packages (from albumentations>=1.1.0->anomalib) (0.0.4)\n",
            "Requirement already satisfied: PyYAML in /usr/local/lib/python3.8/dist-packages (from albumentations>=1.1.0->anomalib) (6.0)\n",
            "Requirement already satisfied: typeshed-client>=2.1.0 in /usr/local/lib/python3.8/dist-packages (from jsonargparse[signatures]>=4.3->anomalib) (2.2.0)\n",
            "Requirement already satisfied: docstring-parser>=0.15 in /usr/local/lib/python3.8/dist-packages (from jsonargparse[signatures]>=4.3->anomalib) (0.15)\n",
            "Requirement already satisfied: cycler>=0.10 in /usr/local/lib/python3.8/dist-packages (from matplotlib>=3.4.3->anomalib) (0.11.0)\n",
            "Requirement already satisfied: fonttools>=4.22.0 in /usr/local/lib/python3.8/dist-packages (from matplotlib>=3.4.3->anomalib) (4.38.0)\n",
            "Requirement already satisfied: python-dateutil>=2.7 in /usr/local/lib/python3.8/dist-packages (from matplotlib>=3.4.3->anomalib) (2.8.2)\n",
            "Requirement already satisfied: pyparsing>=2.2.1 in /usr/local/lib/python3.8/dist-packages (from matplotlib>=3.4.3->anomalib) (2.4.7)\n",
            "Requirement already satisfied: kiwisolver>=1.0.1 in /usr/local/lib/python3.8/dist-packages (from matplotlib>=3.4.3->anomalib) (1.4.4)\n",
            "Requirement already satisfied: antlr4-python3-runtime==4.9.* in /usr/local/lib/python3.8/dist-packages (from omegaconf>=2.1.1->anomalib) (4.9.3)\n",
            "Requirement already satisfied: pytz>=2017.3 in /usr/local/lib/python3.8/dist-packages (from pandas>=1.1.0->anomalib) (2022.7.1)\n",
            "Requirement already satisfied: fsspec[http]>2021.06.0 in /usr/local/lib/python3.8/dist-packages (from pytorch-lightning<1.10.0,>=1.7.0->anomalib) (2023.1.0)\n",
            "Requirement already satisfied: lightning-utilities>=0.6.0.post0 in /usr/local/lib/python3.8/dist-packages (from pytorch-lightning<1.10.0,>=1.7.0->anomalib) (0.7.1)\n",
            "Requirement already satisfied: tqdm>=4.57.0 in /usr/local/lib/python3.8/dist-packages (from pytorch-lightning<1.10.0,>=1.7.0->anomalib) (4.64.1)\n",
            "Requirement already satisfied: huggingface-hub in /usr/local/lib/python3.8/dist-packages (from timm<=0.6.12,>=0.5.4->anomalib) (0.12.1)\n",
            "Requirement already satisfied: requests in /usr/local/lib/python3.8/dist-packages (from torchtext>=0.9.1->anomalib) (2.26.0)\n",
            "Requirement already satisfied: aiohttp!=4.0.0a0,!=4.0.0a1 in /usr/local/lib/python3.8/dist-packages (from fsspec[http]>2021.06.0->pytorch-lightning<1.10.0,>=1.7.0->anomalib) (3.8.4)\n",
            "Requirement already satisfied: scikit-learn>=0.19.1 in /usr/local/lib/python3.8/dist-packages (from qudida>=0.0.4->albumentations>=1.1.0->anomalib) (1.2.1)\n",
            "Requirement already satisfied: tifffile>=2019.7.26 in /usr/local/lib/python3.8/dist-packages (from scikit-image>=0.14.2->imgaug==0.4.0->anomalib) (2023.2.27)\n",
            "Requirement already satisfied: networkx>=2.2 in /usr/local/lib/python3.8/dist-packages (from scikit-image>=0.14.2->imgaug==0.4.0->anomalib) (2.8.2)\n",
            "Requirement already satisfied: PyWavelets>=1.1.1 in /usr/local/lib/python3.8/dist-packages (from scikit-image>=0.14.2->imgaug==0.4.0->anomalib) (1.4.1)\n",
            "Requirement already satisfied: importlib-resources>=1.4.0 in /usr/local/lib/python3.8/dist-packages (from typeshed-client>=2.1.0->jsonargparse[signatures]>=4.3->anomalib) (5.12.0)\n",
            "Requirement already satisfied: filelock in /usr/local/lib/python3.8/dist-packages (from huggingface-hub->timm<=0.6.12,>=0.5.4->anomalib) (3.9.0)\n",
            "Requirement already satisfied: certifi>=2017.4.17 in /usr/local/lib/python3.8/dist-packages (from requests->torchtext>=0.9.1->anomalib) (2022.12.7)\n",
            "Requirement already satisfied: urllib3<1.27,>=1.21.1 in /usr/local/lib/python3.8/dist-packages (from requests->torchtext>=0.9.1->anomalib) (1.26.14)\n",
            "Requirement already satisfied: idna<4,>=2.5 in /usr/local/lib/python3.8/dist-packages (from requests->torchtext>=0.9.1->anomalib) (2.10)\n",
            "Requirement already satisfied: charset-normalizer~=2.0.0 in /usr/local/lib/python3.8/dist-packages (from requests->torchtext>=0.9.1->anomalib) (2.0.12)\n",
            "Requirement already satisfied: frozenlist>=1.1.1 in /usr/local/lib/python3.8/dist-packages (from aiohttp!=4.0.0a0,!=4.0.0a1->fsspec[http]>2021.06.0->pytorch-lightning<1.10.0,>=1.7.0->anomalib) (1.3.3)\n",
            "Requirement already satisfied: attrs>=17.3.0 in /usr/local/lib/python3.8/dist-packages (from aiohttp!=4.0.0a0,!=4.0.0a1->fsspec[http]>2021.06.0->pytorch-lightning<1.10.0,>=1.7.0->anomalib) (22.2.0)\n",
            "Requirement already satisfied: async-timeout<5.0,>=4.0.0a3 in /usr/local/lib/python3.8/dist-packages (from aiohttp!=4.0.0a0,!=4.0.0a1->fsspec[http]>2021.06.0->pytorch-lightning<1.10.0,>=1.7.0->anomalib) (4.0.2)\n",
            "Requirement already satisfied: aiosignal>=1.1.2 in /usr/local/lib/python3.8/dist-packages (from aiohttp!=4.0.0a0,!=4.0.0a1->fsspec[http]>2021.06.0->pytorch-lightning<1.10.0,>=1.7.0->anomalib) (1.3.1)\n",
            "Requirement already satisfied: multidict<7.0,>=4.5 in /usr/local/lib/python3.8/dist-packages (from aiohttp!=4.0.0a0,!=4.0.0a1->fsspec[http]>2021.06.0->pytorch-lightning<1.10.0,>=1.7.0->anomalib) (6.0.4)\n",
            "Requirement already satisfied: yarl<2.0,>=1.0 in /usr/local/lib/python3.8/dist-packages (from aiohttp!=4.0.0a0,!=4.0.0a1->fsspec[http]>2021.06.0->pytorch-lightning<1.10.0,>=1.7.0->anomalib) (1.8.2)\n",
            "Requirement already satisfied: zipp>=3.1.0 in /usr/local/lib/python3.8/dist-packages (from importlib-resources>=1.4.0->typeshed-client>=2.1.0->jsonargparse[signatures]>=4.3->anomalib) (3.15.0)\n",
            "Requirement already satisfied: threadpoolctl>=2.0.0 in /usr/local/lib/python3.8/dist-packages (from scikit-learn>=0.19.1->qudida>=0.0.4->albumentations>=1.1.0->anomalib) (3.1.0)\n",
            "Requirement already satisfied: joblib>=1.1.1 in /usr/local/lib/python3.8/dist-packages (from scikit-learn>=0.19.1->qudida>=0.0.4->albumentations>=1.1.0->anomalib) (1.2.0)\n",
            "Installing collected packages: anomalib\n",
            "Successfully installed anomalib-0.4.0\n"
          ]
        }
      ]
    },
    {
      "cell_type": "code",
      "source": [
        "!pip install -r /content/anomal/requirements/base.txt"
      ],
      "metadata": {
        "colab": {
          "base_uri": "https://localhost:8080/",
          "height": 1000
        },
        "id": "-RidSb1tbmOp",
        "outputId": "8f258218-9a2b-4cea-d692-26e892745990"
      },
      "execution_count": 17,
      "outputs": [
        {
          "output_type": "stream",
          "name": "stdout",
          "text": [
            "Looking in indexes: https://pypi.org/simple, https://us-python.pkg.dev/colab-wheels/public/simple/\n",
            "Requirement already satisfied: albumentations>=1.1.0 in /usr/local/lib/python3.8/dist-packages (from -r /content/anomal/requirements/base.txt (line 1)) (1.2.1)\n",
            "Collecting av>=10.0.0\n",
            "  Downloading av-10.0.0-cp38-cp38-manylinux_2_17_x86_64.manylinux2014_x86_64.whl (31.4 MB)\n",
            "\u001b[2K     \u001b[90m━━━━━━━━━━━━━━━━━━━━━━━━━━━━━━━━━━━━━━━━\u001b[0m \u001b[32m31.4/31.4 MB\u001b[0m \u001b[31m53.2 MB/s\u001b[0m eta \u001b[36m0:00:00\u001b[0m\n",
            "\u001b[?25hCollecting einops>=0.3.2\n",
            "  Downloading einops-0.6.0-py3-none-any.whl (41 kB)\n",
            "\u001b[2K     \u001b[90m━━━━━━━━━━━━━━━━━━━━━━━━━━━━━━━━━━━━━━━━\u001b[0m \u001b[32m41.6/41.6 KB\u001b[0m \u001b[31m5.8 MB/s\u001b[0m eta \u001b[36m0:00:00\u001b[0m\n",
            "\u001b[?25hCollecting freia>=0.2\n",
            "  Downloading FrEIA-0.2.tar.gz (34 kB)\n",
            "  Preparing metadata (setup.py) ... \u001b[?25l\u001b[?25hdone\n",
            "Requirement already satisfied: imgaug==0.4.0 in /usr/local/lib/python3.8/dist-packages (from -r /content/anomal/requirements/base.txt (line 5)) (0.4.0)\n",
            "Collecting jsonargparse[signatures]>=4.3\n",
            "  Downloading jsonargparse-4.20.0-py3-none-any.whl (183 kB)\n",
            "\u001b[2K     \u001b[90m━━━━━━━━━━━━━━━━━━━━━━━━━━━━━━━━━━━━━━\u001b[0m \u001b[32m183.6/183.6 KB\u001b[0m \u001b[31m26.2 MB/s\u001b[0m eta \u001b[36m0:00:00\u001b[0m\n",
            "\u001b[?25hCollecting kornia<0.6.10,>=0.6.6\n",
            "  Downloading kornia-0.6.9-py2.py3-none-any.whl (569 kB)\n",
            "\u001b[2K     \u001b[90m━━━━━━━━━━━━━━━━━━━━━━━━━━━━━━━━━━━━━━\u001b[0m \u001b[32m569.1/569.1 KB\u001b[0m \u001b[31m56.7 MB/s\u001b[0m eta \u001b[36m0:00:00\u001b[0m\n",
            "\u001b[?25hRequirement already satisfied: matplotlib>=3.4.3 in /usr/local/lib/python3.8/dist-packages (from -r /content/anomal/requirements/base.txt (line 8)) (3.5.3)\n",
            "Collecting omegaconf>=2.1.1\n",
            "  Downloading omegaconf-2.3.0-py3-none-any.whl (79 kB)\n",
            "\u001b[2K     \u001b[90m━━━━━━━━━━━━━━━━━━━━━━━━━━━━━━━━━━━━━━━━\u001b[0m \u001b[32m79.5/79.5 KB\u001b[0m \u001b[31m12.4 MB/s\u001b[0m eta \u001b[36m0:00:00\u001b[0m\n",
            "\u001b[?25hRequirement already satisfied: opencv-python>=4.5.3.56 in /usr/local/lib/python3.8/dist-packages (from -r /content/anomal/requirements/base.txt (line 10)) (4.6.0.66)\n",
            "Requirement already satisfied: pandas>=1.1.0 in /usr/local/lib/python3.8/dist-packages (from -r /content/anomal/requirements/base.txt (line 11)) (1.3.5)\n",
            "Collecting pytorch-lightning<1.10.0,>=1.7.0\n",
            "  Downloading pytorch_lightning-1.9.4-py3-none-any.whl (827 kB)\n",
            "\u001b[2K     \u001b[90m━━━━━━━━━━━━━━━━━━━━━━━━━━━━━━━━━━━━━━\u001b[0m \u001b[32m827.8/827.8 KB\u001b[0m \u001b[31m71.9 MB/s\u001b[0m eta \u001b[36m0:00:00\u001b[0m\n",
            "\u001b[?25hCollecting timm<=0.6.12,>=0.5.4\n",
            "  Downloading timm-0.6.12-py3-none-any.whl (549 kB)\n",
            "\u001b[2K     \u001b[90m━━━━━━━━━━━━━━━━━━━━━━━━━━━━━━━━━━━━━━\u001b[0m \u001b[32m549.1/549.1 KB\u001b[0m \u001b[31m59.3 MB/s\u001b[0m eta \u001b[36m0:00:00\u001b[0m\n",
            "\u001b[?25hCollecting torchmetrics==0.10.3\n",
            "  Downloading torchmetrics-0.10.3-py3-none-any.whl (529 kB)\n",
            "\u001b[2K     \u001b[90m━━━━━━━━━━━━━━━━━━━━━━━━━━━━━━━━━━━━━━\u001b[0m \u001b[32m529.7/529.7 KB\u001b[0m \u001b[31m52.1 MB/s\u001b[0m eta \u001b[36m0:00:00\u001b[0m\n",
            "\u001b[?25hRequirement already satisfied: torchvision>=0.9.1 in /usr/local/lib/python3.8/dist-packages (from -r /content/anomal/requirements/base.txt (line 15)) (0.14.1+cu116)\n",
            "Requirement already satisfied: torchtext>=0.9.1 in /usr/local/lib/python3.8/dist-packages (from -r /content/anomal/requirements/base.txt (line 16)) (0.14.1)\n",
            "Requirement already satisfied: scikit-image>=0.14.2 in /usr/local/lib/python3.8/dist-packages (from imgaug==0.4.0->-r /content/anomal/requirements/base.txt (line 5)) (0.19.3)\n",
            "Requirement already satisfied: scipy in /usr/local/lib/python3.8/dist-packages (from imgaug==0.4.0->-r /content/anomal/requirements/base.txt (line 5)) (1.10.1)\n",
            "Requirement already satisfied: Pillow in /usr/local/lib/python3.8/dist-packages (from imgaug==0.4.0->-r /content/anomal/requirements/base.txt (line 5)) (8.4.0)\n",
            "Requirement already satisfied: numpy>=1.15 in /usr/local/lib/python3.8/dist-packages (from imgaug==0.4.0->-r /content/anomal/requirements/base.txt (line 5)) (1.22.4)\n",
            "Requirement already satisfied: imageio in /usr/local/lib/python3.8/dist-packages (from imgaug==0.4.0->-r /content/anomal/requirements/base.txt (line 5)) (2.9.0)\n",
            "Requirement already satisfied: six in /usr/local/lib/python3.8/dist-packages (from imgaug==0.4.0->-r /content/anomal/requirements/base.txt (line 5)) (1.15.0)\n",
            "Requirement already satisfied: Shapely in /usr/local/lib/python3.8/dist-packages (from imgaug==0.4.0->-r /content/anomal/requirements/base.txt (line 5)) (2.0.1)\n",
            "Requirement already satisfied: packaging in /usr/local/lib/python3.8/dist-packages (from torchmetrics==0.10.3->-r /content/anomal/requirements/base.txt (line 14)) (23.0)\n",
            "Requirement already satisfied: torch>=1.3.1 in /usr/local/lib/python3.8/dist-packages (from torchmetrics==0.10.3->-r /content/anomal/requirements/base.txt (line 14)) (1.13.1+cu116)\n",
            "Requirement already satisfied: typing-extensions in /usr/local/lib/python3.8/dist-packages (from torchmetrics==0.10.3->-r /content/anomal/requirements/base.txt (line 14)) (4.5.0)\n",
            "Requirement already satisfied: opencv-python-headless>=4.1.1 in /usr/local/lib/python3.8/dist-packages (from albumentations>=1.1.0->-r /content/anomal/requirements/base.txt (line 1)) (4.7.0.72)\n",
            "Requirement already satisfied: PyYAML in /usr/local/lib/python3.8/dist-packages (from albumentations>=1.1.0->-r /content/anomal/requirements/base.txt (line 1)) (6.0)\n",
            "Requirement already satisfied: qudida>=0.0.4 in /usr/local/lib/python3.8/dist-packages (from albumentations>=1.1.0->-r /content/anomal/requirements/base.txt (line 1)) (0.0.4)\n",
            "Collecting typeshed-client>=2.1.0\n",
            "  Downloading typeshed_client-2.2.0-py3-none-any.whl (551 kB)\n",
            "\u001b[2K     \u001b[90m━━━━━━━━━━━━━━━━━━━━━━━━━━━━━━━━━━━━━━\u001b[0m \u001b[32m551.6/551.6 KB\u001b[0m \u001b[31m37.3 MB/s\u001b[0m eta \u001b[36m0:00:00\u001b[0m\n",
            "\u001b[?25hCollecting docstring-parser>=0.15\n",
            "  Downloading docstring_parser-0.15-py3-none-any.whl (36 kB)\n",
            "Requirement already satisfied: kiwisolver>=1.0.1 in /usr/local/lib/python3.8/dist-packages (from matplotlib>=3.4.3->-r /content/anomal/requirements/base.txt (line 8)) (1.4.4)\n",
            "Requirement already satisfied: cycler>=0.10 in /usr/local/lib/python3.8/dist-packages (from matplotlib>=3.4.3->-r /content/anomal/requirements/base.txt (line 8)) (0.11.0)\n",
            "Requirement already satisfied: pyparsing>=2.2.1 in /usr/local/lib/python3.8/dist-packages (from matplotlib>=3.4.3->-r /content/anomal/requirements/base.txt (line 8)) (3.0.9)\n",
            "Requirement already satisfied: fonttools>=4.22.0 in /usr/local/lib/python3.8/dist-packages (from matplotlib>=3.4.3->-r /content/anomal/requirements/base.txt (line 8)) (4.38.0)\n",
            "Requirement already satisfied: python-dateutil>=2.7 in /usr/local/lib/python3.8/dist-packages (from matplotlib>=3.4.3->-r /content/anomal/requirements/base.txt (line 8)) (2.8.2)\n",
            "Collecting antlr4-python3-runtime==4.9.*\n",
            "  Downloading antlr4-python3-runtime-4.9.3.tar.gz (117 kB)\n",
            "\u001b[2K     \u001b[90m━━━━━━━━━━━━━━━━━━━━━━━━━━━━━━━━━━━━━━━\u001b[0m \u001b[32m117.0/117.0 KB\u001b[0m \u001b[31m3.4 MB/s\u001b[0m eta \u001b[36m0:00:00\u001b[0m\n",
            "\u001b[?25h  Preparing metadata (setup.py) ... \u001b[?25l\u001b[?25hdone\n",
            "Requirement already satisfied: pytz>=2017.3 in /usr/local/lib/python3.8/dist-packages (from pandas>=1.1.0->-r /content/anomal/requirements/base.txt (line 11)) (2022.7.1)\n",
            "Requirement already satisfied: tqdm>=4.57.0 in /usr/local/lib/python3.8/dist-packages (from pytorch-lightning<1.10.0,>=1.7.0->-r /content/anomal/requirements/base.txt (line 12)) (4.64.1)\n",
            "Collecting lightning-utilities>=0.6.0.post0\n",
            "  Downloading lightning_utilities-0.7.1-py3-none-any.whl (18 kB)\n",
            "Requirement already satisfied: fsspec[http]>2021.06.0 in /usr/local/lib/python3.8/dist-packages (from pytorch-lightning<1.10.0,>=1.7.0->-r /content/anomal/requirements/base.txt (line 12)) (2023.1.0)\n",
            "Collecting huggingface-hub\n",
            "  Downloading huggingface_hub-0.12.1-py3-none-any.whl (190 kB)\n",
            "\u001b[2K     \u001b[90m━━━━━━━━━━━━━━━━━━━━━━━━━━━━━━━━━━━━━━\u001b[0m \u001b[32m190.3/190.3 KB\u001b[0m \u001b[31m27.5 MB/s\u001b[0m eta \u001b[36m0:00:00\u001b[0m\n",
            "\u001b[?25hRequirement already satisfied: requests in /usr/local/lib/python3.8/dist-packages (from torchvision>=0.9.1->-r /content/anomal/requirements/base.txt (line 15)) (2.25.1)\n",
            "Requirement already satisfied: aiohttp!=4.0.0a0,!=4.0.0a1 in /usr/local/lib/python3.8/dist-packages (from fsspec[http]>2021.06.0->pytorch-lightning<1.10.0,>=1.7.0->-r /content/anomal/requirements/base.txt (line 12)) (3.8.4)\n",
            "Requirement already satisfied: scikit-learn>=0.19.1 in /usr/local/lib/python3.8/dist-packages (from qudida>=0.0.4->albumentations>=1.1.0->-r /content/anomal/requirements/base.txt (line 1)) (1.2.1)\n",
            "Requirement already satisfied: PyWavelets>=1.1.1 in /usr/local/lib/python3.8/dist-packages (from scikit-image>=0.14.2->imgaug==0.4.0->-r /content/anomal/requirements/base.txt (line 5)) (1.4.1)\n",
            "Requirement already satisfied: networkx>=2.2 in /usr/local/lib/python3.8/dist-packages (from scikit-image>=0.14.2->imgaug==0.4.0->-r /content/anomal/requirements/base.txt (line 5)) (3.0)\n",
            "Requirement already satisfied: tifffile>=2019.7.26 in /usr/local/lib/python3.8/dist-packages (from scikit-image>=0.14.2->imgaug==0.4.0->-r /content/anomal/requirements/base.txt (line 5)) (2023.2.27)\n",
            "Requirement already satisfied: importlib-resources>=1.4.0 in /usr/local/lib/python3.8/dist-packages (from typeshed-client>=2.1.0->jsonargparse[signatures]>=4.3->-r /content/anomal/requirements/base.txt (line 6)) (5.12.0)\n",
            "Requirement already satisfied: filelock in /usr/local/lib/python3.8/dist-packages (from huggingface-hub->timm<=0.6.12,>=0.5.4->-r /content/anomal/requirements/base.txt (line 13)) (3.9.0)\n",
            "Requirement already satisfied: idna<3,>=2.5 in /usr/local/lib/python3.8/dist-packages (from requests->torchvision>=0.9.1->-r /content/anomal/requirements/base.txt (line 15)) (2.10)\n",
            "Requirement already satisfied: chardet<5,>=3.0.2 in /usr/local/lib/python3.8/dist-packages (from requests->torchvision>=0.9.1->-r /content/anomal/requirements/base.txt (line 15)) (4.0.0)\n",
            "Requirement already satisfied: certifi>=2017.4.17 in /usr/local/lib/python3.8/dist-packages (from requests->torchvision>=0.9.1->-r /content/anomal/requirements/base.txt (line 15)) (2022.12.7)\n",
            "Requirement already satisfied: urllib3<1.27,>=1.21.1 in /usr/local/lib/python3.8/dist-packages (from requests->torchvision>=0.9.1->-r /content/anomal/requirements/base.txt (line 15)) (1.26.14)\n",
            "Requirement already satisfied: multidict<7.0,>=4.5 in /usr/local/lib/python3.8/dist-packages (from aiohttp!=4.0.0a0,!=4.0.0a1->fsspec[http]>2021.06.0->pytorch-lightning<1.10.0,>=1.7.0->-r /content/anomal/requirements/base.txt (line 12)) (6.0.4)\n",
            "Requirement already satisfied: frozenlist>=1.1.1 in /usr/local/lib/python3.8/dist-packages (from aiohttp!=4.0.0a0,!=4.0.0a1->fsspec[http]>2021.06.0->pytorch-lightning<1.10.0,>=1.7.0->-r /content/anomal/requirements/base.txt (line 12)) (1.3.3)\n",
            "Requirement already satisfied: charset-normalizer<4.0,>=2.0 in /usr/local/lib/python3.8/dist-packages (from aiohttp!=4.0.0a0,!=4.0.0a1->fsspec[http]>2021.06.0->pytorch-lightning<1.10.0,>=1.7.0->-r /content/anomal/requirements/base.txt (line 12)) (3.0.1)\n",
            "Requirement already satisfied: attrs>=17.3.0 in /usr/local/lib/python3.8/dist-packages (from aiohttp!=4.0.0a0,!=4.0.0a1->fsspec[http]>2021.06.0->pytorch-lightning<1.10.0,>=1.7.0->-r /content/anomal/requirements/base.txt (line 12)) (22.2.0)\n",
            "Requirement already satisfied: async-timeout<5.0,>=4.0.0a3 in /usr/local/lib/python3.8/dist-packages (from aiohttp!=4.0.0a0,!=4.0.0a1->fsspec[http]>2021.06.0->pytorch-lightning<1.10.0,>=1.7.0->-r /content/anomal/requirements/base.txt (line 12)) (4.0.2)\n",
            "Requirement already satisfied: yarl<2.0,>=1.0 in /usr/local/lib/python3.8/dist-packages (from aiohttp!=4.0.0a0,!=4.0.0a1->fsspec[http]>2021.06.0->pytorch-lightning<1.10.0,>=1.7.0->-r /content/anomal/requirements/base.txt (line 12)) (1.8.2)\n",
            "Requirement already satisfied: aiosignal>=1.1.2 in /usr/local/lib/python3.8/dist-packages (from aiohttp!=4.0.0a0,!=4.0.0a1->fsspec[http]>2021.06.0->pytorch-lightning<1.10.0,>=1.7.0->-r /content/anomal/requirements/base.txt (line 12)) (1.3.1)\n",
            "Requirement already satisfied: zipp>=3.1.0 in /usr/local/lib/python3.8/dist-packages (from importlib-resources>=1.4.0->typeshed-client>=2.1.0->jsonargparse[signatures]>=4.3->-r /content/anomal/requirements/base.txt (line 6)) (3.15.0)\n",
            "Requirement already satisfied: joblib>=1.1.1 in /usr/local/lib/python3.8/dist-packages (from scikit-learn>=0.19.1->qudida>=0.0.4->albumentations>=1.1.0->-r /content/anomal/requirements/base.txt (line 1)) (1.2.0)\n",
            "Requirement already satisfied: threadpoolctl>=2.0.0 in /usr/local/lib/python3.8/dist-packages (from scikit-learn>=0.19.1->qudida>=0.0.4->albumentations>=1.1.0->-r /content/anomal/requirements/base.txt (line 1)) (3.1.0)\n",
            "Building wheels for collected packages: freia, antlr4-python3-runtime\n",
            "  Building wheel for freia (setup.py) ... \u001b[?25l\u001b[?25hdone\n",
            "  Created wheel for freia: filename=FrEIA-0.2-py3-none-any.whl size=42782 sha256=32d810e5c65ba341dabc8edfa21a8afa065944b2a7b530cb122bf6493d3fbc19\n",
            "  Stored in directory: /root/.cache/pip/wheels/eb/ca/3d/997eff7a352005224fda9020c8b6bbb50c66523f6d6e9d448e\n",
            "  Building wheel for antlr4-python3-runtime (setup.py) ... \u001b[?25l\u001b[?25hdone\n",
            "  Created wheel for antlr4-python3-runtime: filename=antlr4_python3_runtime-4.9.3-py3-none-any.whl size=144575 sha256=9f92391c4606dd620af8d5da4ec5bc27bed1c3037e8c5f41d0382f04150465c8\n",
            "  Stored in directory: /root/.cache/pip/wheels/b1/a3/c2/6df046c09459b73cc9bb6c4401b0be6c47048baf9a1617c485\n",
            "Successfully built freia antlr4-python3-runtime\n",
            "Installing collected packages: av, antlr4-python3-runtime, omegaconf, lightning-utilities, jsonargparse, einops, docstring-parser, typeshed-client, torchmetrics, kornia, huggingface-hub, freia, timm, pytorch-lightning\n",
            "Successfully installed antlr4-python3-runtime-4.9.3 av-10.0.0 docstring-parser-0.15 einops-0.6.0 freia-0.2 huggingface-hub-0.12.1 jsonargparse-4.20.0 kornia-0.6.9 lightning-utilities-0.7.1 omegaconf-2.3.0 pytorch-lightning-1.9.4 timm-0.6.12 torchmetrics-0.10.3 typeshed-client-2.2.0\n"
          ]
        },
        {
          "output_type": "display_data",
          "data": {
            "application/vnd.colab-display-data+json": {
              "pip_warning": {
                "packages": [
                  "pydevd_plugins"
                ]
              }
            }
          },
          "metadata": {}
        }
      ]
    },
    {
      "cell_type": "code",
      "source": [
        "!pip install -r /content/anomal/requirements/openvino.txt"
      ],
      "metadata": {
        "colab": {
          "base_uri": "https://localhost:8080/"
        },
        "id": "nHxDBx9CdQwt",
        "outputId": "140ce2a5-02cd-430b-e18f-851fb79dcb46"
      },
      "execution_count": 18,
      "outputs": [
        {
          "output_type": "stream",
          "name": "stdout",
          "text": [
            "Looking in indexes: https://pypi.org/simple, https://us-python.pkg.dev/colab-wheels/public/simple/\n",
            "Requirement already satisfied: defusedxml==0.7.1 in /usr/local/lib/python3.8/dist-packages (from -r /content/anomal/requirements/openvino.txt (line 1)) (0.7.1)\n",
            "Collecting requests==2.26.0\n",
            "  Downloading requests-2.26.0-py2.py3-none-any.whl (62 kB)\n",
            "\u001b[2K     \u001b[90m━━━━━━━━━━━━━━━━━━━━━━━━━━━━━━━━━━━━━━━━\u001b[0m \u001b[32m62.3/62.3 KB\u001b[0m \u001b[31m2.9 MB/s\u001b[0m eta \u001b[36m0:00:00\u001b[0m\n",
            "\u001b[?25hCollecting networkx~=2.5\n",
            "  Downloading networkx-2.8.8-py3-none-any.whl (2.0 MB)\n",
            "\u001b[2K     \u001b[90m━━━━━━━━━━━━━━━━━━━━━━━━━━━━━━━━━━━━━━━━\u001b[0m \u001b[32m2.0/2.0 MB\u001b[0m \u001b[31m33.8 MB/s\u001b[0m eta \u001b[36m0:00:00\u001b[0m\n",
            "\u001b[?25hCollecting nncf>=2.1.0\n",
            "  Downloading nncf-2.4.0-py3-none-any.whl (904 kB)\n",
            "\u001b[2K     \u001b[90m━━━━━━━━━━━━━━━━━━━━━━━━━━━━━━━━━━━━━━\u001b[0m \u001b[32m904.5/904.5 KB\u001b[0m \u001b[31m73.2 MB/s\u001b[0m eta \u001b[36m0:00:00\u001b[0m\n",
            "\u001b[?25hCollecting onnx>=1.10.1\n",
            "  Downloading onnx-1.13.1-cp38-cp38-manylinux_2_17_x86_64.manylinux2014_x86_64.whl (13.5 MB)\n",
            "\u001b[2K     \u001b[90m━━━━━━━━━━━━━━━━━━━━━━━━━━━━━━━━━━━━━━━━\u001b[0m \u001b[32m13.5/13.5 MB\u001b[0m \u001b[31m93.9 MB/s\u001b[0m eta \u001b[36m0:00:00\u001b[0m\n",
            "\u001b[?25hCollecting openvino-dev>=2022.3.0\n",
            "  Downloading openvino_dev-2022.3.0-9052-py3-none-any.whl (5.8 MB)\n",
            "\u001b[2K     \u001b[90m━━━━━━━━━━━━━━━━━━━━━━━━━━━━━━━━━━━━━━━━\u001b[0m \u001b[32m5.8/5.8 MB\u001b[0m \u001b[31m102.4 MB/s\u001b[0m eta \u001b[36m0:00:00\u001b[0m\n",
            "\u001b[?25hRequirement already satisfied: certifi>=2017.4.17 in /usr/local/lib/python3.8/dist-packages (from requests==2.26.0->-r /content/anomal/requirements/openvino.txt (line 2)) (2022.12.7)\n",
            "Collecting charset-normalizer~=2.0.0\n",
            "  Downloading charset_normalizer-2.0.12-py3-none-any.whl (39 kB)\n",
            "Requirement already satisfied: urllib3<1.27,>=1.21.1 in /usr/local/lib/python3.8/dist-packages (from requests==2.26.0->-r /content/anomal/requirements/openvino.txt (line 2)) (1.26.14)\n",
            "Requirement already satisfied: idna<4,>=2.5 in /usr/local/lib/python3.8/dist-packages (from requests==2.26.0->-r /content/anomal/requirements/openvino.txt (line 2)) (2.10)\n",
            "Requirement already satisfied: jsonschema>=3.2.0 in /usr/local/lib/python3.8/dist-packages (from nncf>=2.1.0->-r /content/anomal/requirements/openvino.txt (line 4)) (4.3.3)\n",
            "Collecting ninja<1.11,>=1.10.0.post2\n",
            "  Downloading ninja-1.10.2.4-py2.py3-none-manylinux_2_5_x86_64.manylinux1_x86_64.whl (120 kB)\n",
            "\u001b[2K     \u001b[90m━━━━━━━━━━━━━━━━━━━━━━━━━━━━━━━━━━━━━━\u001b[0m \u001b[32m120.7/120.7 KB\u001b[0m \u001b[31m20.1 MB/s\u001b[0m eta \u001b[36m0:00:00\u001b[0m\n",
            "\u001b[?25hRequirement already satisfied: numpy<1.24,>=1.19.1 in /usr/local/lib/python3.8/dist-packages (from nncf>=2.1.0->-r /content/anomal/requirements/openvino.txt (line 4)) (1.22.4)\n",
            "Collecting pydot>=1.4.1\n",
            "  Downloading pydot-1.4.2-py2.py3-none-any.whl (21 kB)\n",
            "Requirement already satisfied: scikit-learn>=0.24.0 in /usr/local/lib/python3.8/dist-packages (from nncf>=2.1.0->-r /content/anomal/requirements/openvino.txt (line 4)) (1.2.1)\n",
            "Collecting scipy<=1.10.0,>=1.3.2\n",
            "  Downloading scipy-1.10.0-cp38-cp38-manylinux_2_17_x86_64.manylinux2014_x86_64.whl (34.5 MB)\n",
            "\u001b[2K     \u001b[90m━━━━━━━━━━━━━━━━━━━━━━━━━━━━━━━━━━━━━━━━\u001b[0m \u001b[32m34.5/34.5 MB\u001b[0m \u001b[31m45.3 MB/s\u001b[0m eta \u001b[36m0:00:00\u001b[0m\n",
            "\u001b[?25hCollecting jstyleson>=0.0.2\n",
            "  Downloading jstyleson-0.0.2.tar.gz (2.0 kB)\n",
            "  Preparing metadata (setup.py) ... \u001b[?25l\u001b[?25hdone\n",
            "Requirement already satisfied: tqdm>=4.54.1 in /usr/local/lib/python3.8/dist-packages (from nncf>=2.1.0->-r /content/anomal/requirements/openvino.txt (line 4)) (4.64.1)\n",
            "Requirement already satisfied: pandas<=1.5.2,>=1.1.5 in /usr/local/lib/python3.8/dist-packages (from nncf>=2.1.0->-r /content/anomal/requirements/openvino.txt (line 4)) (1.3.5)\n",
            "Collecting pymoo==0.5.0\n",
            "  Downloading pymoo-0.5.0-cp38-cp38-manylinux_2_5_x86_64.manylinux1_x86_64.manylinux_2_12_x86_64.manylinux2010_x86_64.whl (2.7 MB)\n",
            "\u001b[2K     \u001b[90m━━━━━━━━━━━━━━━━━━━━━━━━━━━━━━━━━━━━━━━━\u001b[0m \u001b[32m2.7/2.7 MB\u001b[0m \u001b[31m97.4 MB/s\u001b[0m eta \u001b[36m0:00:00\u001b[0m\n",
            "\u001b[?25hCollecting texttable>=1.6.3\n",
            "  Downloading texttable-1.6.7-py2.py3-none-any.whl (10 kB)\n",
            "Collecting networkx~=2.5\n",
            "  Downloading networkx-2.8.2-py3-none-any.whl (2.0 MB)\n",
            "\u001b[2K     \u001b[90m━━━━━━━━━━━━━━━━━━━━━━━━━━━━━━━━━━━━━━━━\u001b[0m \u001b[32m2.0/2.0 MB\u001b[0m \u001b[31m98.9 MB/s\u001b[0m eta \u001b[36m0:00:00\u001b[0m\n",
            "\u001b[?25hCollecting openvino-telemetry\n",
            "  Downloading openvino_telemetry-2022.3.0-py3-none-any.whl (20 kB)\n",
            "Collecting pyparsing<3.0\n",
            "  Downloading pyparsing-2.4.7-py2.py3-none-any.whl (67 kB)\n",
            "\u001b[2K     \u001b[90m━━━━━━━━━━━━━━━━━━━━━━━━━━━━━━━━━━━━━━━━\u001b[0m \u001b[32m67.8/67.8 KB\u001b[0m \u001b[31m11.2 MB/s\u001b[0m eta \u001b[36m0:00:00\u001b[0m\n",
            "\u001b[?25hCollecting natsort>=7.1.0\n",
            "  Downloading natsort-8.3.1-py3-none-any.whl (38 kB)\n",
            "Collecting cma==2.7\n",
            "  Downloading cma-2.7.0-py2.py3-none-any.whl (239 kB)\n",
            "\u001b[2K     \u001b[90m━━━━━━━━━━━━━━━━━━━━━━━━━━━━━━━━━━━━━━\u001b[0m \u001b[32m239.1/239.1 KB\u001b[0m \u001b[31m33.7 MB/s\u001b[0m eta \u001b[36m0:00:00\u001b[0m\n",
            "\u001b[?25hRequirement already satisfied: matplotlib>=3 in /usr/local/lib/python3.8/dist-packages (from pymoo==0.5.0->nncf>=2.1.0->-r /content/anomal/requirements/openvino.txt (line 4)) (3.5.3)\n",
            "Requirement already satisfied: autograd>=1.3 in /usr/local/lib/python3.8/dist-packages (from pymoo==0.5.0->nncf>=2.1.0->-r /content/anomal/requirements/openvino.txt (line 4)) (1.5)\n",
            "Collecting protobuf<4,>=3.20.2\n",
            "  Downloading protobuf-3.20.3-cp38-cp38-manylinux_2_5_x86_64.manylinux1_x86_64.whl (1.0 MB)\n",
            "\u001b[2K     \u001b[90m━━━━━━━━━━━━━━━━━━━━━━━━━━━━━━━━━━━━━━━━\u001b[0m \u001b[32m1.0/1.0 MB\u001b[0m \u001b[31m71.4 MB/s\u001b[0m eta \u001b[36m0:00:00\u001b[0m\n",
            "\u001b[?25hRequirement already satisfied: typing-extensions>=3.6.2.1 in /usr/local/lib/python3.8/dist-packages (from onnx>=1.10.1->-r /content/anomal/requirements/openvino.txt (line 5)) (4.5.0)\n",
            "Requirement already satisfied: pillow>=8.1.2 in /usr/local/lib/python3.8/dist-packages (from openvino-dev>=2022.3.0->-r /content/anomal/requirements/openvino.txt (line 6)) (8.4.0)\n",
            "Requirement already satisfied: pyyaml>=5.4.1 in /usr/local/lib/python3.8/dist-packages (from openvino-dev>=2022.3.0->-r /content/anomal/requirements/openvino.txt (line 6)) (6.0)\n",
            "Collecting openvino==2022.3.0\n",
            "  Downloading openvino-2022.3.0-9052-cp38-cp38-manylinux_2_17_x86_64.whl (36.4 MB)\n",
            "\u001b[2K     \u001b[90m━━━━━━━━━━━━━━━━━━━━━━━━━━━━━━━━━━━━━━━━\u001b[0m \u001b[32m36.4/36.4 MB\u001b[0m \u001b[31m14.3 MB/s\u001b[0m eta \u001b[36m0:00:00\u001b[0m\n",
            "\u001b[?25hRequirement already satisfied: opencv-python>=4.5 in /usr/local/lib/python3.8/dist-packages (from openvino-dev>=2022.3.0->-r /content/anomal/requirements/openvino.txt (line 6)) (4.6.0.66)\n",
            "Collecting addict>=2.4.0\n",
            "  Downloading addict-2.4.0-py3-none-any.whl (3.8 kB)\n",
            "Requirement already satisfied: importlib-resources>=1.4.0 in /usr/local/lib/python3.8/dist-packages (from jsonschema>=3.2.0->nncf>=2.1.0->-r /content/anomal/requirements/openvino.txt (line 4)) (5.12.0)\n",
            "Requirement already satisfied: pyrsistent!=0.17.0,!=0.17.1,!=0.17.2,>=0.14.0 in /usr/local/lib/python3.8/dist-packages (from jsonschema>=3.2.0->nncf>=2.1.0->-r /content/anomal/requirements/openvino.txt (line 4)) (0.19.3)\n",
            "Requirement already satisfied: attrs>=17.4.0 in /usr/local/lib/python3.8/dist-packages (from jsonschema>=3.2.0->nncf>=2.1.0->-r /content/anomal/requirements/openvino.txt (line 4)) (22.2.0)\n",
            "Requirement already satisfied: pytz>=2017.3 in /usr/local/lib/python3.8/dist-packages (from pandas<=1.5.2,>=1.1.5->nncf>=2.1.0->-r /content/anomal/requirements/openvino.txt (line 4)) (2022.7.1)\n",
            "Requirement already satisfied: python-dateutil>=2.7.3 in /usr/local/lib/python3.8/dist-packages (from pandas<=1.5.2,>=1.1.5->nncf>=2.1.0->-r /content/anomal/requirements/openvino.txt (line 4)) (2.8.2)\n",
            "Requirement already satisfied: joblib>=1.1.1 in /usr/local/lib/python3.8/dist-packages (from scikit-learn>=0.24.0->nncf>=2.1.0->-r /content/anomal/requirements/openvino.txt (line 4)) (1.2.0)\n",
            "Requirement already satisfied: threadpoolctl>=2.0.0 in /usr/local/lib/python3.8/dist-packages (from scikit-learn>=0.24.0->nncf>=2.1.0->-r /content/anomal/requirements/openvino.txt (line 4)) (3.1.0)\n",
            "Requirement already satisfied: future>=0.15.2 in /usr/local/lib/python3.8/dist-packages (from autograd>=1.3->pymoo==0.5.0->nncf>=2.1.0->-r /content/anomal/requirements/openvino.txt (line 4)) (0.16.0)\n",
            "Requirement already satisfied: zipp>=3.1.0 in /usr/local/lib/python3.8/dist-packages (from importlib-resources>=1.4.0->jsonschema>=3.2.0->nncf>=2.1.0->-r /content/anomal/requirements/openvino.txt (line 4)) (3.15.0)\n",
            "Requirement already satisfied: packaging>=20.0 in /usr/local/lib/python3.8/dist-packages (from matplotlib>=3->pymoo==0.5.0->nncf>=2.1.0->-r /content/anomal/requirements/openvino.txt (line 4)) (23.0)\n",
            "Requirement already satisfied: cycler>=0.10 in /usr/local/lib/python3.8/dist-packages (from matplotlib>=3->pymoo==0.5.0->nncf>=2.1.0->-r /content/anomal/requirements/openvino.txt (line 4)) (0.11.0)\n",
            "Requirement already satisfied: fonttools>=4.22.0 in /usr/local/lib/python3.8/dist-packages (from matplotlib>=3->pymoo==0.5.0->nncf>=2.1.0->-r /content/anomal/requirements/openvino.txt (line 4)) (4.38.0)\n",
            "Requirement already satisfied: kiwisolver>=1.0.1 in /usr/local/lib/python3.8/dist-packages (from matplotlib>=3->pymoo==0.5.0->nncf>=2.1.0->-r /content/anomal/requirements/openvino.txt (line 4)) (1.4.4)\n",
            "Requirement already satisfied: six>=1.5 in /usr/local/lib/python3.8/dist-packages (from python-dateutil>=2.7.3->pandas<=1.5.2,>=1.1.5->nncf>=2.1.0->-r /content/anomal/requirements/openvino.txt (line 4)) (1.15.0)\n",
            "Building wheels for collected packages: jstyleson\n",
            "  Building wheel for jstyleson (setup.py) ... \u001b[?25l\u001b[?25hdone\n",
            "  Created wheel for jstyleson: filename=jstyleson-0.0.2-py3-none-any.whl size=2401 sha256=0ebabc614cd9fed787d0efdb69ae1b1fb1a0ebceb12cafbea71573dd1012ad9a\n",
            "  Stored in directory: /root/.cache/pip/wheels/c6/3a/8e/dad087c08bb0e4c94d03433ccc0972ee29707dff8e6c5f5e1b\n",
            "Successfully built jstyleson\n",
            "Installing collected packages: texttable, ninja, jstyleson, cma, addict, scipy, pyparsing, protobuf, openvino, networkx, natsort, charset-normalizer, requests, pydot, onnx, pymoo, openvino-telemetry, openvino-dev, nncf\n",
            "  Attempting uninstall: scipy\n",
            "    Found existing installation: scipy 1.10.1\n",
            "    Uninstalling scipy-1.10.1:\n",
            "      Successfully uninstalled scipy-1.10.1\n",
            "  Attempting uninstall: pyparsing\n",
            "    Found existing installation: pyparsing 3.0.9\n",
            "    Uninstalling pyparsing-3.0.9:\n",
            "      Successfully uninstalled pyparsing-3.0.9\n",
            "  Attempting uninstall: protobuf\n",
            "    Found existing installation: protobuf 3.19.6\n",
            "    Uninstalling protobuf-3.19.6:\n",
            "      Successfully uninstalled protobuf-3.19.6\n",
            "  Attempting uninstall: networkx\n",
            "    Found existing installation: networkx 3.0\n",
            "    Uninstalling networkx-3.0:\n",
            "      Successfully uninstalled networkx-3.0\n",
            "  Attempting uninstall: natsort\n",
            "    Found existing installation: natsort 5.5.0\n",
            "    Uninstalling natsort-5.5.0:\n",
            "      Successfully uninstalled natsort-5.5.0\n",
            "  Attempting uninstall: charset-normalizer\n",
            "    Found existing installation: charset-normalizer 3.0.1\n",
            "    Uninstalling charset-normalizer-3.0.1:\n",
            "      Successfully uninstalled charset-normalizer-3.0.1\n",
            "  Attempting uninstall: requests\n",
            "    Found existing installation: requests 2.25.1\n",
            "    Uninstalling requests-2.25.1:\n",
            "      Successfully uninstalled requests-2.25.1\n",
            "  Attempting uninstall: pydot\n",
            "    Found existing installation: pydot 1.3.0\n",
            "    Uninstalling pydot-1.3.0:\n",
            "      Successfully uninstalled pydot-1.3.0\n",
            "\u001b[31mERROR: pip's dependency resolver does not currently take into account all the packages that are installed. This behaviour is the source of the following dependency conflicts.\n",
            "tensorflow 2.11.0 requires protobuf<3.20,>=3.9.2, but you have protobuf 3.20.3 which is incompatible.\u001b[0m\u001b[31m\n",
            "\u001b[0mSuccessfully installed addict-2.4.0 charset-normalizer-2.0.12 cma-2.7.0 jstyleson-0.0.2 natsort-8.3.1 networkx-2.8.2 ninja-1.10.2.4 nncf-2.4.0 onnx-1.13.1 openvino-2022.3.0 openvino-dev-2022.3.0 openvino-telemetry-2022.3.0 protobuf-3.20.3 pydot-1.4.2 pymoo-0.5.0 pyparsing-2.4.7 requests-2.26.0 scipy-1.10.0 texttable-1.6.7\n"
          ]
        }
      ]
    },
    {
      "cell_type": "code",
      "source": [
        "import numpy as np\n",
        "import matplotlib.pyplot as plt\n",
        "import os\n",
        "import yaml\n",
        "import random\n",
        "import pprint\n",
        "import glob\n",
        "import cv2\n",
        "from google.colab.patches import cv2_imshow"
      ],
      "metadata": {
        "id": "yEiI-BWSe01N"
      },
      "execution_count": 22,
      "outputs": []
    },
    {
      "cell_type": "code",
      "source": [
        "# a simple function to visualize the model's prediction (anomaly heatmap)\n",
        "def vis(paths, n_images, is_random=True, figsize=(16, 16)):\n",
        "    for i in range(n_images):\n",
        "        image_name = paths[i]\n",
        "        if is_random: image_name = random.choice(paths)\n",
        "        img = cv2.imread(image_name)[:,:,::-1]\n",
        "        \n",
        "        category_type = image_name.split('/')[-4:-3:][0]\n",
        "        defected_type = image_name.split('/')[-2:-1:][0]\n",
        "        \n",
        "        plt.figure(figsize=figsize)\n",
        "        plt.imshow(img)\n",
        "        plt.title(\n",
        "            f\"Category : {category_type} and Defected Type : {defected_type}\", \n",
        "            fontdict={'fontsize': 20, 'fontweight': 'medium'}\n",
        "        )\n",
        "        plt.xticks([])\n",
        "        plt.yticks([])\n",
        "        plt.tight_layout()\n",
        "    plt.show()"
      ],
      "metadata": {
        "id": "dkd0nTnpeqSQ"
      },
      "execution_count": 23,
      "outputs": []
    },
    {
      "cell_type": "markdown",
      "source": [
        "# cfa"
      ],
      "metadata": {
        "id": "nliJ_ukEeng9"
      }
    },
    {
      "cell_type": "code",
      "source": [
        "!python3 tools/train.py --config /content/anomal/configs/laptop_cfa.yaml"
      ],
      "metadata": {
        "colab": {
          "base_uri": "https://localhost:8080/"
        },
        "id": "cCukS3sqdXgO",
        "outputId": "6690bde9-10e6-4a83-b548-48202dfa9068"
      },
      "execution_count": null,
      "outputs": [
        {
          "output_type": "stream",
          "name": "stdout",
          "text": [
            "To use wandb logger install it using `pip install wandb`\n",
            "/usr/local/lib/python3.8/dist-packages/anomalib/config/config.py:238: UserWarning: The seed value is now fixed to 0. Up to v0.3.7, the seed was not fixed when the seed value was set to 0. If you want to use the random seed, please select `None` for the seed value (`null` in the YAML file) or remove the `seed` key from the YAML file.\n",
            "  warn(\n",
            "/usr/local/lib/python3.8/dist-packages/anomalib/config/config.py:275: UserWarning: config.project.unique_dir is set to False. This does not ensure that your results will be written in an empty directory and you may overwrite files.\n",
            "  warn(\n",
            "/usr/local/lib/python3.8/dist-packages/anomalib/config/config.py:299: DeprecationWarning: adaptive will be deprecated in favor of method in config.metrics.threshold in a future release\n",
            "  warn(\n",
            "/usr/local/lib/python3.8/dist-packages/anomalib/config/config.py:306: DeprecationWarning: image_default will be deprecated in favor of manual_image in config.metrics.threshold in a future release.\n",
            "  warn(\n",
            "/usr/local/lib/python3.8/dist-packages/anomalib/config/config.py:316: DeprecationWarning: pixel_default will be deprecated in favor of manual_pixel in config.metrics.threshold in a future release.\n",
            "  warn(\n",
            "Global seed set to 0\n",
            "2023-03-06 06:09:34,487 - anomalib.data - INFO - Loading the datamodule\n",
            "2023-03-06 06:09:34,488 - anomalib.data.utils.transform - INFO - No config file has been provided. Using default transforms.\n",
            "2023-03-06 06:09:34,488 - anomalib.data.utils.transform - INFO - No config file has been provided. Using default transforms.\n",
            "2023-03-06 06:09:34,488 - anomalib.models - INFO - Loading the model.\n",
            "2023-03-06 06:09:34,489 - anomalib.models.components.base.anomaly_module - INFO - Initializing CfaLightning model.\n",
            "/usr/local/lib/python3.8/dist-packages/torchmetrics/utilities/prints.py:36: DeprecationWarning: From v0.10 an `'Binary*'`, `'Multiclass*', `'Multilabel*'` version now exist of each classification metric. Moving forward we recommend using these versions. This base metric will still work as it did prior to v0.10 until v0.11. From v0.11 the `task` argument introduced in this metric will be required and the general order of arguments may change, such that this metric will just function as an single entrypoint to calling the three specialized versions.\n",
            "  warnings.warn(*args, **kwargs)\n",
            "/usr/local/lib/python3.8/dist-packages/torchmetrics/utilities/prints.py:36: UserWarning: Metric `PrecisionRecallCurve` will save all targets and predictions in buffer. For large datasets this may lead to large memory footprint.\n",
            "  warnings.warn(*args, **kwargs)\n",
            "/usr/local/lib/python3.8/dist-packages/torchvision/models/_utils.py:208: UserWarning: The parameter 'pretrained' is deprecated since 0.13 and may be removed in the future, please use 'weights' instead.\n",
            "  warnings.warn(\n",
            "/usr/local/lib/python3.8/dist-packages/torchvision/models/_utils.py:223: UserWarning: Arguments other than a weight enum or `None` for 'weights' are deprecated since 0.13 and may be removed in the future. The current behavior is equivalent to passing `weights=Wide_ResNet50_2_Weights.IMAGENET1K_V1`. You can also use `weights=Wide_ResNet50_2_Weights.DEFAULT` to get the most up-to-date weights.\n",
            "  warnings.warn(msg)\n",
            "2023-03-06 06:09:37,192 - anomalib.utils.loggers - INFO - Loading the experiment logger(s)\n",
            "2023-03-06 06:09:37,193 - anomalib.utils.callbacks - INFO - Loading the callbacks\n",
            "/usr/local/lib/python3.8/dist-packages/anomalib/utils/callbacks/__init__.py:142: UserWarning: Export option: None not found. Defaulting to no model export\n",
            "  warnings.warn(f\"Export option: {config.optimization.export_mode} not found. Defaulting to no model export\")\n",
            "2023-03-06 06:09:37,918 - pytorch_lightning.utilities.rank_zero - INFO - GPU available: False, used: False\n",
            "2023-03-06 06:09:37,918 - pytorch_lightning.utilities.rank_zero - INFO - TPU available: False, using: 0 TPU cores\n",
            "2023-03-06 06:09:37,918 - pytorch_lightning.utilities.rank_zero - INFO - IPU available: False, using: 0 IPUs\n",
            "2023-03-06 06:09:37,918 - pytorch_lightning.utilities.rank_zero - INFO - HPU available: False, using: 0 HPUs\n",
            "2023-03-06 06:09:37,918 - pytorch_lightning.utilities.rank_zero - INFO - `Trainer(limit_train_batches=1.0)` was configured so 100% of the batches per epoch will be used..\n",
            "2023-03-06 06:09:37,918 - pytorch_lightning.utilities.rank_zero - INFO - `Trainer(limit_val_batches=1.0)` was configured so 100% of the batches will be used..\n",
            "2023-03-06 06:09:37,918 - pytorch_lightning.utilities.rank_zero - INFO - `Trainer(limit_test_batches=1.0)` was configured so 100% of the batches will be used..\n",
            "2023-03-06 06:09:37,918 - pytorch_lightning.utilities.rank_zero - INFO - `Trainer(limit_predict_batches=1.0)` was configured so 100% of the batches will be used..\n",
            "2023-03-06 06:09:37,918 - pytorch_lightning.utilities.rank_zero - INFO - `Trainer(val_check_interval=1.0)` was configured so validation will run at the end of the training epoch..\n",
            "2023-03-06 06:09:37,918 - anomalib - INFO - Training the model.\n",
            "2023-03-06 06:09:37,929 - anomalib.data.mvtec - INFO - Found the dataset.\n",
            "2023-03-06 06:09:37,999 - anomalib.data.base.datamodule - INFO - No normal test images found. Sampling from training set using a split ratio of 0\n",
            "/usr/local/lib/python3.8/dist-packages/torchmetrics/utilities/prints.py:36: UserWarning: Metric `ROC` will save all targets and predictions in buffer. For large datasets this may lead to large memory footprint.\n",
            "  warnings.warn(*args, **kwargs)\n",
            "2023-03-06 06:09:38,037 - pytorch_lightning.callbacks.model_summary - INFO - \n",
            "  | Name                  | Type                     | Params\n",
            "-------------------------------------------------------------------\n",
            "0 | image_threshold       | AnomalyScoreThreshold    | 0     \n",
            "1 | pixel_threshold       | AnomalyScoreThreshold    | 0     \n",
            "2 | model                 | CfaModel                 | 31.3 M\n",
            "3 | loss                  | CfaLoss                  | 0     \n",
            "4 | image_metrics         | AnomalibMetricCollection | 0     \n",
            "5 | pixel_metrics         | AnomalibMetricCollection | 0     \n",
            "6 | normalization_metrics | MinMax                   | 0     \n",
            "-------------------------------------------------------------------\n",
            "31.3 M    Trainable params\n",
            "0         Non-trainable params\n",
            "31.3 M    Total params\n",
            "125.169   Total estimated model params size (MB)\n",
            "/usr/local/lib/python3.8/dist-packages/torch/utils/data/dataloader.py:554: UserWarning: This DataLoader will create 8 worker processes in total. Our suggested max number of worker in current system is 2, which is smaller than what this DataLoader is going to create. Please be aware that excessive worker creation might get DataLoader running slow or even freeze, lower the worker number to avoid potential slowness/freeze if necessary.\n",
            "  warnings.warn(_create_warning_msg(\n",
            "Training: 0it [00:00, ?it/s]\n",
            "  0% 0/66 [00:00<?, ?it/s]\u001b[A\n",
            "  2% 1/66 [00:07<08:24,  7.77s/it]\u001b[A\n",
            "  3% 2/66 [00:13<06:52,  6.45s/it]\u001b[A\n",
            "  5% 3/66 [00:22<07:57,  7.58s/it]\u001b[A\n",
            "  6% 4/66 [00:28<07:10,  6.95s/it]\u001b[A\n",
            "  8% 5/66 [00:33<06:30,  6.40s/it]\u001b[A\n",
            "  9% 6/66 [00:42<07:12,  7.21s/it]\u001b[A\n",
            " 11% 7/66 [00:48<06:45,  6.87s/it]\u001b[A\n",
            " 12% 8/66 [00:53<06:11,  6.40s/it]\u001b[A\n",
            " 14% 9/66 [01:02<06:49,  7.18s/it]\u001b[A\n",
            " 15% 10/66 [01:08<06:23,  6.84s/it]\u001b[A\n",
            " 17% 11/66 [01:14<05:53,  6.42s/it]\u001b[A\n",
            " 18% 12/66 [01:23<06:23,  7.09s/it]\u001b[A\n",
            " 20% 13/66 [01:29<05:59,  6.78s/it]\u001b[A\n",
            " 21% 14/66 [01:34<05:32,  6.38s/it]\u001b[A\n",
            " 23% 15/66 [01:43<05:57,  7.02s/it]\u001b[A\n",
            " 24% 16/66 [01:49<05:40,  6.81s/it]\u001b[A\n",
            " 26% 17/66 [01:54<05:12,  6.37s/it]\u001b[A\n",
            " 27% 18/66 [02:03<05:35,  7.00s/it]\u001b[A\n",
            " 29% 19/66 [02:09<05:18,  6.77s/it]\u001b[A\n",
            " 30% 20/66 [02:14<04:52,  6.36s/it]\u001b[A\n",
            " 32% 21/66 [02:23<05:13,  6.97s/it]\u001b[A\n",
            " 33% 22/66 [02:29<05:01,  6.85s/it]\u001b[A\n",
            " 35% 23/66 [02:35<04:38,  6.47s/it]\u001b[A\n",
            " 36% 24/66 [02:43<04:57,  7.08s/it]\u001b[A\n",
            " 38% 25/66 [02:50<04:42,  6.88s/it]\u001b[A\n",
            " 39% 26/66 [02:55<04:17,  6.45s/it]\u001b[A\n",
            " 41% 27/66 [03:04<04:34,  7.03s/it]\u001b[A\n",
            " 42% 28/66 [03:10<04:20,  6.86s/it]\u001b[A\n",
            " 44% 29/66 [03:15<03:57,  6.42s/it]\u001b[A\n",
            " 45% 30/66 [03:24<04:09,  6.93s/it]\u001b[A\n",
            " 47% 31/66 [03:30<03:58,  6.82s/it]\u001b[A\n",
            " 48% 32/66 [03:36<03:37,  6.39s/it]\u001b[A\n",
            " 50% 33/66 [03:44<03:49,  6.96s/it]\u001b[A\n",
            " 52% 34/66 [03:50<03:39,  6.86s/it]\u001b[A\n",
            " 53% 35/66 [03:56<03:19,  6.43s/it]\u001b[A\n",
            " 55% 36/66 [04:04<03:27,  6.92s/it]\u001b[A\n",
            " 56% 37/66 [04:11<03:18,  6.84s/it]\u001b[A\n",
            " 58% 38/66 [04:16<02:59,  6.41s/it]\u001b[A\n",
            " 59% 39/66 [04:24<03:04,  6.82s/it]\u001b[A\n",
            " 61% 40/66 [04:31<02:57,  6.83s/it]\u001b[A\n",
            " 62% 41/66 [04:36<02:40,  6.42s/it]\u001b[A\n",
            " 64% 42/66 [04:44<02:44,  6.86s/it]\u001b[A\n",
            " 65% 43/66 [04:51<02:37,  6.86s/it]\u001b[A\n",
            " 67% 44/66 [04:56<02:20,  6.41s/it]\u001b[A\n",
            " 68% 45/66 [05:04<02:21,  6.76s/it]\u001b[A\n",
            " 70% 46/66 [05:11<02:18,  6.90s/it]\u001b[A\n",
            " 71% 47/66 [05:17<02:03,  6.49s/it]\u001b[A\n",
            " 73% 48/66 [05:24<02:02,  6.83s/it]\u001b[A\n",
            " 74% 49/66 [05:31<01:57,  6.92s/it]\u001b[A\n",
            " 76% 50/66 [05:37<01:43,  6.45s/it]\u001b[A\n",
            " 77% 51/66 [05:44<01:41,  6.77s/it]\u001b[A\n",
            " 79% 52/66 [05:51<01:35,  6.83s/it]\u001b[A\n",
            " 80% 53/66 [05:56<01:22,  6.37s/it]\u001b[A\n",
            " 82% 54/66 [06:04<01:20,  6.68s/it]\u001b[A\n",
            " 83% 55/66 [06:11<01:15,  6.84s/it]\u001b[A\n",
            " 85% 56/66 [06:16<01:03,  6.39s/it]\u001b[A\n",
            " 86% 57/66 [06:24<00:59,  6.60s/it]\u001b[A\n",
            " 88% 58/66 [06:31<00:54,  6.87s/it]\u001b[A\n",
            " 89% 59/66 [06:36<00:44,  6.42s/it]\u001b[A\n",
            " 91% 60/66 [06:43<00:39,  6.60s/it]\u001b[A\n",
            " 92% 61/66 [06:51<00:34,  6.86s/it]\u001b[A\n",
            " 94% 62/66 [06:56<00:25,  6.37s/it]\u001b[A\n",
            " 95% 63/66 [07:03<00:19,  6.42s/it]\u001b[A\n",
            " 97% 64/66 [07:11<00:13,  6.89s/it]\u001b[A\n",
            " 98% 65/66 [07:16<00:06,  6.42s/it]\u001b[A\n",
            "100% 66/66 [07:19<00:00,  6.65s/it]\n",
            "Epoch 0:  61% 60/99 [21:04<13:41, 21.07s/it, loss=1.06e+03]\n",
            "Validation: 0it [00:00, ?it/s]\u001b[A\n",
            "Validation:   0% 0/33 [00:00<?, ?it/s]\u001b[A\n",
            "Epoch 0:  81% 80/99 [25:57<06:09, 19.46s/it, loss=1.06e+03]\n",
            "Validation DataLoader 0:  61% 20/33 [04:09<02:42, 12.50s/it]\u001b[A\n",
            "Epoch 0: 100% 99/99 [29:48<00:00, 18.07s/it, loss=1.06e+03]/usr/local/lib/python3.8/dist-packages/torchmetrics/utilities/prints.py:36: DeprecationWarning: `torchmetrics.functional.auc` has been move to `torchmetrics.utilities.compute` in v0.10 and will be removed in v0.11.\n",
            "  warnings.warn(*args, **kwargs)\n",
            "Epoch 0: 100% 99/99 [29:56<00:00, 18.15s/it, loss=997, pixel_AUROC=0.955]\n",
            "Epoch 1:  61% 60/99 [21:00<13:39, 21.00s/it, loss=600, pixel_AUROC=0.955]"
          ]
        }
      ]
    },
    {
      "cell_type": "code",
      "source": [
        "RESULT_PATH = ''\n",
        "for content in os.listdir(RESULT_PATH):\n",
        "    if content == 'images':\n",
        "        full_path = glob.glob(os.path.join(RESULT_PATH, content, '**',  '*.png'), recursive=True)\n",
        "        print('Total Image ', len(full_path))\n",
        "        print(full_path[0].split('/'))\n",
        "        print(full_path[0].split('/')[-2:-1:])\n",
        "        print(full_path[0].split('/')[-4:-3:])"
      ],
      "metadata": {
        "id": "DmkSex1EgunB"
      },
      "execution_count": null,
      "outputs": []
    },
    {
      "cell_type": "code",
      "source": [
        "vis(full_path, 10, is_random=True, figsize=(20, 20))"
      ],
      "metadata": {
        "id": "jE8gUYnigzsk"
      },
      "execution_count": null,
      "outputs": []
    },
    {
      "cell_type": "markdown",
      "source": [
        "# padim"
      ],
      "metadata": {
        "id": "f7dDksbXe_0J"
      }
    },
    {
      "cell_type": "code",
      "source": [
        "!python3 tools/train.py --config /content/anomal/configs/laptop_padim.yaml"
      ],
      "metadata": {
        "id": "_46RZTcifkhC"
      },
      "execution_count": null,
      "outputs": []
    },
    {
      "cell_type": "markdown",
      "source": [
        "# dfm"
      ],
      "metadata": {
        "id": "Ra76bnnYe_4k"
      }
    },
    {
      "cell_type": "code",
      "source": [
        "!python3 tools/train.py --config /content/anomal/configs/laptop_dfm.yaml"
      ],
      "metadata": {
        "id": "IpPKkLsmfn_y"
      },
      "execution_count": null,
      "outputs": []
    },
    {
      "cell_type": "markdown",
      "source": [
        "# cflow"
      ],
      "metadata": {
        "id": "A_A_3XYufgVf"
      }
    },
    {
      "cell_type": "code",
      "source": [
        "!python3 tools/train.py --config /content/anomal/configs/laptop_cflow.yaml"
      ],
      "metadata": {
        "id": "wXrvMvv3fofP"
      },
      "execution_count": null,
      "outputs": []
    },
    {
      "cell_type": "markdown",
      "source": [
        "# patchcore"
      ],
      "metadata": {
        "id": "0uGha3qJe_73"
      }
    },
    {
      "cell_type": "code",
      "source": [
        "!python3 tools/train.py --config /content/anomal/configs/laptop_patchcore.yaml"
      ],
      "metadata": {
        "id": "d0hATBR2fpES"
      },
      "execution_count": null,
      "outputs": []
    },
    {
      "cell_type": "markdown",
      "source": [
        "# dfkde"
      ],
      "metadata": {
        "id": "2Wo7V4ymrB3P"
      }
    },
    {
      "cell_type": "code",
      "source": [
        "!python3 tools/train.py --config "
      ],
      "metadata": {
        "id": "8it8G7nOrJMu"
      },
      "execution_count": null,
      "outputs": []
    },
    {
      "cell_type": "markdown",
      "source": [
        "# draem"
      ],
      "metadata": {
        "id": "Ke-H9-uTrB_F"
      }
    },
    {
      "cell_type": "code",
      "source": [
        "!python3 tools/train.py --config "
      ],
      "metadata": {
        "id": "mSgjTGgzrJ2_"
      },
      "execution_count": null,
      "outputs": []
    },
    {
      "cell_type": "markdown",
      "source": [
        "# fastflow"
      ],
      "metadata": {
        "id": "EjHUh3F1rCHX"
      }
    },
    {
      "cell_type": "code",
      "source": [
        "!python3 tools/train.py --config "
      ],
      "metadata": {
        "id": "z79PsV5WrIdj"
      },
      "execution_count": null,
      "outputs": []
    }
  ]
}